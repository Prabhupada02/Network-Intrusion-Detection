{
 "cells": [
  {
   "cell_type": "markdown",
   "metadata": {},
   "source": [
    "# BUSINESS PROBLEM:\n",
    "## Your task to build network intrusion detection system to detect anamolies and attacks in the network.\n",
    "# ---------------------------------------------------------------------------------------------------------------"
   ]
  },
  {
   "cell_type": "code",
   "execution_count": 2,
   "metadata": {},
   "outputs": [],
   "source": [
    "import numpy as np\n",
    "import pandas as pd\n",
    "\n",
    "import matplotlib.pyplot as plt\n",
    "import seaborn as sns\n",
    "%matplotlib inline\n",
    "\n",
    "from sklearn import metrics\n",
    "from sklearn.preprocessing import StandardScaler, LabelEncoder\n",
    "\n",
    "from sklearn.feature_selection import RFE\n",
    "from statsmodels.stats.outliers_influence import variance_inflation_factor\n",
    "from patsy import dmatrices\n",
    "\n",
    "from imblearn.over_sampling import RandomOverSampler\n",
    "from imblearn.under_sampling import RandomUnderSampler\n",
    "from collections import Counter\n",
    "\n",
    "from sklearn.model_selection import train_test_split, GridSearchCV\n",
    "\n",
    "from sklearn.tree import ExtraTreeClassifier, DecisionTreeClassifier\n",
    "from xgboost import XGBClassifier\n",
    "\n",
    "from sklearn.neighbors import KNeighborsClassifier\n",
    "\n",
    "\n",
    "\n",
    "import warnings\n",
    "warnings.filterwarnings('ignore')\n",
    "\n",
    "pd.set_option('display.max_columns', None)"
   ]
  },
  {
   "cell_type": "code",
   "execution_count": 3,
   "metadata": {},
   "outputs": [],
   "source": [
    "#Writing output data into excel\n",
    "output = pd.ExcelWriter('IDS_output.xlsx')"
   ]
  },
  {
   "cell_type": "markdown",
   "metadata": {},
   "source": [
    "# UDF'S"
   ]
  },
  {
   "cell_type": "code",
   "execution_count": 4,
   "metadata": {},
   "outputs": [],
   "source": [
    "#Function for getting statistical information of continuous variables\n",
    "def continuous_var_summary(x):\n",
    "    return pd.Series([x.count(), x.isnull().sum(), x.sum(), x.mean(), x.median(),  \n",
    "                      x.std(), x.var(), x.min(), x.quantile(0.01), x.quantile(0.99), x.max()], \n",
    "                  index = ['COUNT', 'MISS', 'SUM', 'MEAN','MEDIAN', 'STD', 'VAR', 'MIN', 'P1', \n",
    "                                'P99' ,'MAX'])"
   ]
  },
  {
   "cell_type": "code",
   "execution_count": 5,
   "metadata": {},
   "outputs": [],
   "source": [
    "#Function for getting statistical information of categorical variables\n",
    "def categorical_var_summary(x):\n",
    "    Mode = x.value_counts().sort_values(ascending = False)[0:1].reset_index()\n",
    "    return pd.Series([x.count(), len(np.unique(x)), x.isnull().sum(), Mode.iloc[0, 0], Mode.iloc[0, 1], \n",
    "                      round(((Mode.iloc[0, 1] * 100)/x.count()), 2)], \n",
    "                      index = ['COUNT', 'UNIQUE', 'MISS', 'MODE', 'FREQ', 'PERCENT'])"
   ]
  },
  {
   "cell_type": "code",
   "execution_count": 6,
   "metadata": {},
   "outputs": [],
   "source": [
    "#Function for creating dummy variables\n",
    "def dummy_var(df, col):\n",
    "    dummies = pd.get_dummies(df[col], prefix = col, drop_first = True)\n",
    "    df = pd.concat([df, dummies], axis = 1)\n",
    "    df.drop(col, axis = 1, inplace = True )\n",
    "    return df"
   ]
  },
  {
   "cell_type": "code",
   "execution_count": 7,
   "metadata": {},
   "outputs": [],
   "source": [
    "#Outlier treatment function\n",
    "def outlier_capping(x):\n",
    "    x = x.clip(lower = x.quantile(0.01),upper = x.quantile(0.99))\n",
    "    return x"
   ]
  },
  {
   "cell_type": "markdown",
   "metadata": {},
   "source": [
    "# Importing File"
   ]
  },
  {
   "cell_type": "code",
   "execution_count": 8,
   "metadata": {},
   "outputs": [],
   "source": [
    "#Column names\n",
    "cols = [\"duration\",\"protocol_type\",\"service\",\"flag\",\"src_bytes\",\n",
    "    \"dst_bytes\",\"land\",\"wrong_fragment\",\"urgent\",\"hot\",\"num_failed_logins\",\n",
    "    \"logged_in\",\"num_compromised\",\"root_shell\",\"su_attempted\",\"num_root\",\n",
    "    \"num_file_creations\",\"num_shells\",\"num_access_files\",\"num_outbound_cmds\",\n",
    "    \"is_host_login\",\"is_guest_login\",\"count\",\"srv_count\",\"serror_rate\",\n",
    "    \"srv_serror_rate\",\"rerror_rate\",\"srv_rerror_rate\",\"same_srv_rate\",\n",
    "    \"diff_srv_rate\",\"srv_diff_host_rate\",\"dst_host_count\",\"dst_host_srv_count\",\n",
    "    \"dst_host_same_srv_rate\",\"dst_host_diff_srv_rate\",\"dst_host_same_src_port_rate\",\n",
    "    \"dst_host_srv_diff_host_rate\",\"dst_host_serror_rate\",\"dst_host_srv_serror_rate\",\n",
    "    \"dst_host_rerror_rate\",\"dst_host_srv_rerror_rate\",\"attack\", \"last_flag\"]\n",
    "\n",
    "#Loading Train and Test Dataset\n",
    "train = pd.read_table('Train.txt', sep = ',', names = cols).iloc[:,:-1]\n",
    "test = pd.read_table('Test.txt', sep = ',', names = cols).iloc[:,:-1]"
   ]
  },
  {
   "cell_type": "markdown",
   "metadata": {},
   "source": [
    "# Understanding the data"
   ]
  },
  {
   "cell_type": "code",
   "execution_count": 9,
   "metadata": {},
   "outputs": [
    {
     "data": {
      "text/html": [
       "<div>\n",
       "<style scoped>\n",
       "    .dataframe tbody tr th:only-of-type {\n",
       "        vertical-align: middle;\n",
       "    }\n",
       "\n",
       "    .dataframe tbody tr th {\n",
       "        vertical-align: top;\n",
       "    }\n",
       "\n",
       "    .dataframe thead th {\n",
       "        text-align: right;\n",
       "    }\n",
       "</style>\n",
       "<table border=\"1\" class=\"dataframe\">\n",
       "  <thead>\n",
       "    <tr style=\"text-align: right;\">\n",
       "      <th></th>\n",
       "      <th>duration</th>\n",
       "      <th>protocol_type</th>\n",
       "      <th>service</th>\n",
       "      <th>flag</th>\n",
       "      <th>src_bytes</th>\n",
       "      <th>dst_bytes</th>\n",
       "      <th>land</th>\n",
       "      <th>wrong_fragment</th>\n",
       "      <th>urgent</th>\n",
       "      <th>hot</th>\n",
       "      <th>num_failed_logins</th>\n",
       "      <th>logged_in</th>\n",
       "      <th>num_compromised</th>\n",
       "      <th>root_shell</th>\n",
       "      <th>su_attempted</th>\n",
       "      <th>num_root</th>\n",
       "      <th>num_file_creations</th>\n",
       "      <th>num_shells</th>\n",
       "      <th>num_access_files</th>\n",
       "      <th>num_outbound_cmds</th>\n",
       "      <th>is_host_login</th>\n",
       "      <th>is_guest_login</th>\n",
       "      <th>count</th>\n",
       "      <th>srv_count</th>\n",
       "      <th>serror_rate</th>\n",
       "      <th>srv_serror_rate</th>\n",
       "      <th>rerror_rate</th>\n",
       "      <th>srv_rerror_rate</th>\n",
       "      <th>same_srv_rate</th>\n",
       "      <th>diff_srv_rate</th>\n",
       "      <th>srv_diff_host_rate</th>\n",
       "      <th>dst_host_count</th>\n",
       "      <th>dst_host_srv_count</th>\n",
       "      <th>dst_host_same_srv_rate</th>\n",
       "      <th>dst_host_diff_srv_rate</th>\n",
       "      <th>dst_host_same_src_port_rate</th>\n",
       "      <th>dst_host_srv_diff_host_rate</th>\n",
       "      <th>dst_host_serror_rate</th>\n",
       "      <th>dst_host_srv_serror_rate</th>\n",
       "      <th>dst_host_rerror_rate</th>\n",
       "      <th>dst_host_srv_rerror_rate</th>\n",
       "      <th>attack</th>\n",
       "    </tr>\n",
       "  </thead>\n",
       "  <tbody>\n",
       "    <tr>\n",
       "      <th>0</th>\n",
       "      <td>0</td>\n",
       "      <td>tcp</td>\n",
       "      <td>ftp_data</td>\n",
       "      <td>SF</td>\n",
       "      <td>491</td>\n",
       "      <td>0</td>\n",
       "      <td>0</td>\n",
       "      <td>0</td>\n",
       "      <td>0</td>\n",
       "      <td>0</td>\n",
       "      <td>0</td>\n",
       "      <td>0</td>\n",
       "      <td>0</td>\n",
       "      <td>0</td>\n",
       "      <td>0</td>\n",
       "      <td>0</td>\n",
       "      <td>0</td>\n",
       "      <td>0</td>\n",
       "      <td>0</td>\n",
       "      <td>0</td>\n",
       "      <td>0</td>\n",
       "      <td>0</td>\n",
       "      <td>2</td>\n",
       "      <td>2</td>\n",
       "      <td>0.0</td>\n",
       "      <td>0.0</td>\n",
       "      <td>0.0</td>\n",
       "      <td>0.0</td>\n",
       "      <td>1.00</td>\n",
       "      <td>0.00</td>\n",
       "      <td>0.0</td>\n",
       "      <td>150</td>\n",
       "      <td>25</td>\n",
       "      <td>0.17</td>\n",
       "      <td>0.03</td>\n",
       "      <td>0.17</td>\n",
       "      <td>0.0</td>\n",
       "      <td>0.0</td>\n",
       "      <td>0.0</td>\n",
       "      <td>0.05</td>\n",
       "      <td>0.0</td>\n",
       "      <td>normal</td>\n",
       "    </tr>\n",
       "    <tr>\n",
       "      <th>1</th>\n",
       "      <td>0</td>\n",
       "      <td>udp</td>\n",
       "      <td>other</td>\n",
       "      <td>SF</td>\n",
       "      <td>146</td>\n",
       "      <td>0</td>\n",
       "      <td>0</td>\n",
       "      <td>0</td>\n",
       "      <td>0</td>\n",
       "      <td>0</td>\n",
       "      <td>0</td>\n",
       "      <td>0</td>\n",
       "      <td>0</td>\n",
       "      <td>0</td>\n",
       "      <td>0</td>\n",
       "      <td>0</td>\n",
       "      <td>0</td>\n",
       "      <td>0</td>\n",
       "      <td>0</td>\n",
       "      <td>0</td>\n",
       "      <td>0</td>\n",
       "      <td>0</td>\n",
       "      <td>13</td>\n",
       "      <td>1</td>\n",
       "      <td>0.0</td>\n",
       "      <td>0.0</td>\n",
       "      <td>0.0</td>\n",
       "      <td>0.0</td>\n",
       "      <td>0.08</td>\n",
       "      <td>0.15</td>\n",
       "      <td>0.0</td>\n",
       "      <td>255</td>\n",
       "      <td>1</td>\n",
       "      <td>0.00</td>\n",
       "      <td>0.60</td>\n",
       "      <td>0.88</td>\n",
       "      <td>0.0</td>\n",
       "      <td>0.0</td>\n",
       "      <td>0.0</td>\n",
       "      <td>0.00</td>\n",
       "      <td>0.0</td>\n",
       "      <td>normal</td>\n",
       "    </tr>\n",
       "  </tbody>\n",
       "</table>\n",
       "</div>"
      ],
      "text/plain": [
       "   duration protocol_type   service flag  src_bytes  dst_bytes  land  \\\n",
       "0         0           tcp  ftp_data   SF        491          0     0   \n",
       "1         0           udp     other   SF        146          0     0   \n",
       "\n",
       "   wrong_fragment  urgent  hot  num_failed_logins  logged_in  num_compromised  \\\n",
       "0               0       0    0                  0          0                0   \n",
       "1               0       0    0                  0          0                0   \n",
       "\n",
       "   root_shell  su_attempted  num_root  num_file_creations  num_shells  \\\n",
       "0           0             0         0                   0           0   \n",
       "1           0             0         0                   0           0   \n",
       "\n",
       "   num_access_files  num_outbound_cmds  is_host_login  is_guest_login  count  \\\n",
       "0                 0                  0              0               0      2   \n",
       "1                 0                  0              0               0     13   \n",
       "\n",
       "   srv_count  serror_rate  srv_serror_rate  rerror_rate  srv_rerror_rate  \\\n",
       "0          2          0.0              0.0          0.0              0.0   \n",
       "1          1          0.0              0.0          0.0              0.0   \n",
       "\n",
       "   same_srv_rate  diff_srv_rate  srv_diff_host_rate  dst_host_count  \\\n",
       "0           1.00           0.00                 0.0             150   \n",
       "1           0.08           0.15                 0.0             255   \n",
       "\n",
       "   dst_host_srv_count  dst_host_same_srv_rate  dst_host_diff_srv_rate  \\\n",
       "0                  25                    0.17                    0.03   \n",
       "1                   1                    0.00                    0.60   \n",
       "\n",
       "   dst_host_same_src_port_rate  dst_host_srv_diff_host_rate  \\\n",
       "0                         0.17                          0.0   \n",
       "1                         0.88                          0.0   \n",
       "\n",
       "   dst_host_serror_rate  dst_host_srv_serror_rate  dst_host_rerror_rate  \\\n",
       "0                   0.0                       0.0                  0.05   \n",
       "1                   0.0                       0.0                  0.00   \n",
       "\n",
       "   dst_host_srv_rerror_rate  attack  \n",
       "0                       0.0  normal  \n",
       "1                       0.0  normal  "
      ]
     },
     "execution_count": 9,
     "metadata": {},
     "output_type": "execute_result"
    }
   ],
   "source": [
    "train.head(2)"
   ]
  },
  {
   "cell_type": "code",
   "execution_count": 10,
   "metadata": {},
   "outputs": [
    {
     "name": "stdout",
     "output_type": "stream",
     "text": [
      "<class 'pandas.core.frame.DataFrame'>\n",
      "RangeIndex: 125973 entries, 0 to 125972\n",
      "Data columns (total 42 columns):\n",
      "duration                       125973 non-null int64\n",
      "protocol_type                  125973 non-null object\n",
      "service                        125973 non-null object\n",
      "flag                           125973 non-null object\n",
      "src_bytes                      125973 non-null int64\n",
      "dst_bytes                      125973 non-null int64\n",
      "land                           125973 non-null int64\n",
      "wrong_fragment                 125973 non-null int64\n",
      "urgent                         125973 non-null int64\n",
      "hot                            125973 non-null int64\n",
      "num_failed_logins              125973 non-null int64\n",
      "logged_in                      125973 non-null int64\n",
      "num_compromised                125973 non-null int64\n",
      "root_shell                     125973 non-null int64\n",
      "su_attempted                   125973 non-null int64\n",
      "num_root                       125973 non-null int64\n",
      "num_file_creations             125973 non-null int64\n",
      "num_shells                     125973 non-null int64\n",
      "num_access_files               125973 non-null int64\n",
      "num_outbound_cmds              125973 non-null int64\n",
      "is_host_login                  125973 non-null int64\n",
      "is_guest_login                 125973 non-null int64\n",
      "count                          125973 non-null int64\n",
      "srv_count                      125973 non-null int64\n",
      "serror_rate                    125973 non-null float64\n",
      "srv_serror_rate                125973 non-null float64\n",
      "rerror_rate                    125973 non-null float64\n",
      "srv_rerror_rate                125973 non-null float64\n",
      "same_srv_rate                  125973 non-null float64\n",
      "diff_srv_rate                  125973 non-null float64\n",
      "srv_diff_host_rate             125973 non-null float64\n",
      "dst_host_count                 125973 non-null int64\n",
      "dst_host_srv_count             125973 non-null int64\n",
      "dst_host_same_srv_rate         125973 non-null float64\n",
      "dst_host_diff_srv_rate         125973 non-null float64\n",
      "dst_host_same_src_port_rate    125973 non-null float64\n",
      "dst_host_srv_diff_host_rate    125973 non-null float64\n",
      "dst_host_serror_rate           125973 non-null float64\n",
      "dst_host_srv_serror_rate       125973 non-null float64\n",
      "dst_host_rerror_rate           125973 non-null float64\n",
      "dst_host_srv_rerror_rate       125973 non-null float64\n",
      "attack                         125973 non-null object\n",
      "dtypes: float64(15), int64(23), object(4)\n",
      "memory usage: 40.4+ MB\n"
     ]
    }
   ],
   "source": [
    "train.info()"
   ]
  },
  {
   "cell_type": "code",
   "execution_count": 11,
   "metadata": {},
   "outputs": [
    {
     "data": {
      "text/html": [
       "<div>\n",
       "<style scoped>\n",
       "    .dataframe tbody tr th:only-of-type {\n",
       "        vertical-align: middle;\n",
       "    }\n",
       "\n",
       "    .dataframe tbody tr th {\n",
       "        vertical-align: top;\n",
       "    }\n",
       "\n",
       "    .dataframe thead th {\n",
       "        text-align: right;\n",
       "    }\n",
       "</style>\n",
       "<table border=\"1\" class=\"dataframe\">\n",
       "  <thead>\n",
       "    <tr style=\"text-align: right;\">\n",
       "      <th></th>\n",
       "      <th>duration</th>\n",
       "      <th>protocol_type</th>\n",
       "      <th>service</th>\n",
       "      <th>flag</th>\n",
       "      <th>src_bytes</th>\n",
       "      <th>dst_bytes</th>\n",
       "      <th>land</th>\n",
       "      <th>wrong_fragment</th>\n",
       "      <th>urgent</th>\n",
       "      <th>hot</th>\n",
       "      <th>num_failed_logins</th>\n",
       "      <th>logged_in</th>\n",
       "      <th>num_compromised</th>\n",
       "      <th>root_shell</th>\n",
       "      <th>su_attempted</th>\n",
       "      <th>num_root</th>\n",
       "      <th>num_file_creations</th>\n",
       "      <th>num_shells</th>\n",
       "      <th>num_access_files</th>\n",
       "      <th>num_outbound_cmds</th>\n",
       "      <th>is_host_login</th>\n",
       "      <th>is_guest_login</th>\n",
       "      <th>count</th>\n",
       "      <th>srv_count</th>\n",
       "      <th>serror_rate</th>\n",
       "      <th>srv_serror_rate</th>\n",
       "      <th>rerror_rate</th>\n",
       "      <th>srv_rerror_rate</th>\n",
       "      <th>same_srv_rate</th>\n",
       "      <th>diff_srv_rate</th>\n",
       "      <th>srv_diff_host_rate</th>\n",
       "      <th>dst_host_count</th>\n",
       "      <th>dst_host_srv_count</th>\n",
       "      <th>dst_host_same_srv_rate</th>\n",
       "      <th>dst_host_diff_srv_rate</th>\n",
       "      <th>dst_host_same_src_port_rate</th>\n",
       "      <th>dst_host_srv_diff_host_rate</th>\n",
       "      <th>dst_host_serror_rate</th>\n",
       "      <th>dst_host_srv_serror_rate</th>\n",
       "      <th>dst_host_rerror_rate</th>\n",
       "      <th>dst_host_srv_rerror_rate</th>\n",
       "      <th>attack</th>\n",
       "    </tr>\n",
       "  </thead>\n",
       "  <tbody>\n",
       "    <tr>\n",
       "      <th>0</th>\n",
       "      <td>0</td>\n",
       "      <td>tcp</td>\n",
       "      <td>private</td>\n",
       "      <td>REJ</td>\n",
       "      <td>0</td>\n",
       "      <td>0</td>\n",
       "      <td>0</td>\n",
       "      <td>0</td>\n",
       "      <td>0</td>\n",
       "      <td>0</td>\n",
       "      <td>0</td>\n",
       "      <td>0</td>\n",
       "      <td>0</td>\n",
       "      <td>0</td>\n",
       "      <td>0</td>\n",
       "      <td>0</td>\n",
       "      <td>0</td>\n",
       "      <td>0</td>\n",
       "      <td>0</td>\n",
       "      <td>0</td>\n",
       "      <td>0</td>\n",
       "      <td>0</td>\n",
       "      <td>229</td>\n",
       "      <td>10</td>\n",
       "      <td>0.0</td>\n",
       "      <td>0.0</td>\n",
       "      <td>1.0</td>\n",
       "      <td>1.0</td>\n",
       "      <td>0.04</td>\n",
       "      <td>0.06</td>\n",
       "      <td>0.0</td>\n",
       "      <td>255</td>\n",
       "      <td>10</td>\n",
       "      <td>0.04</td>\n",
       "      <td>0.06</td>\n",
       "      <td>0.0</td>\n",
       "      <td>0.0</td>\n",
       "      <td>0.0</td>\n",
       "      <td>0.0</td>\n",
       "      <td>1.0</td>\n",
       "      <td>1.0</td>\n",
       "      <td>neptune</td>\n",
       "    </tr>\n",
       "    <tr>\n",
       "      <th>1</th>\n",
       "      <td>0</td>\n",
       "      <td>tcp</td>\n",
       "      <td>private</td>\n",
       "      <td>REJ</td>\n",
       "      <td>0</td>\n",
       "      <td>0</td>\n",
       "      <td>0</td>\n",
       "      <td>0</td>\n",
       "      <td>0</td>\n",
       "      <td>0</td>\n",
       "      <td>0</td>\n",
       "      <td>0</td>\n",
       "      <td>0</td>\n",
       "      <td>0</td>\n",
       "      <td>0</td>\n",
       "      <td>0</td>\n",
       "      <td>0</td>\n",
       "      <td>0</td>\n",
       "      <td>0</td>\n",
       "      <td>0</td>\n",
       "      <td>0</td>\n",
       "      <td>0</td>\n",
       "      <td>136</td>\n",
       "      <td>1</td>\n",
       "      <td>0.0</td>\n",
       "      <td>0.0</td>\n",
       "      <td>1.0</td>\n",
       "      <td>1.0</td>\n",
       "      <td>0.01</td>\n",
       "      <td>0.06</td>\n",
       "      <td>0.0</td>\n",
       "      <td>255</td>\n",
       "      <td>1</td>\n",
       "      <td>0.00</td>\n",
       "      <td>0.06</td>\n",
       "      <td>0.0</td>\n",
       "      <td>0.0</td>\n",
       "      <td>0.0</td>\n",
       "      <td>0.0</td>\n",
       "      <td>1.0</td>\n",
       "      <td>1.0</td>\n",
       "      <td>neptune</td>\n",
       "    </tr>\n",
       "  </tbody>\n",
       "</table>\n",
       "</div>"
      ],
      "text/plain": [
       "   duration protocol_type  service flag  src_bytes  dst_bytes  land  \\\n",
       "0         0           tcp  private  REJ          0          0     0   \n",
       "1         0           tcp  private  REJ          0          0     0   \n",
       "\n",
       "   wrong_fragment  urgent  hot  num_failed_logins  logged_in  num_compromised  \\\n",
       "0               0       0    0                  0          0                0   \n",
       "1               0       0    0                  0          0                0   \n",
       "\n",
       "   root_shell  su_attempted  num_root  num_file_creations  num_shells  \\\n",
       "0           0             0         0                   0           0   \n",
       "1           0             0         0                   0           0   \n",
       "\n",
       "   num_access_files  num_outbound_cmds  is_host_login  is_guest_login  count  \\\n",
       "0                 0                  0              0               0    229   \n",
       "1                 0                  0              0               0    136   \n",
       "\n",
       "   srv_count  serror_rate  srv_serror_rate  rerror_rate  srv_rerror_rate  \\\n",
       "0         10          0.0              0.0          1.0              1.0   \n",
       "1          1          0.0              0.0          1.0              1.0   \n",
       "\n",
       "   same_srv_rate  diff_srv_rate  srv_diff_host_rate  dst_host_count  \\\n",
       "0           0.04           0.06                 0.0             255   \n",
       "1           0.01           0.06                 0.0             255   \n",
       "\n",
       "   dst_host_srv_count  dst_host_same_srv_rate  dst_host_diff_srv_rate  \\\n",
       "0                  10                    0.04                    0.06   \n",
       "1                   1                    0.00                    0.06   \n",
       "\n",
       "   dst_host_same_src_port_rate  dst_host_srv_diff_host_rate  \\\n",
       "0                          0.0                          0.0   \n",
       "1                          0.0                          0.0   \n",
       "\n",
       "   dst_host_serror_rate  dst_host_srv_serror_rate  dst_host_rerror_rate  \\\n",
       "0                   0.0                       0.0                   1.0   \n",
       "1                   0.0                       0.0                   1.0   \n",
       "\n",
       "   dst_host_srv_rerror_rate   attack  \n",
       "0                       1.0  neptune  \n",
       "1                       1.0  neptune  "
      ]
     },
     "execution_count": 11,
     "metadata": {},
     "output_type": "execute_result"
    }
   ],
   "source": [
    "test.head(2)"
   ]
  },
  {
   "cell_type": "code",
   "execution_count": 12,
   "metadata": {},
   "outputs": [
    {
     "name": "stdout",
     "output_type": "stream",
     "text": [
      "<class 'pandas.core.frame.DataFrame'>\n",
      "RangeIndex: 22544 entries, 0 to 22543\n",
      "Data columns (total 42 columns):\n",
      "duration                       22544 non-null int64\n",
      "protocol_type                  22544 non-null object\n",
      "service                        22544 non-null object\n",
      "flag                           22544 non-null object\n",
      "src_bytes                      22544 non-null int64\n",
      "dst_bytes                      22544 non-null int64\n",
      "land                           22544 non-null int64\n",
      "wrong_fragment                 22544 non-null int64\n",
      "urgent                         22544 non-null int64\n",
      "hot                            22544 non-null int64\n",
      "num_failed_logins              22544 non-null int64\n",
      "logged_in                      22544 non-null int64\n",
      "num_compromised                22544 non-null int64\n",
      "root_shell                     22544 non-null int64\n",
      "su_attempted                   22544 non-null int64\n",
      "num_root                       22544 non-null int64\n",
      "num_file_creations             22544 non-null int64\n",
      "num_shells                     22544 non-null int64\n",
      "num_access_files               22544 non-null int64\n",
      "num_outbound_cmds              22544 non-null int64\n",
      "is_host_login                  22544 non-null int64\n",
      "is_guest_login                 22544 non-null int64\n",
      "count                          22544 non-null int64\n",
      "srv_count                      22544 non-null int64\n",
      "serror_rate                    22544 non-null float64\n",
      "srv_serror_rate                22544 non-null float64\n",
      "rerror_rate                    22544 non-null float64\n",
      "srv_rerror_rate                22544 non-null float64\n",
      "same_srv_rate                  22544 non-null float64\n",
      "diff_srv_rate                  22544 non-null float64\n",
      "srv_diff_host_rate             22544 non-null float64\n",
      "dst_host_count                 22544 non-null int64\n",
      "dst_host_srv_count             22544 non-null int64\n",
      "dst_host_same_srv_rate         22544 non-null float64\n",
      "dst_host_diff_srv_rate         22544 non-null float64\n",
      "dst_host_same_src_port_rate    22544 non-null float64\n",
      "dst_host_srv_diff_host_rate    22544 non-null float64\n",
      "dst_host_serror_rate           22544 non-null float64\n",
      "dst_host_srv_serror_rate       22544 non-null float64\n",
      "dst_host_rerror_rate           22544 non-null float64\n",
      "dst_host_srv_rerror_rate       22544 non-null float64\n",
      "attack                         22544 non-null object\n",
      "dtypes: float64(15), int64(23), object(4)\n",
      "memory usage: 7.2+ MB\n"
     ]
    }
   ],
   "source": [
    "test.info()"
   ]
  },
  {
   "cell_type": "markdown",
   "metadata": {},
   "source": [
    "# Data Processing"
   ]
  },
  {
   "cell_type": "code",
   "execution_count": 13,
   "metadata": {},
   "outputs": [],
   "source": [
    "#Changing column names\n",
    "train.rename(columns = {'logged_in':'logged'}, inplace = True)\n",
    "test.rename(columns = {'logged_in':'logged'}, inplace = True)"
   ]
  },
  {
   "cell_type": "code",
   "execution_count": 14,
   "metadata": {},
   "outputs": [
    {
     "data": {
      "text/plain": [
       "normal             67343\n",
       "neptune            41214\n",
       "satan               3633\n",
       "ipsweep             3599\n",
       "portsweep           2931\n",
       "smurf               2646\n",
       "nmap                1493\n",
       "back                 956\n",
       "teardrop             892\n",
       "warezclient          890\n",
       "pod                  201\n",
       "guess_passwd          53\n",
       "buffer_overflow       30\n",
       "warezmaster           20\n",
       "land                  18\n",
       "imap                  11\n",
       "rootkit               10\n",
       "loadmodule             9\n",
       "ftp_write              8\n",
       "multihop               7\n",
       "phf                    4\n",
       "perl                   3\n",
       "spy                    2\n",
       "Name: attack, dtype: int64"
      ]
     },
     "execution_count": 14,
     "metadata": {},
     "output_type": "execute_result"
    }
   ],
   "source": [
    "train.attack.value_counts()"
   ]
  },
  {
   "cell_type": "code",
   "execution_count": 15,
   "metadata": {},
   "outputs": [
    {
     "data": {
      "text/plain": [
       "normal             9711\n",
       "neptune            4657\n",
       "guess_passwd       1231\n",
       "mscan               996\n",
       "warezmaster         944\n",
       "apache2             737\n",
       "satan               735\n",
       "processtable        685\n",
       "smurf               665\n",
       "back                359\n",
       "snmpguess           331\n",
       "saint               319\n",
       "mailbomb            293\n",
       "snmpgetattack       178\n",
       "portsweep           157\n",
       "ipsweep             141\n",
       "httptunnel          133\n",
       "nmap                 73\n",
       "pod                  41\n",
       "buffer_overflow      20\n",
       "multihop             18\n",
       "named                17\n",
       "ps                   15\n",
       "sendmail             14\n",
       "rootkit              13\n",
       "xterm                13\n",
       "teardrop             12\n",
       "xlock                 9\n",
       "land                  7\n",
       "xsnoop                4\n",
       "ftp_write             3\n",
       "worm                  2\n",
       "phf                   2\n",
       "loadmodule            2\n",
       "sqlattack             2\n",
       "udpstorm              2\n",
       "perl                  2\n",
       "imap                  1\n",
       "Name: attack, dtype: int64"
      ]
     },
     "execution_count": 15,
     "metadata": {},
     "output_type": "execute_result"
    }
   ],
   "source": [
    "test.attack.value_counts()"
   ]
  },
  {
   "cell_type": "code",
   "execution_count": 16,
   "metadata": {},
   "outputs": [],
   "source": [
    "#Defining Attack Class\n",
    "dos   = ('back', 'land', 'neptune', 'pod', 'smurf', 'teardrop', 'apache2', \n",
    "         'udpstorm', 'processtable', 'worm', 'mailbomb', 'processtable')\n",
    "probe = ('satan', 'ipsweep', 'nmap', 'portsweep', 'mscan', 'saint')\n",
    "r2l   = ('guess_passwd', 'ftp_write', 'imap', 'phf', 'multihop', 'warezmaster', 'warezclient',\n",
    "         'spy', 'xlock', 'xsnoop', 'snmpguess', 'snmpgetattack', 'httptunnel', \n",
    "         'sendmail', 'named')\n",
    "u2r   = ('buffer_overflow', 'loadmodule', 'rootkit', 'perl', 'sqlattack', 'xterm', 'ps')"
   ]
  },
  {
   "cell_type": "markdown",
   "metadata": {},
   "source": [
    "### Monomial Classification"
   ]
  },
  {
   "cell_type": "code",
   "execution_count": 17,
   "metadata": {},
   "outputs": [],
   "source": [
    "#Assigning Attack Class to train and test dataset\n",
    "train['attack_class'] = np.where(train.attack.isin(dos), 'DoS',\n",
    "                                 np.where(train.attack.isin(probe), 'Probe',\n",
    "                                         np.where(train.attack.isin(r2l), 'R2L', \n",
    "                                                 np.where(train.attack.isin(u2r), 'U2R', 'Normal'))))\n",
    "\n",
    "test['attack_class'] = np.where(test.attack.isin(dos), 'DoS',\n",
    "                                 np.where(test.attack.isin(probe), 'Probe',\n",
    "                                         np.where(test.attack.isin(r2l), 'R2L', \n",
    "                                                 np.where(test.attack.isin(u2r), 'U2R', 'Normal'))))"
   ]
  },
  {
   "cell_type": "markdown",
   "metadata": {},
   "source": [
    "### Binomial Classification"
   ]
  },
  {
   "cell_type": "code",
   "execution_count": 18,
   "metadata": {},
   "outputs": [],
   "source": [
    "#Assigning Activity Normal : 0 and Attack : 1 \n",
    "train['activity'] = np.where(train['attack_class'].isin(['DoS', 'Probe', 'R2L', 'U2R']), 1, 0)\n",
    "test['activity'] = np.where(test['attack_class'].isin(['DoS', 'Probe', 'R2L', 'U2R']), 1, 0)"
   ]
  },
  {
   "cell_type": "code",
   "execution_count": 19,
   "metadata": {},
   "outputs": [
    {
     "data": {
      "text/plain": [
       "0    67343\n",
       "1    58630\n",
       "Name: activity, dtype: int64"
      ]
     },
     "execution_count": 19,
     "metadata": {},
     "output_type": "execute_result"
    }
   ],
   "source": [
    "#Attacks in train dataset\n",
    "train.activity.value_counts()"
   ]
  },
  {
   "cell_type": "code",
   "execution_count": 20,
   "metadata": {},
   "outputs": [
    {
     "data": {
      "text/plain": [
       "1    12833\n",
       "0     9711\n",
       "Name: activity, dtype: int64"
      ]
     },
     "execution_count": 20,
     "metadata": {},
     "output_type": "execute_result"
    }
   ],
   "source": [
    "#Attacks in test dataset\n",
    "test.activity.value_counts()"
   ]
  },
  {
   "cell_type": "code",
   "execution_count": 21,
   "metadata": {},
   "outputs": [
    {
     "data": {
      "text/plain": [
       "Normal    67343\n",
       "DoS       45927\n",
       "Probe     11656\n",
       "R2L         995\n",
       "U2R          52\n",
       "Name: attack_class, dtype: int64"
      ]
     },
     "execution_count": 21,
     "metadata": {},
     "output_type": "execute_result"
    }
   ],
   "source": [
    "#Frequency of different Attack Class for train dataset\n",
    "train.attack_class.value_counts()"
   ]
  },
  {
   "cell_type": "code",
   "execution_count": 22,
   "metadata": {},
   "outputs": [
    {
     "data": {
      "text/plain": [
       "Normal    9711\n",
       "DoS       7460\n",
       "R2L       2885\n",
       "Probe     2421\n",
       "U2R         67\n",
       "Name: attack_class, dtype: int64"
      ]
     },
     "execution_count": 22,
     "metadata": {},
     "output_type": "execute_result"
    }
   ],
   "source": [
    "#Frequency of different Attack Class for test dataset\n",
    "test.attack_class.value_counts()"
   ]
  },
  {
   "cell_type": "code",
   "execution_count": 23,
   "metadata": {},
   "outputs": [],
   "source": [
    "#Dropping attack feature\n",
    "train.drop('attack', axis = 1, inplace = True)\n",
    "test.drop('attack', axis = 1, inplace = True)"
   ]
  },
  {
   "cell_type": "code",
   "execution_count": 24,
   "metadata": {},
   "outputs": [],
   "source": [
    "#Getting Categorical and Continuous Features\n",
    "cat_cols = set(['protocol_type', 'service', 'flag', 'activity', 'attack_class', 'land',\n",
    "            'logged', 'root_shell','is_host_login', 'is_guest_login', 'su_attempted'])\n",
    "\n",
    "cont_cols = train.columns.difference(cat_cols)"
   ]
  },
  {
   "cell_type": "markdown",
   "metadata": {},
   "source": [
    "# EDA"
   ]
  },
  {
   "cell_type": "code",
   "execution_count": 25,
   "metadata": {},
   "outputs": [
    {
     "data": {
      "image/png": "[encoded data removed]",
      "text/plain": [
       "<Figure size 432x288 with 1 Axes>"
      ]
     },
     "metadata": {
      "needs_background": "light"
     },
     "output_type": "display_data"
    }
   ],
   "source": [
    "#Different Attack Classes percentage in train and test datasets\n",
    "pd.concat([(train.attack_class.value_counts()/train.shape[0])*100,\n",
    "           (test.attack_class.value_counts()/test.shape[0])*100], axis = 1).plot(kind = 'bar')\n",
    "plt.legend(['Train','Test'])\n",
    "plt.xlabel('Attack Class')\n",
    "plt.xticks(rotation = 0)\n",
    "plt.ylabel('Frequency Percentage')\n",
    "plt.show()\n"
   ]
  },
  {
   "cell_type": "markdown",
   "metadata": {},
   "source": [
    "Dos attacks are maximum and U2R attacks are minimum"
   ]
  },
  {
   "cell_type": "code",
   "execution_count": 26,
   "metadata": {},
   "outputs": [
    {
     "data": {
      "image/png": "[encoded data removed]",
      "text/plain": [
       "<Figure size 432x288 with 1 Axes>"
      ]
     },
     "metadata": {
      "needs_background": "light"
     },
     "output_type": "display_data"
    }
   ],
   "source": [
    "#Activity in train and test datasets\n",
    "pd.concat([(train.activity.value_counts()/train.shape[0])*100,\n",
    "           (test.activity.value_counts()/test.shape[0])*100], axis = 1).plot(kind = 'bar')\n",
    "plt.legend(['Train','Test'])\n",
    "plt.xlabel('Activity')\n",
    "plt.xticks(ticks = (0,1), rotation = 0, labels = ('Normal', 'Attack'))\n",
    "plt.ylabel('Frequency Percentage')\n",
    "plt.show()"
   ]
  },
  {
   "cell_type": "code",
   "execution_count": 27,
   "metadata": {},
   "outputs": [
    {
     "data": {
      "image/png": "[encoded data removed]",
      "text/plain": [
       "<Figure size 864x864 with 8 Axes>"
      ]
     },
     "metadata": {
      "needs_background": "light"
     },
     "output_type": "display_data"
    }
   ],
   "source": [
    "#Attack class across different categorical features\n",
    "plt.figure(figsize = (12,12))\n",
    "for a, b in enumerate(cat_cols.difference(['attack_class', 'service', 'flag'])):\n",
    "    plt.subplot(3, 3, a+1)\n",
    "    plt.subplots_adjust(hspace = 1)\n",
    "    sns.countplot(x = b, data = train, hue = 'attack_class')\n",
    "    plt.xticks(rotation = 90)\n",
    "    plt.tight_layout()\n",
    "plt.show()"
   ]
  },
  {
   "cell_type": "markdown",
   "metadata": {},
   "source": [
    "#### Analysis:-\n",
    "- root_shell =  the Dos attack is high when root_shell is not obtained.\n",
    "- land = when source and destination IP addresses and port numbers are not equal then, Dos attack is higher\n",
    "- is_host_login = Dos attcks are higher when the host is not logged in.\n",
    "- protocol_type  = In TCP protocol , Dos Attacks are higher.\n",
    "- is_guest_login = when the guest is not logged in the Dos attacks are high.\n",
    "- activity = dos attacks are higher\n",
    "- su_attempted = when suroot command is used, then Dos attcks are high\n"
   ]
  },
  {
   "cell_type": "code",
   "execution_count": 28,
   "metadata": {},
   "outputs": [
    {
     "data": {
      "image/png": "[encoded data removed]",
      "text/plain": [
       "<Figure size 864x576 with 2 Axes>"
      ]
     },
     "metadata": {
      "needs_background": "light"
     },
     "output_type": "display_data"
    }
   ],
   "source": [
    "#Attack class across different service and flag\n",
    "plt.figure(figsize = (12,8))\n",
    "for a, b in enumerate(['flag', 'service']):\n",
    "    plt.subplot(2, 1, a+1)\n",
    "    plt.subplots_adjust(hspace = 1)\n",
    "    sns.countplot(x = b, data = train, hue = 'attack_class')\n",
    "    plt.xticks(rotation = 90)\n",
    "    plt.tight_layout()\n",
    "plt.show()"
   ]
  },
  {
   "cell_type": "code",
   "execution_count": 29,
   "metadata": {},
   "outputs": [
    {
     "name": "stdout",
     "output_type": "stream",
     "text": [
      "  attack_class     duration      src_bytes      dst_bytes      land  \\\n",
      "0          DoS     0.006227    1176.321162     169.201537  0.000392   \n",
      "1       Normal   168.587396   13133.279331    4329.685223  0.000104   \n",
      "2        Probe  2074.858185  385679.838367  181074.911805  0.000000   \n",
      "3          R2L   633.417085  307727.300503   81822.026131  0.000000   \n",
      "4          U2R    80.942308     906.230769    5141.961538  0.000000   \n",
      "\n",
      "   wrong_fragment    urgent       hot  num_failed_logins    logged  \\\n",
      "0        0.062229  0.000000  0.039889           0.000000  0.020837   \n",
      "1        0.000000  0.000148  0.230655           0.001381  0.710646   \n",
      "2        0.000000  0.000000  0.001630           0.000343  0.007121   \n",
      "3        0.000000  0.003015  8.334673           0.056281  0.913568   \n",
      "4        0.000000  0.019231  1.403846           0.019231  0.884615   \n",
      "\n",
      "   num_compromised  root_shell  su_attempted  num_root  num_file_creations  \\\n",
      "0         0.019226    0.000000      0.000000  0.000000            0.000000   \n",
      "1         0.507076    0.002034      0.002049  0.562924            0.022274   \n",
      "2         0.000601    0.000000      0.000000  0.000601            0.001716   \n",
      "3         0.077387    0.006030      0.001005  0.111558            0.035176   \n",
      "4         1.211538    0.500000      0.000000  0.788462            0.788462   \n",
      "\n",
      "   num_shells  num_access_files  num_outbound_cmds  is_host_login  \\\n",
      "0    0.000000          0.000000                0.0       0.000000   \n",
      "1    0.000609          0.007499                0.0       0.000015   \n",
      "2    0.000000          0.000000                0.0       0.000000   \n",
      "3    0.004020          0.010050                0.0       0.000000   \n",
      "4    0.134615          0.019231                0.0       0.000000   \n",
      "\n",
      "   is_guest_login       count  srv_count  serror_rate  srv_serror_rate  \\\n",
      "0        0.000000  178.090034  32.656346     0.748494         0.746678   \n",
      "1        0.012963   22.517945  27.685654     0.013441         0.012083   \n",
      "2        0.000086   77.052248  10.936084     0.046525         0.040160   \n",
      "3        0.314573    1.297487   2.457286     0.011899         0.011045   \n",
      "4        0.000000    5.807692   1.269231     0.038077         0.000000   \n",
      "\n",
      "   rerror_rate  srv_rerror_rate  same_srv_rate  diff_srv_rate  \\\n",
      "0     0.152107         0.153000       0.191887       0.065403   \n",
      "1     0.044196         0.044629       0.969360       0.028788   \n",
      "2     0.437319         0.444469       0.697196       0.256567   \n",
      "3     0.051759         0.052040       0.996653       0.006704   \n",
      "4     0.009808         0.019231       0.931538       0.063654   \n",
      "\n",
      "   srv_diff_host_rate  dst_host_count  dst_host_srv_count  \\\n",
      "0            0.005317      244.600475           26.524005   \n",
      "1            0.126263      147.431923          190.285761   \n",
      "2            0.299903      145.204101           42.367193   \n",
      "3            0.017156       89.037186           42.440201   \n",
      "4            0.000000       47.769231            9.884615   \n",
      "\n",
      "   dst_host_same_srv_rate  dst_host_diff_srv_rate  \\\n",
      "0                0.123423                0.066333   \n",
      "1                0.811875                0.040134   \n",
      "2                0.390825                0.401263   \n",
      "3                0.727377                0.021307   \n",
      "4                0.781154                0.040000   \n",
      "\n",
      "   dst_host_same_src_port_rate  dst_host_srv_diff_host_rate  \\\n",
      "0                     0.049492                     0.001647   \n",
      "1                     0.121726                     0.025996   \n",
      "2                     0.651840                     0.187343   \n",
      "3                     0.596915                     0.085739   \n",
      "4                     0.568269                     0.081154   \n",
      "\n",
      "   dst_host_serror_rate  dst_host_srv_serror_rate  dst_host_rerror_rate  \\\n",
      "0              0.747922                  0.744434              0.157569   \n",
      "1              0.013930                  0.006116              0.046589   \n",
      "2              0.044757                  0.039799              0.389717   \n",
      "3              0.023849                  0.015960              0.051116   \n",
      "4              0.000000                  0.004808              0.039615   \n",
      "\n",
      "   dst_host_srv_rerror_rate  activity  \n",
      "0                  0.151286       1.0  \n",
      "1                  0.044698       0.0  \n",
      "2                  0.441030       1.0  \n",
      "3                  0.047367       1.0  \n",
      "4                  0.019038       1.0  \n"
     ]
    },
    {
     "data": {
      "image/png": "[encoded data removed]",
      "text/plain": [
       "<Figure size 1008x1584 with 32 Axes>"
      ]
     },
     "metadata": {
      "needs_background": "light"
     },
     "output_type": "display_data"
    }
   ],
   "source": [
    "#Attack Classes across different continuous features\n",
    "cont_plot = train.groupby('attack_class').mean().reset_index()\n",
    "print(cont_plot)\n",
    "\n",
    "plt.figure(figsize = (14,22))\n",
    "for a, b in enumerate(cont_cols):\n",
    "    plt.subplot(8, 4, a+1)\n",
    "    plt.subplots_adjust(hspace = 1, wspace = .5)\n",
    "    sns.barplot(x = 'attack_class', y = b, data = cont_plot)\n",
    "    plt.tight_layout()\n",
    "plt.show() "
   ]
  },
  {
   "cell_type": "code",
   "execution_count": null,
   "metadata": {},
   "outputs": [],
   "source": []
  },
  {
   "cell_type": "markdown",
   "metadata": {},
   "source": [
    "#### Analysis:-\n",
    "- Probing (Prob) is high in<br>\n",
    " diff_srv_rate, dst_bytes, dst_host_diff_srv_rate, dst_host_rerror rate, dst_host_srv_diff_host_rate, dst_host_srv_rerror        rate, duration, rerror_rate, src_bytes, srv_diff_host_rate, srv_rerror_rate, dst_host_same_src_port_rate\n",
    "- Dos attacks are high in<br>\n",
    "count,dst_host_count,dst_host_serror_rate,dst_host_srv_serror_rate,serror_rate,srv_count,srv_serror_rate,wrong_fragment\n",
    "- R2L is high in<br>\n",
    "hot,num_failed_logins,same_srv_rate\n",
    "- U2R is high in<br>\n",
    "num_access_files,num_compormised, num_file_creations,num_root,num_shells,urgent"
   ]
  },
  {
   "cell_type": "markdown",
   "metadata": {},
   "source": [
    "# Summary\n"
   ]
  },
  {
   "cell_type": "code",
   "execution_count": 30,
   "metadata": {},
   "outputs": [
    {
     "data": {
      "text/html": [
       "<div>\n",
       "<style scoped>\n",
       "    .dataframe tbody tr th:only-of-type {\n",
       "        vertical-align: middle;\n",
       "    }\n",
       "\n",
       "    .dataframe tbody tr th {\n",
       "        vertical-align: top;\n",
       "    }\n",
       "\n",
       "    .dataframe thead th {\n",
       "        text-align: right;\n",
       "    }\n",
       "</style>\n",
       "<table border=\"1\" class=\"dataframe\">\n",
       "  <thead>\n",
       "    <tr style=\"text-align: right;\">\n",
       "      <th></th>\n",
       "      <th>count</th>\n",
       "      <th>diff_srv_rate</th>\n",
       "      <th>dst_bytes</th>\n",
       "      <th>dst_host_count</th>\n",
       "      <th>dst_host_diff_srv_rate</th>\n",
       "      <th>dst_host_rerror_rate</th>\n",
       "      <th>dst_host_same_src_port_rate</th>\n",
       "      <th>dst_host_same_srv_rate</th>\n",
       "      <th>dst_host_serror_rate</th>\n",
       "      <th>dst_host_srv_count</th>\n",
       "      <th>dst_host_srv_diff_host_rate</th>\n",
       "      <th>dst_host_srv_rerror_rate</th>\n",
       "      <th>dst_host_srv_serror_rate</th>\n",
       "      <th>duration</th>\n",
       "      <th>hot</th>\n",
       "      <th>num_access_files</th>\n",
       "      <th>num_compromised</th>\n",
       "      <th>num_failed_logins</th>\n",
       "      <th>num_file_creations</th>\n",
       "      <th>num_outbound_cmds</th>\n",
       "      <th>num_root</th>\n",
       "      <th>num_shells</th>\n",
       "      <th>rerror_rate</th>\n",
       "      <th>same_srv_rate</th>\n",
       "      <th>serror_rate</th>\n",
       "      <th>src_bytes</th>\n",
       "      <th>srv_count</th>\n",
       "      <th>srv_diff_host_rate</th>\n",
       "      <th>srv_rerror_rate</th>\n",
       "      <th>srv_serror_rate</th>\n",
       "      <th>urgent</th>\n",
       "      <th>wrong_fragment</th>\n",
       "    </tr>\n",
       "  </thead>\n",
       "  <tbody>\n",
       "    <tr>\n",
       "      <th>COUNT</th>\n",
       "      <td>1.259730e+05</td>\n",
       "      <td>125973.000000</td>\n",
       "      <td>1.259730e+05</td>\n",
       "      <td>1.259730e+05</td>\n",
       "      <td>125973.000000</td>\n",
       "      <td>125973.000000</td>\n",
       "      <td>125973.000000</td>\n",
       "      <td>125973.000000</td>\n",
       "      <td>125973.000000</td>\n",
       "      <td>1.259730e+05</td>\n",
       "      <td>125973.000000</td>\n",
       "      <td>125973.000000</td>\n",
       "      <td>125973.000000</td>\n",
       "      <td>1.259730e+05</td>\n",
       "      <td>125973.000000</td>\n",
       "      <td>125973.000000</td>\n",
       "      <td>125973.000000</td>\n",
       "      <td>125973.000000</td>\n",
       "      <td>125973.000000</td>\n",
       "      <td>125973.0</td>\n",
       "      <td>125973.000000</td>\n",
       "      <td>125973.000000</td>\n",
       "      <td>125973.000000</td>\n",
       "      <td>125973.000000</td>\n",
       "      <td>125973.000000</td>\n",
       "      <td>1.259730e+05</td>\n",
       "      <td>1.259730e+05</td>\n",
       "      <td>125973.000000</td>\n",
       "      <td>125973.000000</td>\n",
       "      <td>125973.000000</td>\n",
       "      <td>125973.000000</td>\n",
       "      <td>125973.000000</td>\n",
       "    </tr>\n",
       "    <tr>\n",
       "      <th>MISS</th>\n",
       "      <td>0.000000e+00</td>\n",
       "      <td>0.000000</td>\n",
       "      <td>0.000000e+00</td>\n",
       "      <td>0.000000e+00</td>\n",
       "      <td>0.000000</td>\n",
       "      <td>0.000000</td>\n",
       "      <td>0.000000</td>\n",
       "      <td>0.000000</td>\n",
       "      <td>0.000000</td>\n",
       "      <td>0.000000e+00</td>\n",
       "      <td>0.000000</td>\n",
       "      <td>0.000000</td>\n",
       "      <td>0.000000</td>\n",
       "      <td>0.000000e+00</td>\n",
       "      <td>0.000000</td>\n",
       "      <td>0.000000</td>\n",
       "      <td>0.000000</td>\n",
       "      <td>0.000000</td>\n",
       "      <td>0.000000</td>\n",
       "      <td>0.0</td>\n",
       "      <td>0.000000</td>\n",
       "      <td>0.000000</td>\n",
       "      <td>0.000000</td>\n",
       "      <td>0.000000</td>\n",
       "      <td>0.000000</td>\n",
       "      <td>0.000000e+00</td>\n",
       "      <td>0.000000e+00</td>\n",
       "      <td>0.000000</td>\n",
       "      <td>0.000000</td>\n",
       "      <td>0.000000</td>\n",
       "      <td>0.000000</td>\n",
       "      <td>0.000000</td>\n",
       "    </tr>\n",
       "    <tr>\n",
       "      <th>SUM</th>\n",
       "      <td>1.059528e+07</td>\n",
       "      <td>7942.930000</td>\n",
       "      <td>2.491634e+09</td>\n",
       "      <td>2.294585e+07</td>\n",
       "      <td>10449.600000</td>\n",
       "      <td>14969.600000</td>\n",
       "      <td>18691.730000</td>\n",
       "      <td>65662.380000</td>\n",
       "      <td>35833.330000</td>\n",
       "      <td>1.456916e+07</td>\n",
       "      <td>4099.470000</td>\n",
       "      <td>15146.980000</td>\n",
       "      <td>35081.530000</td>\n",
       "      <td>3.617247e+07</td>\n",
       "      <td>25750.000000</td>\n",
       "      <td>516.000000</td>\n",
       "      <td>35178.000000</td>\n",
       "      <td>154.000000</td>\n",
       "      <td>1596.000000</td>\n",
       "      <td>0.0</td>\n",
       "      <td>38068.000000</td>\n",
       "      <td>52.000000</td>\n",
       "      <td>15111.530000</td>\n",
       "      <td>83259.040000</td>\n",
       "      <td>35837.370000</td>\n",
       "      <td>5.740179e+09</td>\n",
       "      <td>3.494225e+06</td>\n",
       "      <td>12259.900000</td>\n",
       "      <td>15265.820000</td>\n",
       "      <td>35585.530000</td>\n",
       "      <td>14.000000</td>\n",
       "      <td>2858.000000</td>\n",
       "    </tr>\n",
       "    <tr>\n",
       "      <th>MEAN</th>\n",
       "      <td>8.410755e+01</td>\n",
       "      <td>0.063053</td>\n",
       "      <td>1.977911e+04</td>\n",
       "      <td>1.821489e+02</td>\n",
       "      <td>0.082951</td>\n",
       "      <td>0.118832</td>\n",
       "      <td>0.148379</td>\n",
       "      <td>0.521242</td>\n",
       "      <td>0.284452</td>\n",
       "      <td>1.156530e+02</td>\n",
       "      <td>0.032542</td>\n",
       "      <td>0.120240</td>\n",
       "      <td>0.278485</td>\n",
       "      <td>2.871447e+02</td>\n",
       "      <td>0.204409</td>\n",
       "      <td>0.004096</td>\n",
       "      <td>0.279250</td>\n",
       "      <td>0.001222</td>\n",
       "      <td>0.012669</td>\n",
       "      <td>0.0</td>\n",
       "      <td>0.302192</td>\n",
       "      <td>0.000413</td>\n",
       "      <td>0.119958</td>\n",
       "      <td>0.660928</td>\n",
       "      <td>0.284485</td>\n",
       "      <td>4.556674e+04</td>\n",
       "      <td>2.773789e+01</td>\n",
       "      <td>0.097322</td>\n",
       "      <td>0.121183</td>\n",
       "      <td>0.282485</td>\n",
       "      <td>0.000111</td>\n",
       "      <td>0.022687</td>\n",
       "    </tr>\n",
       "    <tr>\n",
       "      <th>MEDIAN</th>\n",
       "      <td>1.400000e+01</td>\n",
       "      <td>0.000000</td>\n",
       "      <td>0.000000e+00</td>\n",
       "      <td>2.550000e+02</td>\n",
       "      <td>0.020000</td>\n",
       "      <td>0.000000</td>\n",
       "      <td>0.000000</td>\n",
       "      <td>0.510000</td>\n",
       "      <td>0.000000</td>\n",
       "      <td>6.300000e+01</td>\n",
       "      <td>0.000000</td>\n",
       "      <td>0.000000</td>\n",
       "      <td>0.000000</td>\n",
       "      <td>0.000000e+00</td>\n",
       "      <td>0.000000</td>\n",
       "      <td>0.000000</td>\n",
       "      <td>0.000000</td>\n",
       "      <td>0.000000</td>\n",
       "      <td>0.000000</td>\n",
       "      <td>0.0</td>\n",
       "      <td>0.000000</td>\n",
       "      <td>0.000000</td>\n",
       "      <td>0.000000</td>\n",
       "      <td>1.000000</td>\n",
       "      <td>0.000000</td>\n",
       "      <td>4.400000e+01</td>\n",
       "      <td>8.000000e+00</td>\n",
       "      <td>0.000000</td>\n",
       "      <td>0.000000</td>\n",
       "      <td>0.000000</td>\n",
       "      <td>0.000000</td>\n",
       "      <td>0.000000</td>\n",
       "    </tr>\n",
       "    <tr>\n",
       "      <th>STD</th>\n",
       "      <td>1.145086e+02</td>\n",
       "      <td>0.180314</td>\n",
       "      <td>4.021269e+06</td>\n",
       "      <td>9.920621e+01</td>\n",
       "      <td>0.188922</td>\n",
       "      <td>0.306557</td>\n",
       "      <td>0.308997</td>\n",
       "      <td>0.448949</td>\n",
       "      <td>0.444784</td>\n",
       "      <td>1.107027e+02</td>\n",
       "      <td>0.112564</td>\n",
       "      <td>0.319459</td>\n",
       "      <td>0.445669</td>\n",
       "      <td>2.604515e+03</td>\n",
       "      <td>2.149968</td>\n",
       "      <td>0.099370</td>\n",
       "      <td>23.942042</td>\n",
       "      <td>0.045239</td>\n",
       "      <td>0.483935</td>\n",
       "      <td>0.0</td>\n",
       "      <td>24.399618</td>\n",
       "      <td>0.022181</td>\n",
       "      <td>0.320436</td>\n",
       "      <td>0.439623</td>\n",
       "      <td>0.446456</td>\n",
       "      <td>5.870331e+06</td>\n",
       "      <td>7.263584e+01</td>\n",
       "      <td>0.259830</td>\n",
       "      <td>0.323647</td>\n",
       "      <td>0.447022</td>\n",
       "      <td>0.014366</td>\n",
       "      <td>0.253530</td>\n",
       "    </tr>\n",
       "    <tr>\n",
       "      <th>VAR</th>\n",
       "      <td>1.311222e+04</td>\n",
       "      <td>0.032513</td>\n",
       "      <td>1.617061e+13</td>\n",
       "      <td>9.841873e+03</td>\n",
       "      <td>0.035691</td>\n",
       "      <td>0.093977</td>\n",
       "      <td>0.095479</td>\n",
       "      <td>0.201556</td>\n",
       "      <td>0.197833</td>\n",
       "      <td>1.225510e+04</td>\n",
       "      <td>0.012671</td>\n",
       "      <td>0.102054</td>\n",
       "      <td>0.198621</td>\n",
       "      <td>6.783500e+06</td>\n",
       "      <td>4.622364</td>\n",
       "      <td>0.009874</td>\n",
       "      <td>573.221387</td>\n",
       "      <td>0.002047</td>\n",
       "      <td>0.234193</td>\n",
       "      <td>0.0</td>\n",
       "      <td>595.341363</td>\n",
       "      <td>0.000492</td>\n",
       "      <td>0.102679</td>\n",
       "      <td>0.193268</td>\n",
       "      <td>0.199323</td>\n",
       "      <td>3.446079e+13</td>\n",
       "      <td>5.275965e+03</td>\n",
       "      <td>0.067512</td>\n",
       "      <td>0.104748</td>\n",
       "      <td>0.199829</td>\n",
       "      <td>0.000206</td>\n",
       "      <td>0.064277</td>\n",
       "    </tr>\n",
       "    <tr>\n",
       "      <th>MIN</th>\n",
       "      <td>0.000000e+00</td>\n",
       "      <td>0.000000</td>\n",
       "      <td>0.000000e+00</td>\n",
       "      <td>0.000000e+00</td>\n",
       "      <td>0.000000</td>\n",
       "      <td>0.000000</td>\n",
       "      <td>0.000000</td>\n",
       "      <td>0.000000</td>\n",
       "      <td>0.000000</td>\n",
       "      <td>0.000000e+00</td>\n",
       "      <td>0.000000</td>\n",
       "      <td>0.000000</td>\n",
       "      <td>0.000000</td>\n",
       "      <td>0.000000e+00</td>\n",
       "      <td>0.000000</td>\n",
       "      <td>0.000000</td>\n",
       "      <td>0.000000</td>\n",
       "      <td>0.000000</td>\n",
       "      <td>0.000000</td>\n",
       "      <td>0.0</td>\n",
       "      <td>0.000000</td>\n",
       "      <td>0.000000</td>\n",
       "      <td>0.000000</td>\n",
       "      <td>0.000000</td>\n",
       "      <td>0.000000</td>\n",
       "      <td>0.000000e+00</td>\n",
       "      <td>0.000000e+00</td>\n",
       "      <td>0.000000</td>\n",
       "      <td>0.000000</td>\n",
       "      <td>0.000000</td>\n",
       "      <td>0.000000</td>\n",
       "      <td>0.000000</td>\n",
       "    </tr>\n",
       "    <tr>\n",
       "      <th>P1</th>\n",
       "      <td>1.000000e+00</td>\n",
       "      <td>0.000000</td>\n",
       "      <td>0.000000e+00</td>\n",
       "      <td>1.000000e+00</td>\n",
       "      <td>0.000000</td>\n",
       "      <td>0.000000</td>\n",
       "      <td>0.000000</td>\n",
       "      <td>0.000000</td>\n",
       "      <td>0.000000</td>\n",
       "      <td>1.000000e+00</td>\n",
       "      <td>0.000000</td>\n",
       "      <td>0.000000</td>\n",
       "      <td>0.000000</td>\n",
       "      <td>0.000000e+00</td>\n",
       "      <td>0.000000</td>\n",
       "      <td>0.000000</td>\n",
       "      <td>0.000000</td>\n",
       "      <td>0.000000</td>\n",
       "      <td>0.000000</td>\n",
       "      <td>0.0</td>\n",
       "      <td>0.000000</td>\n",
       "      <td>0.000000</td>\n",
       "      <td>0.000000</td>\n",
       "      <td>0.000000</td>\n",
       "      <td>0.000000</td>\n",
       "      <td>0.000000e+00</td>\n",
       "      <td>1.000000e+00</td>\n",
       "      <td>0.000000</td>\n",
       "      <td>0.000000</td>\n",
       "      <td>0.000000</td>\n",
       "      <td>0.000000</td>\n",
       "      <td>0.000000</td>\n",
       "    </tr>\n",
       "    <tr>\n",
       "      <th>P99</th>\n",
       "      <td>5.110000e+02</td>\n",
       "      <td>1.000000</td>\n",
       "      <td>2.551900e+04</td>\n",
       "      <td>2.550000e+02</td>\n",
       "      <td>1.000000</td>\n",
       "      <td>1.000000</td>\n",
       "      <td>1.000000</td>\n",
       "      <td>1.000000</td>\n",
       "      <td>1.000000</td>\n",
       "      <td>2.550000e+02</td>\n",
       "      <td>0.520000</td>\n",
       "      <td>1.000000</td>\n",
       "      <td>1.000000</td>\n",
       "      <td>9.590560e+03</td>\n",
       "      <td>3.000000</td>\n",
       "      <td>0.000000</td>\n",
       "      <td>1.000000</td>\n",
       "      <td>0.000000</td>\n",
       "      <td>0.000000</td>\n",
       "      <td>0.0</td>\n",
       "      <td>0.000000</td>\n",
       "      <td>0.000000</td>\n",
       "      <td>1.000000</td>\n",
       "      <td>1.000000</td>\n",
       "      <td>1.000000</td>\n",
       "      <td>5.454000e+04</td>\n",
       "      <td>4.920000e+02</td>\n",
       "      <td>1.000000</td>\n",
       "      <td>1.000000</td>\n",
       "      <td>1.000000</td>\n",
       "      <td>0.000000</td>\n",
       "      <td>0.000000</td>\n",
       "    </tr>\n",
       "    <tr>\n",
       "      <th>MAX</th>\n",
       "      <td>5.110000e+02</td>\n",
       "      <td>1.000000</td>\n",
       "      <td>1.309937e+09</td>\n",
       "      <td>2.550000e+02</td>\n",
       "      <td>1.000000</td>\n",
       "      <td>1.000000</td>\n",
       "      <td>1.000000</td>\n",
       "      <td>1.000000</td>\n",
       "      <td>1.000000</td>\n",
       "      <td>2.550000e+02</td>\n",
       "      <td>1.000000</td>\n",
       "      <td>1.000000</td>\n",
       "      <td>1.000000</td>\n",
       "      <td>4.290800e+04</td>\n",
       "      <td>77.000000</td>\n",
       "      <td>9.000000</td>\n",
       "      <td>7479.000000</td>\n",
       "      <td>5.000000</td>\n",
       "      <td>43.000000</td>\n",
       "      <td>0.0</td>\n",
       "      <td>7468.000000</td>\n",
       "      <td>2.000000</td>\n",
       "      <td>1.000000</td>\n",
       "      <td>1.000000</td>\n",
       "      <td>1.000000</td>\n",
       "      <td>1.379964e+09</td>\n",
       "      <td>5.110000e+02</td>\n",
       "      <td>1.000000</td>\n",
       "      <td>1.000000</td>\n",
       "      <td>1.000000</td>\n",
       "      <td>3.000000</td>\n",
       "      <td>3.000000</td>\n",
       "    </tr>\n",
       "  </tbody>\n",
       "</table>\n",
       "</div>"
      ],
      "text/plain": [
       "               count  diff_srv_rate     dst_bytes  dst_host_count  \\\n",
       "COUNT   1.259730e+05  125973.000000  1.259730e+05    1.259730e+05   \n",
       "MISS    0.000000e+00       0.000000  0.000000e+00    0.000000e+00   \n",
       "SUM     1.059528e+07    7942.930000  2.491634e+09    2.294585e+07   \n",
       "MEAN    8.410755e+01       0.063053  1.977911e+04    1.821489e+02   \n",
       "MEDIAN  1.400000e+01       0.000000  0.000000e+00    2.550000e+02   \n",
       "STD     1.145086e+02       0.180314  4.021269e+06    9.920621e+01   \n",
       "VAR     1.311222e+04       0.032513  1.617061e+13    9.841873e+03   \n",
       "MIN     0.000000e+00       0.000000  0.000000e+00    0.000000e+00   \n",
       "P1      1.000000e+00       0.000000  0.000000e+00    1.000000e+00   \n",
       "P99     5.110000e+02       1.000000  2.551900e+04    2.550000e+02   \n",
       "MAX     5.110000e+02       1.000000  1.309937e+09    2.550000e+02   \n",
       "\n",
       "        dst_host_diff_srv_rate  dst_host_rerror_rate  \\\n",
       "COUNT            125973.000000         125973.000000   \n",
       "MISS                  0.000000              0.000000   \n",
       "SUM               10449.600000          14969.600000   \n",
       "MEAN                  0.082951              0.118832   \n",
       "MEDIAN                0.020000              0.000000   \n",
       "STD                   0.188922              0.306557   \n",
       "VAR                   0.035691              0.093977   \n",
       "MIN                   0.000000              0.000000   \n",
       "P1                    0.000000              0.000000   \n",
       "P99                   1.000000              1.000000   \n",
       "MAX                   1.000000              1.000000   \n",
       "\n",
       "        dst_host_same_src_port_rate  dst_host_same_srv_rate  \\\n",
       "COUNT                 125973.000000           125973.000000   \n",
       "MISS                       0.000000                0.000000   \n",
       "SUM                    18691.730000            65662.380000   \n",
       "MEAN                       0.148379                0.521242   \n",
       "MEDIAN                     0.000000                0.510000   \n",
       "STD                        0.308997                0.448949   \n",
       "VAR                        0.095479                0.201556   \n",
       "MIN                        0.000000                0.000000   \n",
       "P1                         0.000000                0.000000   \n",
       "P99                        1.000000                1.000000   \n",
       "MAX                        1.000000                1.000000   \n",
       "\n",
       "        dst_host_serror_rate  dst_host_srv_count  dst_host_srv_diff_host_rate  \\\n",
       "COUNT          125973.000000        1.259730e+05                125973.000000   \n",
       "MISS                0.000000        0.000000e+00                     0.000000   \n",
       "SUM             35833.330000        1.456916e+07                  4099.470000   \n",
       "MEAN                0.284452        1.156530e+02                     0.032542   \n",
       "MEDIAN              0.000000        6.300000e+01                     0.000000   \n",
       "STD                 0.444784        1.107027e+02                     0.112564   \n",
       "VAR                 0.197833        1.225510e+04                     0.012671   \n",
       "MIN                 0.000000        0.000000e+00                     0.000000   \n",
       "P1                  0.000000        1.000000e+00                     0.000000   \n",
       "P99                 1.000000        2.550000e+02                     0.520000   \n",
       "MAX                 1.000000        2.550000e+02                     1.000000   \n",
       "\n",
       "        dst_host_srv_rerror_rate  dst_host_srv_serror_rate      duration  \\\n",
       "COUNT              125973.000000             125973.000000  1.259730e+05   \n",
       "MISS                    0.000000                  0.000000  0.000000e+00   \n",
       "SUM                 15146.980000              35081.530000  3.617247e+07   \n",
       "MEAN                    0.120240                  0.278485  2.871447e+02   \n",
       "MEDIAN                  0.000000                  0.000000  0.000000e+00   \n",
       "STD                     0.319459                  0.445669  2.604515e+03   \n",
       "VAR                     0.102054                  0.198621  6.783500e+06   \n",
       "MIN                     0.000000                  0.000000  0.000000e+00   \n",
       "P1                      0.000000                  0.000000  0.000000e+00   \n",
       "P99                     1.000000                  1.000000  9.590560e+03   \n",
       "MAX                     1.000000                  1.000000  4.290800e+04   \n",
       "\n",
       "                  hot  num_access_files  num_compromised  num_failed_logins  \\\n",
       "COUNT   125973.000000     125973.000000    125973.000000      125973.000000   \n",
       "MISS         0.000000          0.000000         0.000000           0.000000   \n",
       "SUM      25750.000000        516.000000     35178.000000         154.000000   \n",
       "MEAN         0.204409          0.004096         0.279250           0.001222   \n",
       "MEDIAN       0.000000          0.000000         0.000000           0.000000   \n",
       "STD          2.149968          0.099370        23.942042           0.045239   \n",
       "VAR          4.622364          0.009874       573.221387           0.002047   \n",
       "MIN          0.000000          0.000000         0.000000           0.000000   \n",
       "P1           0.000000          0.000000         0.000000           0.000000   \n",
       "P99          3.000000          0.000000         1.000000           0.000000   \n",
       "MAX         77.000000          9.000000      7479.000000           5.000000   \n",
       "\n",
       "        num_file_creations  num_outbound_cmds       num_root     num_shells  \\\n",
       "COUNT        125973.000000           125973.0  125973.000000  125973.000000   \n",
       "MISS              0.000000                0.0       0.000000       0.000000   \n",
       "SUM            1596.000000                0.0   38068.000000      52.000000   \n",
       "MEAN              0.012669                0.0       0.302192       0.000413   \n",
       "MEDIAN            0.000000                0.0       0.000000       0.000000   \n",
       "STD               0.483935                0.0      24.399618       0.022181   \n",
       "VAR               0.234193                0.0     595.341363       0.000492   \n",
       "MIN               0.000000                0.0       0.000000       0.000000   \n",
       "P1                0.000000                0.0       0.000000       0.000000   \n",
       "P99               0.000000                0.0       0.000000       0.000000   \n",
       "MAX              43.000000                0.0    7468.000000       2.000000   \n",
       "\n",
       "          rerror_rate  same_srv_rate    serror_rate     src_bytes  \\\n",
       "COUNT   125973.000000  125973.000000  125973.000000  1.259730e+05   \n",
       "MISS         0.000000       0.000000       0.000000  0.000000e+00   \n",
       "SUM      15111.530000   83259.040000   35837.370000  5.740179e+09   \n",
       "MEAN         0.119958       0.660928       0.284485  4.556674e+04   \n",
       "MEDIAN       0.000000       1.000000       0.000000  4.400000e+01   \n",
       "STD          0.320436       0.439623       0.446456  5.870331e+06   \n",
       "VAR          0.102679       0.193268       0.199323  3.446079e+13   \n",
       "MIN          0.000000       0.000000       0.000000  0.000000e+00   \n",
       "P1           0.000000       0.000000       0.000000  0.000000e+00   \n",
       "P99          1.000000       1.000000       1.000000  5.454000e+04   \n",
       "MAX          1.000000       1.000000       1.000000  1.379964e+09   \n",
       "\n",
       "           srv_count  srv_diff_host_rate  srv_rerror_rate  srv_serror_rate  \\\n",
       "COUNT   1.259730e+05       125973.000000    125973.000000    125973.000000   \n",
       "MISS    0.000000e+00            0.000000         0.000000         0.000000   \n",
       "SUM     3.494225e+06        12259.900000     15265.820000     35585.530000   \n",
       "MEAN    2.773789e+01            0.097322         0.121183         0.282485   \n",
       "MEDIAN  8.000000e+00            0.000000         0.000000         0.000000   \n",
       "STD     7.263584e+01            0.259830         0.323647         0.447022   \n",
       "VAR     5.275965e+03            0.067512         0.104748         0.199829   \n",
       "MIN     0.000000e+00            0.000000         0.000000         0.000000   \n",
       "P1      1.000000e+00            0.000000         0.000000         0.000000   \n",
       "P99     4.920000e+02            1.000000         1.000000         1.000000   \n",
       "MAX     5.110000e+02            1.000000         1.000000         1.000000   \n",
       "\n",
       "               urgent  wrong_fragment  \n",
       "COUNT   125973.000000   125973.000000  \n",
       "MISS         0.000000        0.000000  \n",
       "SUM         14.000000     2858.000000  \n",
       "MEAN         0.000111        0.022687  \n",
       "MEDIAN       0.000000        0.000000  \n",
       "STD          0.014366        0.253530  \n",
       "VAR          0.000206        0.064277  \n",
       "MIN          0.000000        0.000000  \n",
       "P1           0.000000        0.000000  \n",
       "P99          0.000000        0.000000  \n",
       "MAX          3.000000        3.000000  "
      ]
     },
     "execution_count": 30,
     "metadata": {},
     "output_type": "execute_result"
    }
   ],
   "source": [
    "#Continuous Variable Summary \n",
    "cont_summary = train[cont_cols].apply(continuous_var_summary)\n",
    "cont_summary.to_excel(output, 'Train Statistical Summary', startrow = 3)\n",
    "cont_summary"
   ]
  },
  {
   "cell_type": "code",
   "execution_count": 31,
   "metadata": {},
   "outputs": [
    {
     "data": {
      "text/html": [
       "<div>\n",
       "<style scoped>\n",
       "    .dataframe tbody tr th:only-of-type {\n",
       "        vertical-align: middle;\n",
       "    }\n",
       "\n",
       "    .dataframe tbody tr th {\n",
       "        vertical-align: top;\n",
       "    }\n",
       "\n",
       "    .dataframe thead th {\n",
       "        text-align: right;\n",
       "    }\n",
       "</style>\n",
       "<table border=\"1\" class=\"dataframe\">\n",
       "  <thead>\n",
       "    <tr style=\"text-align: right;\">\n",
       "      <th></th>\n",
       "      <th>is_guest_login</th>\n",
       "      <th>root_shell</th>\n",
       "      <th>su_attempted</th>\n",
       "      <th>protocol_type</th>\n",
       "      <th>activity</th>\n",
       "      <th>land</th>\n",
       "      <th>attack_class</th>\n",
       "      <th>service</th>\n",
       "      <th>is_host_login</th>\n",
       "      <th>flag</th>\n",
       "      <th>logged</th>\n",
       "    </tr>\n",
       "  </thead>\n",
       "  <tbody>\n",
       "    <tr>\n",
       "      <th>COUNT</th>\n",
       "      <td>125973.00</td>\n",
       "      <td>125973.00</td>\n",
       "      <td>125973.00</td>\n",
       "      <td>125973</td>\n",
       "      <td>125973.00</td>\n",
       "      <td>125973.00</td>\n",
       "      <td>125973</td>\n",
       "      <td>125973</td>\n",
       "      <td>125973.0</td>\n",
       "      <td>125973</td>\n",
       "      <td>125973.00</td>\n",
       "    </tr>\n",
       "    <tr>\n",
       "      <th>UNIQUE</th>\n",
       "      <td>2.00</td>\n",
       "      <td>2.00</td>\n",
       "      <td>3.00</td>\n",
       "      <td>3</td>\n",
       "      <td>2.00</td>\n",
       "      <td>2.00</td>\n",
       "      <td>5</td>\n",
       "      <td>70</td>\n",
       "      <td>2.0</td>\n",
       "      <td>11</td>\n",
       "      <td>2.00</td>\n",
       "    </tr>\n",
       "    <tr>\n",
       "      <th>MISS</th>\n",
       "      <td>0.00</td>\n",
       "      <td>0.00</td>\n",
       "      <td>0.00</td>\n",
       "      <td>0</td>\n",
       "      <td>0.00</td>\n",
       "      <td>0.00</td>\n",
       "      <td>0</td>\n",
       "      <td>0</td>\n",
       "      <td>0.0</td>\n",
       "      <td>0</td>\n",
       "      <td>0.00</td>\n",
       "    </tr>\n",
       "    <tr>\n",
       "      <th>MODE</th>\n",
       "      <td>0.00</td>\n",
       "      <td>0.00</td>\n",
       "      <td>0.00</td>\n",
       "      <td>tcp</td>\n",
       "      <td>0.00</td>\n",
       "      <td>0.00</td>\n",
       "      <td>Normal</td>\n",
       "      <td>http</td>\n",
       "      <td>0.0</td>\n",
       "      <td>SF</td>\n",
       "      <td>0.00</td>\n",
       "    </tr>\n",
       "    <tr>\n",
       "      <th>FREQ</th>\n",
       "      <td>124786.00</td>\n",
       "      <td>125804.00</td>\n",
       "      <td>125893.00</td>\n",
       "      <td>102689</td>\n",
       "      <td>67343.00</td>\n",
       "      <td>125948.00</td>\n",
       "      <td>67343</td>\n",
       "      <td>40338</td>\n",
       "      <td>125972.0</td>\n",
       "      <td>74945</td>\n",
       "      <td>76121.00</td>\n",
       "    </tr>\n",
       "    <tr>\n",
       "      <th>PERCENT</th>\n",
       "      <td>99.06</td>\n",
       "      <td>99.87</td>\n",
       "      <td>99.94</td>\n",
       "      <td>81.52</td>\n",
       "      <td>53.46</td>\n",
       "      <td>99.98</td>\n",
       "      <td>53.46</td>\n",
       "      <td>32.02</td>\n",
       "      <td>100.0</td>\n",
       "      <td>59.49</td>\n",
       "      <td>60.43</td>\n",
       "    </tr>\n",
       "  </tbody>\n",
       "</table>\n",
       "</div>"
      ],
      "text/plain": [
       "         is_guest_login  root_shell  su_attempted protocol_type   activity  \\\n",
       "COUNT         125973.00   125973.00     125973.00        125973  125973.00   \n",
       "UNIQUE             2.00        2.00          3.00             3       2.00   \n",
       "MISS               0.00        0.00          0.00             0       0.00   \n",
       "MODE               0.00        0.00          0.00           tcp       0.00   \n",
       "FREQ          124786.00   125804.00     125893.00        102689   67343.00   \n",
       "PERCENT           99.06       99.87         99.94         81.52      53.46   \n",
       "\n",
       "              land attack_class service  is_host_login    flag     logged  \n",
       "COUNT    125973.00       125973  125973       125973.0  125973  125973.00  \n",
       "UNIQUE        2.00            5      70            2.0      11       2.00  \n",
       "MISS          0.00            0       0            0.0       0       0.00  \n",
       "MODE          0.00       Normal    http            0.0      SF       0.00  \n",
       "FREQ     125948.00        67343   40338       125972.0   74945   76121.00  \n",
       "PERCENT      99.98        53.46   32.02          100.0   59.49      60.43  "
      ]
     },
     "execution_count": 31,
     "metadata": {},
     "output_type": "execute_result"
    }
   ],
   "source": [
    "#Categorical Variable Summary \n",
    "cat_summary = train[cat_cols].apply(categorical_var_summary)\n",
    "cat_summary.to_excel(output, 'Train Statistical Summary', startrow = 17)\n",
    "cat_summary"
   ]
  },
  {
   "cell_type": "code",
   "execution_count": 32,
   "metadata": {},
   "outputs": [
    {
     "data": {
      "text/html": [
       "<div>\n",
       "<style scoped>\n",
       "    .dataframe tbody tr th:only-of-type {\n",
       "        vertical-align: middle;\n",
       "    }\n",
       "\n",
       "    .dataframe tbody tr th {\n",
       "        vertical-align: top;\n",
       "    }\n",
       "\n",
       "    .dataframe thead th {\n",
       "        text-align: right;\n",
       "    }\n",
       "</style>\n",
       "<table border=\"1\" class=\"dataframe\">\n",
       "  <thead>\n",
       "    <tr style=\"text-align: right;\">\n",
       "      <th></th>\n",
       "      <th>count</th>\n",
       "      <th>diff_srv_rate</th>\n",
       "      <th>dst_bytes</th>\n",
       "      <th>dst_host_count</th>\n",
       "      <th>dst_host_diff_srv_rate</th>\n",
       "      <th>dst_host_rerror_rate</th>\n",
       "      <th>dst_host_same_src_port_rate</th>\n",
       "      <th>dst_host_same_srv_rate</th>\n",
       "      <th>dst_host_serror_rate</th>\n",
       "      <th>dst_host_srv_count</th>\n",
       "      <th>dst_host_srv_diff_host_rate</th>\n",
       "      <th>dst_host_srv_rerror_rate</th>\n",
       "      <th>dst_host_srv_serror_rate</th>\n",
       "      <th>duration</th>\n",
       "      <th>hot</th>\n",
       "      <th>num_access_files</th>\n",
       "      <th>num_compromised</th>\n",
       "      <th>num_failed_logins</th>\n",
       "      <th>num_file_creations</th>\n",
       "      <th>num_outbound_cmds</th>\n",
       "      <th>num_root</th>\n",
       "      <th>num_shells</th>\n",
       "      <th>rerror_rate</th>\n",
       "      <th>same_srv_rate</th>\n",
       "      <th>serror_rate</th>\n",
       "      <th>src_bytes</th>\n",
       "      <th>srv_count</th>\n",
       "      <th>srv_diff_host_rate</th>\n",
       "      <th>srv_rerror_rate</th>\n",
       "      <th>srv_serror_rate</th>\n",
       "      <th>urgent</th>\n",
       "      <th>wrong_fragment</th>\n",
       "    </tr>\n",
       "  </thead>\n",
       "  <tbody>\n",
       "    <tr>\n",
       "      <th>COUNT</th>\n",
       "      <td>2.254400e+04</td>\n",
       "      <td>22544.000000</td>\n",
       "      <td>2.254400e+04</td>\n",
       "      <td>2.254400e+04</td>\n",
       "      <td>22544.000000</td>\n",
       "      <td>22544.000000</td>\n",
       "      <td>22544.000000</td>\n",
       "      <td>22544.000000</td>\n",
       "      <td>22544.000000</td>\n",
       "      <td>2.254400e+04</td>\n",
       "      <td>22544.000000</td>\n",
       "      <td>22544.000000</td>\n",
       "      <td>22544.000000</td>\n",
       "      <td>2.254400e+04</td>\n",
       "      <td>22544.000000</td>\n",
       "      <td>22544.000000</td>\n",
       "      <td>22544.000000</td>\n",
       "      <td>22544.000000</td>\n",
       "      <td>22544.000000</td>\n",
       "      <td>22544.0</td>\n",
       "      <td>22544.000000</td>\n",
       "      <td>22544.000000</td>\n",
       "      <td>22544.000000</td>\n",
       "      <td>22544.000000</td>\n",
       "      <td>22544.000000</td>\n",
       "      <td>2.254400e+04</td>\n",
       "      <td>22544.000000</td>\n",
       "      <td>22544.000000</td>\n",
       "      <td>22544.000000</td>\n",
       "      <td>22544.000000</td>\n",
       "      <td>22544.000000</td>\n",
       "      <td>22544.000000</td>\n",
       "    </tr>\n",
       "    <tr>\n",
       "      <th>MISS</th>\n",
       "      <td>0.000000e+00</td>\n",
       "      <td>0.000000</td>\n",
       "      <td>0.000000e+00</td>\n",
       "      <td>0.000000e+00</td>\n",
       "      <td>0.000000</td>\n",
       "      <td>0.000000</td>\n",
       "      <td>0.000000</td>\n",
       "      <td>0.000000</td>\n",
       "      <td>0.000000</td>\n",
       "      <td>0.000000e+00</td>\n",
       "      <td>0.000000</td>\n",
       "      <td>0.000000</td>\n",
       "      <td>0.000000</td>\n",
       "      <td>0.000000e+00</td>\n",
       "      <td>0.000000</td>\n",
       "      <td>0.000000</td>\n",
       "      <td>0.000000</td>\n",
       "      <td>0.000000</td>\n",
       "      <td>0.000000</td>\n",
       "      <td>0.0</td>\n",
       "      <td>0.000000</td>\n",
       "      <td>0.000000</td>\n",
       "      <td>0.000000</td>\n",
       "      <td>0.000000</td>\n",
       "      <td>0.000000</td>\n",
       "      <td>0.000000e+00</td>\n",
       "      <td>0.000000</td>\n",
       "      <td>0.000000</td>\n",
       "      <td>0.000000</td>\n",
       "      <td>0.000000</td>\n",
       "      <td>0.000000</td>\n",
       "      <td>0.000000</td>\n",
       "    </tr>\n",
       "    <tr>\n",
       "      <th>SUM</th>\n",
       "      <td>1.781615e+06</td>\n",
       "      <td>2120.800000</td>\n",
       "      <td>4.635089e+07</td>\n",
       "      <td>4.370592e+06</td>\n",
       "      <td>2041.130000</td>\n",
       "      <td>5261.430000</td>\n",
       "      <td>2981.690000</td>\n",
       "      <td>13723.020000</td>\n",
       "      <td>2205.110000</td>\n",
       "      <td>3.173080e+06</td>\n",
       "      <td>442.730000</td>\n",
       "      <td>5110.340000</td>\n",
       "      <td>2241.460000</td>\n",
       "      <td>4.933959e+06</td>\n",
       "      <td>2376.000000</td>\n",
       "      <td>80.000000</td>\n",
       "      <td>2703.000000</td>\n",
       "      <td>488.000000</td>\n",
       "      <td>197.000000</td>\n",
       "      <td>0.0</td>\n",
       "      <td>2585.000000</td>\n",
       "      <td>26.000000</td>\n",
       "      <td>5375.910000</td>\n",
       "      <td>16690.330000</td>\n",
       "      <td>2320.310000</td>\n",
       "      <td>2.343550e+08</td>\n",
       "      <td>701668.000000</td>\n",
       "      <td>2211.800000</td>\n",
       "      <td>5301.870000</td>\n",
       "      <td>2336.350000</td>\n",
       "      <td>16.000000</td>\n",
       "      <td>190.000000</td>\n",
       "    </tr>\n",
       "    <tr>\n",
       "      <th>MEAN</th>\n",
       "      <td>7.902834e+01</td>\n",
       "      <td>0.094074</td>\n",
       "      <td>2.056019e+03</td>\n",
       "      <td>1.938694e+02</td>\n",
       "      <td>0.090540</td>\n",
       "      <td>0.233385</td>\n",
       "      <td>0.132261</td>\n",
       "      <td>0.608722</td>\n",
       "      <td>0.097814</td>\n",
       "      <td>1.407505e+02</td>\n",
       "      <td>0.019638</td>\n",
       "      <td>0.226683</td>\n",
       "      <td>0.099426</td>\n",
       "      <td>2.188591e+02</td>\n",
       "      <td>0.105394</td>\n",
       "      <td>0.003549</td>\n",
       "      <td>0.119899</td>\n",
       "      <td>0.021647</td>\n",
       "      <td>0.008738</td>\n",
       "      <td>0.0</td>\n",
       "      <td>0.114665</td>\n",
       "      <td>0.001153</td>\n",
       "      <td>0.238463</td>\n",
       "      <td>0.740345</td>\n",
       "      <td>0.102924</td>\n",
       "      <td>1.039545e+04</td>\n",
       "      <td>31.124379</td>\n",
       "      <td>0.098110</td>\n",
       "      <td>0.235179</td>\n",
       "      <td>0.103635</td>\n",
       "      <td>0.000710</td>\n",
       "      <td>0.008428</td>\n",
       "    </tr>\n",
       "    <tr>\n",
       "      <th>MEDIAN</th>\n",
       "      <td>8.000000e+00</td>\n",
       "      <td>0.000000</td>\n",
       "      <td>4.600000e+01</td>\n",
       "      <td>2.550000e+02</td>\n",
       "      <td>0.010000</td>\n",
       "      <td>0.000000</td>\n",
       "      <td>0.000000</td>\n",
       "      <td>0.920000</td>\n",
       "      <td>0.000000</td>\n",
       "      <td>1.680000e+02</td>\n",
       "      <td>0.000000</td>\n",
       "      <td>0.000000</td>\n",
       "      <td>0.000000</td>\n",
       "      <td>0.000000e+00</td>\n",
       "      <td>0.000000</td>\n",
       "      <td>0.000000</td>\n",
       "      <td>0.000000</td>\n",
       "      <td>0.000000</td>\n",
       "      <td>0.000000</td>\n",
       "      <td>0.0</td>\n",
       "      <td>0.000000</td>\n",
       "      <td>0.000000</td>\n",
       "      <td>0.000000</td>\n",
       "      <td>1.000000</td>\n",
       "      <td>0.000000</td>\n",
       "      <td>5.400000e+01</td>\n",
       "      <td>6.000000</td>\n",
       "      <td>0.000000</td>\n",
       "      <td>0.000000</td>\n",
       "      <td>0.000000</td>\n",
       "      <td>0.000000</td>\n",
       "      <td>0.000000</td>\n",
       "    </tr>\n",
       "    <tr>\n",
       "      <th>STD</th>\n",
       "      <td>1.285392e+02</td>\n",
       "      <td>0.259138</td>\n",
       "      <td>2.121930e+04</td>\n",
       "      <td>9.403566e+01</td>\n",
       "      <td>0.220717</td>\n",
       "      <td>0.387229</td>\n",
       "      <td>0.306268</td>\n",
       "      <td>0.435688</td>\n",
       "      <td>0.273139</td>\n",
       "      <td>1.117840e+02</td>\n",
       "      <td>0.085394</td>\n",
       "      <td>0.400875</td>\n",
       "      <td>0.281866</td>\n",
       "      <td>1.407177e+03</td>\n",
       "      <td>0.928428</td>\n",
       "      <td>0.067829</td>\n",
       "      <td>7.269597</td>\n",
       "      <td>0.150328</td>\n",
       "      <td>0.676842</td>\n",
       "      <td>0.0</td>\n",
       "      <td>8.041614</td>\n",
       "      <td>0.048014</td>\n",
       "      <td>0.416118</td>\n",
       "      <td>0.412496</td>\n",
       "      <td>0.295367</td>\n",
       "      <td>4.727864e+05</td>\n",
       "      <td>89.062532</td>\n",
       "      <td>0.253545</td>\n",
       "      <td>0.416215</td>\n",
       "      <td>0.298332</td>\n",
       "      <td>0.036473</td>\n",
       "      <td>0.142599</td>\n",
       "    </tr>\n",
       "    <tr>\n",
       "      <th>VAR</th>\n",
       "      <td>1.652234e+04</td>\n",
       "      <td>0.067152</td>\n",
       "      <td>4.502586e+08</td>\n",
       "      <td>8.842706e+03</td>\n",
       "      <td>0.048716</td>\n",
       "      <td>0.149946</td>\n",
       "      <td>0.093800</td>\n",
       "      <td>0.189824</td>\n",
       "      <td>0.074605</td>\n",
       "      <td>1.249566e+04</td>\n",
       "      <td>0.007292</td>\n",
       "      <td>0.160701</td>\n",
       "      <td>0.079449</td>\n",
       "      <td>1.980146e+06</td>\n",
       "      <td>0.861979</td>\n",
       "      <td>0.004601</td>\n",
       "      <td>52.847044</td>\n",
       "      <td>0.022598</td>\n",
       "      <td>0.458115</td>\n",
       "      <td>0.0</td>\n",
       "      <td>64.667551</td>\n",
       "      <td>0.002305</td>\n",
       "      <td>0.173154</td>\n",
       "      <td>0.170153</td>\n",
       "      <td>0.087242</td>\n",
       "      <td>2.235270e+11</td>\n",
       "      <td>7932.134554</td>\n",
       "      <td>0.064285</td>\n",
       "      <td>0.173235</td>\n",
       "      <td>0.089002</td>\n",
       "      <td>0.001330</td>\n",
       "      <td>0.020334</td>\n",
       "    </tr>\n",
       "    <tr>\n",
       "      <th>MIN</th>\n",
       "      <td>0.000000e+00</td>\n",
       "      <td>0.000000</td>\n",
       "      <td>0.000000e+00</td>\n",
       "      <td>0.000000e+00</td>\n",
       "      <td>0.000000</td>\n",
       "      <td>0.000000</td>\n",
       "      <td>0.000000</td>\n",
       "      <td>0.000000</td>\n",
       "      <td>0.000000</td>\n",
       "      <td>0.000000e+00</td>\n",
       "      <td>0.000000</td>\n",
       "      <td>0.000000</td>\n",
       "      <td>0.000000</td>\n",
       "      <td>0.000000e+00</td>\n",
       "      <td>0.000000</td>\n",
       "      <td>0.000000</td>\n",
       "      <td>0.000000</td>\n",
       "      <td>0.000000</td>\n",
       "      <td>0.000000</td>\n",
       "      <td>0.0</td>\n",
       "      <td>0.000000</td>\n",
       "      <td>0.000000</td>\n",
       "      <td>0.000000</td>\n",
       "      <td>0.000000</td>\n",
       "      <td>0.000000</td>\n",
       "      <td>0.000000e+00</td>\n",
       "      <td>0.000000</td>\n",
       "      <td>0.000000</td>\n",
       "      <td>0.000000</td>\n",
       "      <td>0.000000</td>\n",
       "      <td>0.000000</td>\n",
       "      <td>0.000000</td>\n",
       "    </tr>\n",
       "    <tr>\n",
       "      <th>P1</th>\n",
       "      <td>1.000000e+00</td>\n",
       "      <td>0.000000</td>\n",
       "      <td>0.000000e+00</td>\n",
       "      <td>1.000000e+00</td>\n",
       "      <td>0.000000</td>\n",
       "      <td>0.000000</td>\n",
       "      <td>0.000000</td>\n",
       "      <td>0.000000</td>\n",
       "      <td>0.000000</td>\n",
       "      <td>1.000000e+00</td>\n",
       "      <td>0.000000</td>\n",
       "      <td>0.000000</td>\n",
       "      <td>0.000000</td>\n",
       "      <td>0.000000e+00</td>\n",
       "      <td>0.000000</td>\n",
       "      <td>0.000000</td>\n",
       "      <td>0.000000</td>\n",
       "      <td>0.000000</td>\n",
       "      <td>0.000000</td>\n",
       "      <td>0.0</td>\n",
       "      <td>0.000000</td>\n",
       "      <td>0.000000</td>\n",
       "      <td>0.000000</td>\n",
       "      <td>0.000000</td>\n",
       "      <td>0.000000</td>\n",
       "      <td>0.000000e+00</td>\n",
       "      <td>1.000000</td>\n",
       "      <td>0.000000</td>\n",
       "      <td>0.000000</td>\n",
       "      <td>0.000000</td>\n",
       "      <td>0.000000</td>\n",
       "      <td>0.000000</td>\n",
       "    </tr>\n",
       "    <tr>\n",
       "      <th>P99</th>\n",
       "      <td>5.110000e+02</td>\n",
       "      <td>1.000000</td>\n",
       "      <td>2.603204e+04</td>\n",
       "      <td>2.550000e+02</td>\n",
       "      <td>1.000000</td>\n",
       "      <td>1.000000</td>\n",
       "      <td>1.000000</td>\n",
       "      <td>1.000000</td>\n",
       "      <td>1.000000</td>\n",
       "      <td>2.550000e+02</td>\n",
       "      <td>0.405700</td>\n",
       "      <td>1.000000</td>\n",
       "      <td>1.000000</td>\n",
       "      <td>7.589570e+03</td>\n",
       "      <td>2.000000</td>\n",
       "      <td>0.000000</td>\n",
       "      <td>1.000000</td>\n",
       "      <td>1.000000</td>\n",
       "      <td>0.000000</td>\n",
       "      <td>0.0</td>\n",
       "      <td>0.000000</td>\n",
       "      <td>0.000000</td>\n",
       "      <td>1.000000</td>\n",
       "      <td>1.000000</td>\n",
       "      <td>1.000000</td>\n",
       "      <td>2.836180e+05</td>\n",
       "      <td>511.000000</td>\n",
       "      <td>1.000000</td>\n",
       "      <td>1.000000</td>\n",
       "      <td>1.000000</td>\n",
       "      <td>0.000000</td>\n",
       "      <td>0.000000</td>\n",
       "    </tr>\n",
       "    <tr>\n",
       "      <th>MAX</th>\n",
       "      <td>5.110000e+02</td>\n",
       "      <td>1.000000</td>\n",
       "      <td>1.345927e+06</td>\n",
       "      <td>2.550000e+02</td>\n",
       "      <td>1.000000</td>\n",
       "      <td>1.000000</td>\n",
       "      <td>1.000000</td>\n",
       "      <td>1.000000</td>\n",
       "      <td>1.000000</td>\n",
       "      <td>2.550000e+02</td>\n",
       "      <td>1.000000</td>\n",
       "      <td>1.000000</td>\n",
       "      <td>1.000000</td>\n",
       "      <td>5.771500e+04</td>\n",
       "      <td>101.000000</td>\n",
       "      <td>4.000000</td>\n",
       "      <td>796.000000</td>\n",
       "      <td>4.000000</td>\n",
       "      <td>100.000000</td>\n",
       "      <td>0.0</td>\n",
       "      <td>878.000000</td>\n",
       "      <td>5.000000</td>\n",
       "      <td>1.000000</td>\n",
       "      <td>1.000000</td>\n",
       "      <td>1.000000</td>\n",
       "      <td>6.282565e+07</td>\n",
       "      <td>511.000000</td>\n",
       "      <td>1.000000</td>\n",
       "      <td>1.000000</td>\n",
       "      <td>1.000000</td>\n",
       "      <td>3.000000</td>\n",
       "      <td>3.000000</td>\n",
       "    </tr>\n",
       "  </tbody>\n",
       "</table>\n",
       "</div>"
      ],
      "text/plain": [
       "               count  diff_srv_rate     dst_bytes  dst_host_count  \\\n",
       "COUNT   2.254400e+04   22544.000000  2.254400e+04    2.254400e+04   \n",
       "MISS    0.000000e+00       0.000000  0.000000e+00    0.000000e+00   \n",
       "SUM     1.781615e+06    2120.800000  4.635089e+07    4.370592e+06   \n",
       "MEAN    7.902834e+01       0.094074  2.056019e+03    1.938694e+02   \n",
       "MEDIAN  8.000000e+00       0.000000  4.600000e+01    2.550000e+02   \n",
       "STD     1.285392e+02       0.259138  2.121930e+04    9.403566e+01   \n",
       "VAR     1.652234e+04       0.067152  4.502586e+08    8.842706e+03   \n",
       "MIN     0.000000e+00       0.000000  0.000000e+00    0.000000e+00   \n",
       "P1      1.000000e+00       0.000000  0.000000e+00    1.000000e+00   \n",
       "P99     5.110000e+02       1.000000  2.603204e+04    2.550000e+02   \n",
       "MAX     5.110000e+02       1.000000  1.345927e+06    2.550000e+02   \n",
       "\n",
       "        dst_host_diff_srv_rate  dst_host_rerror_rate  \\\n",
       "COUNT             22544.000000          22544.000000   \n",
       "MISS                  0.000000              0.000000   \n",
       "SUM                2041.130000           5261.430000   \n",
       "MEAN                  0.090540              0.233385   \n",
       "MEDIAN                0.010000              0.000000   \n",
       "STD                   0.220717              0.387229   \n",
       "VAR                   0.048716              0.149946   \n",
       "MIN                   0.000000              0.000000   \n",
       "P1                    0.000000              0.000000   \n",
       "P99                   1.000000              1.000000   \n",
       "MAX                   1.000000              1.000000   \n",
       "\n",
       "        dst_host_same_src_port_rate  dst_host_same_srv_rate  \\\n",
       "COUNT                  22544.000000            22544.000000   \n",
       "MISS                       0.000000                0.000000   \n",
       "SUM                     2981.690000            13723.020000   \n",
       "MEAN                       0.132261                0.608722   \n",
       "MEDIAN                     0.000000                0.920000   \n",
       "STD                        0.306268                0.435688   \n",
       "VAR                        0.093800                0.189824   \n",
       "MIN                        0.000000                0.000000   \n",
       "P1                         0.000000                0.000000   \n",
       "P99                        1.000000                1.000000   \n",
       "MAX                        1.000000                1.000000   \n",
       "\n",
       "        dst_host_serror_rate  dst_host_srv_count  dst_host_srv_diff_host_rate  \\\n",
       "COUNT           22544.000000        2.254400e+04                 22544.000000   \n",
       "MISS                0.000000        0.000000e+00                     0.000000   \n",
       "SUM              2205.110000        3.173080e+06                   442.730000   \n",
       "MEAN                0.097814        1.407505e+02                     0.019638   \n",
       "MEDIAN              0.000000        1.680000e+02                     0.000000   \n",
       "STD                 0.273139        1.117840e+02                     0.085394   \n",
       "VAR                 0.074605        1.249566e+04                     0.007292   \n",
       "MIN                 0.000000        0.000000e+00                     0.000000   \n",
       "P1                  0.000000        1.000000e+00                     0.000000   \n",
       "P99                 1.000000        2.550000e+02                     0.405700   \n",
       "MAX                 1.000000        2.550000e+02                     1.000000   \n",
       "\n",
       "        dst_host_srv_rerror_rate  dst_host_srv_serror_rate      duration  \\\n",
       "COUNT               22544.000000              22544.000000  2.254400e+04   \n",
       "MISS                    0.000000                  0.000000  0.000000e+00   \n",
       "SUM                  5110.340000               2241.460000  4.933959e+06   \n",
       "MEAN                    0.226683                  0.099426  2.188591e+02   \n",
       "MEDIAN                  0.000000                  0.000000  0.000000e+00   \n",
       "STD                     0.400875                  0.281866  1.407177e+03   \n",
       "VAR                     0.160701                  0.079449  1.980146e+06   \n",
       "MIN                     0.000000                  0.000000  0.000000e+00   \n",
       "P1                      0.000000                  0.000000  0.000000e+00   \n",
       "P99                     1.000000                  1.000000  7.589570e+03   \n",
       "MAX                     1.000000                  1.000000  5.771500e+04   \n",
       "\n",
       "                 hot  num_access_files  num_compromised  num_failed_logins  \\\n",
       "COUNT   22544.000000      22544.000000     22544.000000       22544.000000   \n",
       "MISS        0.000000          0.000000         0.000000           0.000000   \n",
       "SUM      2376.000000         80.000000      2703.000000         488.000000   \n",
       "MEAN        0.105394          0.003549         0.119899           0.021647   \n",
       "MEDIAN      0.000000          0.000000         0.000000           0.000000   \n",
       "STD         0.928428          0.067829         7.269597           0.150328   \n",
       "VAR         0.861979          0.004601        52.847044           0.022598   \n",
       "MIN         0.000000          0.000000         0.000000           0.000000   \n",
       "P1          0.000000          0.000000         0.000000           0.000000   \n",
       "P99         2.000000          0.000000         1.000000           1.000000   \n",
       "MAX       101.000000          4.000000       796.000000           4.000000   \n",
       "\n",
       "        num_file_creations  num_outbound_cmds      num_root    num_shells  \\\n",
       "COUNT         22544.000000            22544.0  22544.000000  22544.000000   \n",
       "MISS              0.000000                0.0      0.000000      0.000000   \n",
       "SUM             197.000000                0.0   2585.000000     26.000000   \n",
       "MEAN              0.008738                0.0      0.114665      0.001153   \n",
       "MEDIAN            0.000000                0.0      0.000000      0.000000   \n",
       "STD               0.676842                0.0      8.041614      0.048014   \n",
       "VAR               0.458115                0.0     64.667551      0.002305   \n",
       "MIN               0.000000                0.0      0.000000      0.000000   \n",
       "P1                0.000000                0.0      0.000000      0.000000   \n",
       "P99               0.000000                0.0      0.000000      0.000000   \n",
       "MAX             100.000000                0.0    878.000000      5.000000   \n",
       "\n",
       "         rerror_rate  same_srv_rate   serror_rate     src_bytes  \\\n",
       "COUNT   22544.000000   22544.000000  22544.000000  2.254400e+04   \n",
       "MISS        0.000000       0.000000      0.000000  0.000000e+00   \n",
       "SUM      5375.910000   16690.330000   2320.310000  2.343550e+08   \n",
       "MEAN        0.238463       0.740345      0.102924  1.039545e+04   \n",
       "MEDIAN      0.000000       1.000000      0.000000  5.400000e+01   \n",
       "STD         0.416118       0.412496      0.295367  4.727864e+05   \n",
       "VAR         0.173154       0.170153      0.087242  2.235270e+11   \n",
       "MIN         0.000000       0.000000      0.000000  0.000000e+00   \n",
       "P1          0.000000       0.000000      0.000000  0.000000e+00   \n",
       "P99         1.000000       1.000000      1.000000  2.836180e+05   \n",
       "MAX         1.000000       1.000000      1.000000  6.282565e+07   \n",
       "\n",
       "            srv_count  srv_diff_host_rate  srv_rerror_rate  srv_serror_rate  \\\n",
       "COUNT    22544.000000        22544.000000     22544.000000     22544.000000   \n",
       "MISS         0.000000            0.000000         0.000000         0.000000   \n",
       "SUM     701668.000000         2211.800000      5301.870000      2336.350000   \n",
       "MEAN        31.124379            0.098110         0.235179         0.103635   \n",
       "MEDIAN       6.000000            0.000000         0.000000         0.000000   \n",
       "STD         89.062532            0.253545         0.416215         0.298332   \n",
       "VAR       7932.134554            0.064285         0.173235         0.089002   \n",
       "MIN          0.000000            0.000000         0.000000         0.000000   \n",
       "P1           1.000000            0.000000         0.000000         0.000000   \n",
       "P99        511.000000            1.000000         1.000000         1.000000   \n",
       "MAX        511.000000            1.000000         1.000000         1.000000   \n",
       "\n",
       "              urgent  wrong_fragment  \n",
       "COUNT   22544.000000    22544.000000  \n",
       "MISS        0.000000        0.000000  \n",
       "SUM        16.000000      190.000000  \n",
       "MEAN        0.000710        0.008428  \n",
       "MEDIAN      0.000000        0.000000  \n",
       "STD         0.036473        0.142599  \n",
       "VAR         0.001330        0.020334  \n",
       "MIN         0.000000        0.000000  \n",
       "P1          0.000000        0.000000  \n",
       "P99         0.000000        0.000000  \n",
       "MAX         3.000000        3.000000  "
      ]
     },
     "execution_count": 32,
     "metadata": {},
     "output_type": "execute_result"
    }
   ],
   "source": [
    "#Continuous Variable Summary \n",
    "cont_summ_test = test[cont_cols].apply(continuous_var_summary)\n",
    "cont_summ_test.to_excel(output, 'Test Statistical Summary', startrow = 3)\n",
    "cont_summ_test"
   ]
  },
  {
   "cell_type": "code",
   "execution_count": 33,
   "metadata": {},
   "outputs": [
    {
     "data": {
      "text/html": [
       "<div>\n",
       "<style scoped>\n",
       "    .dataframe tbody tr th:only-of-type {\n",
       "        vertical-align: middle;\n",
       "    }\n",
       "\n",
       "    .dataframe tbody tr th {\n",
       "        vertical-align: top;\n",
       "    }\n",
       "\n",
       "    .dataframe thead th {\n",
       "        text-align: right;\n",
       "    }\n",
       "</style>\n",
       "<table border=\"1\" class=\"dataframe\">\n",
       "  <thead>\n",
       "    <tr style=\"text-align: right;\">\n",
       "      <th></th>\n",
       "      <th>is_guest_login</th>\n",
       "      <th>root_shell</th>\n",
       "      <th>su_attempted</th>\n",
       "      <th>protocol_type</th>\n",
       "      <th>activity</th>\n",
       "      <th>land</th>\n",
       "      <th>attack_class</th>\n",
       "      <th>service</th>\n",
       "      <th>is_host_login</th>\n",
       "      <th>flag</th>\n",
       "      <th>logged</th>\n",
       "    </tr>\n",
       "  </thead>\n",
       "  <tbody>\n",
       "    <tr>\n",
       "      <th>COUNT</th>\n",
       "      <td>22544.00</td>\n",
       "      <td>22544.00</td>\n",
       "      <td>22544.00</td>\n",
       "      <td>22544</td>\n",
       "      <td>22544.00</td>\n",
       "      <td>22544.00</td>\n",
       "      <td>22544</td>\n",
       "      <td>22544</td>\n",
       "      <td>22544.00</td>\n",
       "      <td>22544</td>\n",
       "      <td>22544.00</td>\n",
       "    </tr>\n",
       "    <tr>\n",
       "      <th>UNIQUE</th>\n",
       "      <td>2.00</td>\n",
       "      <td>2.00</td>\n",
       "      <td>3.00</td>\n",
       "      <td>3</td>\n",
       "      <td>2.00</td>\n",
       "      <td>2.00</td>\n",
       "      <td>5</td>\n",
       "      <td>64</td>\n",
       "      <td>2.00</td>\n",
       "      <td>11</td>\n",
       "      <td>2.00</td>\n",
       "    </tr>\n",
       "    <tr>\n",
       "      <th>MISS</th>\n",
       "      <td>0.00</td>\n",
       "      <td>0.00</td>\n",
       "      <td>0.00</td>\n",
       "      <td>0</td>\n",
       "      <td>0.00</td>\n",
       "      <td>0.00</td>\n",
       "      <td>0</td>\n",
       "      <td>0</td>\n",
       "      <td>0.00</td>\n",
       "      <td>0</td>\n",
       "      <td>0.00</td>\n",
       "    </tr>\n",
       "    <tr>\n",
       "      <th>MODE</th>\n",
       "      <td>0.00</td>\n",
       "      <td>0.00</td>\n",
       "      <td>0.00</td>\n",
       "      <td>tcp</td>\n",
       "      <td>1.00</td>\n",
       "      <td>0.00</td>\n",
       "      <td>Normal</td>\n",
       "      <td>http</td>\n",
       "      <td>0.00</td>\n",
       "      <td>SF</td>\n",
       "      <td>0.00</td>\n",
       "    </tr>\n",
       "    <tr>\n",
       "      <th>FREQ</th>\n",
       "      <td>21903.00</td>\n",
       "      <td>22489.00</td>\n",
       "      <td>22540.00</td>\n",
       "      <td>18880</td>\n",
       "      <td>12833.00</td>\n",
       "      <td>22537.00</td>\n",
       "      <td>9711</td>\n",
       "      <td>7853</td>\n",
       "      <td>22533.00</td>\n",
       "      <td>14875</td>\n",
       "      <td>12575.00</td>\n",
       "    </tr>\n",
       "    <tr>\n",
       "      <th>PERCENT</th>\n",
       "      <td>97.16</td>\n",
       "      <td>99.76</td>\n",
       "      <td>99.98</td>\n",
       "      <td>83.75</td>\n",
       "      <td>56.92</td>\n",
       "      <td>99.97</td>\n",
       "      <td>43.08</td>\n",
       "      <td>34.83</td>\n",
       "      <td>99.95</td>\n",
       "      <td>65.98</td>\n",
       "      <td>55.78</td>\n",
       "    </tr>\n",
       "  </tbody>\n",
       "</table>\n",
       "</div>"
      ],
      "text/plain": [
       "         is_guest_login  root_shell  su_attempted protocol_type  activity  \\\n",
       "COUNT          22544.00    22544.00      22544.00         22544  22544.00   \n",
       "UNIQUE             2.00        2.00          3.00             3      2.00   \n",
       "MISS               0.00        0.00          0.00             0      0.00   \n",
       "MODE               0.00        0.00          0.00           tcp      1.00   \n",
       "FREQ           21903.00    22489.00      22540.00         18880  12833.00   \n",
       "PERCENT           97.16       99.76         99.98         83.75     56.92   \n",
       "\n",
       "             land attack_class service  is_host_login   flag    logged  \n",
       "COUNT    22544.00        22544   22544       22544.00  22544  22544.00  \n",
       "UNIQUE       2.00            5      64           2.00     11      2.00  \n",
       "MISS         0.00            0       0           0.00      0      0.00  \n",
       "MODE         0.00       Normal    http           0.00     SF      0.00  \n",
       "FREQ     22537.00         9711    7853       22533.00  14875  12575.00  \n",
       "PERCENT     99.97        43.08   34.83          99.95  65.98     55.78  "
      ]
     },
     "execution_count": 33,
     "metadata": {},
     "output_type": "execute_result"
    }
   ],
   "source": [
    "#Categorical Variable Summary \n",
    "cat_summ_test = test[cat_cols].apply(categorical_var_summary)\n",
    "cat_summ_test.to_excel(output, 'Test Statistical Summary', startrow = 17)\n",
    "cat_summ_test"
   ]
  },
  {
   "cell_type": "markdown",
   "metadata": {},
   "source": [
    "# Data Preparation"
   ]
  },
  {
   "cell_type": "code",
   "execution_count": 34,
   "metadata": {},
   "outputs": [],
   "source": [
    "#Handling Ouliers in train and test dataset\n",
    "train[cont_cols] = train[cont_cols].apply(outlier_capping)\n",
    "train[cont_cols].to_excel(output, 'Train Oulier Treatment')\n",
    "\n",
    "test[cont_cols] = test[cont_cols].apply(outlier_capping)\n",
    "test[cont_cols].to_excel(output, 'Test Oulier Treatment')"
   ]
  },
  {
   "cell_type": "code",
   "execution_count": 35,
   "metadata": {},
   "outputs": [
    {
     "data": {
      "text/plain": [
       "Index(['wrong_fragment', 'urgent', 'num_failed_logins', 'num_root',\n",
       "       'num_file_creations', 'num_shells', 'num_access_files',\n",
       "       'num_outbound_cmds'],\n",
       "      dtype='object')"
      ]
     },
     "execution_count": 35,
     "metadata": {},
     "output_type": "execute_result"
    }
   ],
   "source": [
    "#Columns containing all zeros\n",
    "zero_cols = train.columns[(train==0).all()]\n",
    "zero_cols"
   ]
  },
  {
   "cell_type": "code",
   "execution_count": 36,
   "metadata": {},
   "outputs": [],
   "source": [
    "#Dropping the column containing all zeros\n",
    "train.drop(zero_cols, axis = 1, inplace = True)\n",
    "test.drop(zero_cols, axis = 1, inplace = True)\n",
    "\n",
    "#Dropping service Column as it contains high number of categories\n",
    "train.drop('service', axis = 1, inplace = True)\n",
    "test.drop('service', axis = 1, inplace = True)\n",
    "\n",
    "#Updated Continuous and cateforical columns list\n",
    "cont_cols = cont_cols.difference(zero_cols)\n",
    "cat_cols = cat_cols.difference(zero_cols)"
   ]
  },
  {
   "cell_type": "code",
   "execution_count": 37,
   "metadata": {},
   "outputs": [
    {
     "data": {
      "text/plain": [
       "duration                       0\n",
       "protocol_type                  0\n",
       "flag                           0\n",
       "src_bytes                      0\n",
       "dst_bytes                      0\n",
       "land                           0\n",
       "hot                            0\n",
       "logged                         0\n",
       "num_compromised                0\n",
       "root_shell                     0\n",
       "su_attempted                   0\n",
       "is_host_login                  0\n",
       "is_guest_login                 0\n",
       "count                          0\n",
       "srv_count                      0\n",
       "serror_rate                    0\n",
       "srv_serror_rate                0\n",
       "rerror_rate                    0\n",
       "srv_rerror_rate                0\n",
       "same_srv_rate                  0\n",
       "diff_srv_rate                  0\n",
       "srv_diff_host_rate             0\n",
       "dst_host_count                 0\n",
       "dst_host_srv_count             0\n",
       "dst_host_same_srv_rate         0\n",
       "dst_host_diff_srv_rate         0\n",
       "dst_host_same_src_port_rate    0\n",
       "dst_host_srv_diff_host_rate    0\n",
       "dst_host_serror_rate           0\n",
       "dst_host_srv_serror_rate       0\n",
       "dst_host_rerror_rate           0\n",
       "dst_host_srv_rerror_rate       0\n",
       "attack_class                   0\n",
       "activity                       0\n",
       "dtype: int64"
      ]
     },
     "execution_count": 37,
     "metadata": {},
     "output_type": "execute_result"
    }
   ],
   "source": [
    "#Checking missing values in train dataset\n",
    "train.isna().sum()"
   ]
  },
  {
   "cell_type": "code",
   "execution_count": 38,
   "metadata": {},
   "outputs": [
    {
     "data": {
      "text/plain": [
       "duration                       0\n",
       "protocol_type                  0\n",
       "flag                           0\n",
       "src_bytes                      0\n",
       "dst_bytes                      0\n",
       "land                           0\n",
       "hot                            0\n",
       "logged                         0\n",
       "num_compromised                0\n",
       "root_shell                     0\n",
       "su_attempted                   0\n",
       "is_host_login                  0\n",
       "is_guest_login                 0\n",
       "count                          0\n",
       "srv_count                      0\n",
       "serror_rate                    0\n",
       "srv_serror_rate                0\n",
       "rerror_rate                    0\n",
       "srv_rerror_rate                0\n",
       "same_srv_rate                  0\n",
       "diff_srv_rate                  0\n",
       "srv_diff_host_rate             0\n",
       "dst_host_count                 0\n",
       "dst_host_srv_count             0\n",
       "dst_host_same_srv_rate         0\n",
       "dst_host_diff_srv_rate         0\n",
       "dst_host_same_src_port_rate    0\n",
       "dst_host_srv_diff_host_rate    0\n",
       "dst_host_serror_rate           0\n",
       "dst_host_srv_serror_rate       0\n",
       "dst_host_rerror_rate           0\n",
       "dst_host_srv_rerror_rate       0\n",
       "attack_class                   0\n",
       "activity                       0\n",
       "dtype: int64"
      ]
     },
     "execution_count": 38,
     "metadata": {},
     "output_type": "execute_result"
    }
   ],
   "source": [
    "#Checking missing values in test dataset\n",
    "test.isna().sum()"
   ]
  },
  {
   "cell_type": "markdown",
   "metadata": {},
   "source": [
    "### Creating Dummy Variables"
   ]
  },
  {
   "cell_type": "code",
   "execution_count": 39,
   "metadata": {},
   "outputs": [],
   "source": [
    "#Creating Dummy Variables for nominal features\n",
    "for col in ('protocol_type', 'flag'):\n",
    "    train = dummy_var(train, col)\n",
    "    test  = dummy_var(test, col)"
   ]
  },
  {
   "cell_type": "code",
   "execution_count": 40,
   "metadata": {},
   "outputs": [],
   "source": [
    "#Encoding target variable 'attack_class' using Label Encoder\n",
    "target_map = {'Normal':'0', 'DoS':'1', 'Probe':'2', 'R2L':'3', 'U2R':'4'}\n",
    "train['attack_class'] = train['attack_class'].apply(lambda x: target_map[x])\n",
    "test['attack_class'] = test['attack_class'].apply(lambda x: target_map[x])\n",
    "\n",
    "train['attack_class'] = train['attack_class'].astype('int64')\n",
    "test['attack_class'] = test['attack_class'].astype('int64')"
   ]
  },
  {
   "cell_type": "code",
   "execution_count": 41,
   "metadata": {},
   "outputs": [],
   "source": [
    "#Saving data to excel\n",
    "train.to_excel(output, 'Encoded Train Data')\n",
    "test.to_excel(output, 'Encoded Test Data')"
   ]
  },
  {
   "cell_type": "markdown",
   "metadata": {},
   "source": [
    "### Sacaling numerical variables"
   ]
  },
  {
   "cell_type": "code",
   "execution_count": 42,
   "metadata": {},
   "outputs": [
    {
     "data": {
      "text/html": [
       "<div>\n",
       "<style scoped>\n",
       "    .dataframe tbody tr th:only-of-type {\n",
       "        vertical-align: middle;\n",
       "    }\n",
       "\n",
       "    .dataframe tbody tr th {\n",
       "        vertical-align: top;\n",
       "    }\n",
       "\n",
       "    .dataframe thead th {\n",
       "        text-align: right;\n",
       "    }\n",
       "</style>\n",
       "<table border=\"1\" class=\"dataframe\">\n",
       "  <thead>\n",
       "    <tr style=\"text-align: right;\">\n",
       "      <th></th>\n",
       "      <th>count</th>\n",
       "      <th>diff_srv_rate</th>\n",
       "      <th>dst_bytes</th>\n",
       "      <th>dst_host_count</th>\n",
       "      <th>dst_host_diff_srv_rate</th>\n",
       "      <th>dst_host_rerror_rate</th>\n",
       "      <th>dst_host_same_src_port_rate</th>\n",
       "      <th>dst_host_same_srv_rate</th>\n",
       "      <th>dst_host_serror_rate</th>\n",
       "      <th>dst_host_srv_count</th>\n",
       "      <th>dst_host_srv_diff_host_rate</th>\n",
       "      <th>dst_host_srv_rerror_rate</th>\n",
       "      <th>dst_host_srv_serror_rate</th>\n",
       "      <th>duration</th>\n",
       "      <th>hot</th>\n",
       "      <th>num_compromised</th>\n",
       "      <th>rerror_rate</th>\n",
       "      <th>same_srv_rate</th>\n",
       "      <th>serror_rate</th>\n",
       "      <th>src_bytes</th>\n",
       "      <th>srv_count</th>\n",
       "      <th>srv_diff_host_rate</th>\n",
       "      <th>srv_rerror_rate</th>\n",
       "      <th>srv_serror_rate</th>\n",
       "    </tr>\n",
       "  </thead>\n",
       "  <tbody>\n",
       "    <tr>\n",
       "      <th>0</th>\n",
       "      <td>-0.717047</td>\n",
       "      <td>-0.349683</td>\n",
       "      <td>-0.352792</td>\n",
       "      <td>-0.324063</td>\n",
       "      <td>-0.280282</td>\n",
       "      <td>-0.224532</td>\n",
       "      <td>0.069972</td>\n",
       "      <td>-0.782367</td>\n",
       "      <td>-0.639532</td>\n",
       "      <td>-0.818890</td>\n",
       "      <td>-0.320917</td>\n",
       "      <td>-0.376387</td>\n",
       "      <td>-0.624871</td>\n",
       "      <td>-0.138442</td>\n",
       "      <td>-0.140747</td>\n",
       "      <td>-0.101557</td>\n",
       "      <td>-0.374362</td>\n",
       "      <td>0.771283</td>\n",
       "      <td>-0.637209</td>\n",
       "      <td>-0.087734</td>\n",
       "      <td>-0.357788</td>\n",
       "      <td>-0.374560</td>\n",
       "      <td>-0.374432</td>\n",
       "      <td>-0.631929</td>\n",
       "    </tr>\n",
       "    <tr>\n",
       "      <th>1</th>\n",
       "      <td>-0.620984</td>\n",
       "      <td>0.482201</td>\n",
       "      <td>-0.352792</td>\n",
       "      <td>0.734343</td>\n",
       "      <td>2.736852</td>\n",
       "      <td>-0.387635</td>\n",
       "      <td>2.367737</td>\n",
       "      <td>-1.161030</td>\n",
       "      <td>-0.639532</td>\n",
       "      <td>-1.035688</td>\n",
       "      <td>-0.320917</td>\n",
       "      <td>-0.376387</td>\n",
       "      <td>-0.624871</td>\n",
       "      <td>-0.138442</td>\n",
       "      <td>-0.140747</td>\n",
       "      <td>-0.101557</td>\n",
       "      <td>-0.374362</td>\n",
       "      <td>-1.321428</td>\n",
       "      <td>-0.637209</td>\n",
       "      <td>-0.143942</td>\n",
       "      <td>-0.371789</td>\n",
       "      <td>-0.374560</td>\n",
       "      <td>-0.374432</td>\n",
       "      <td>-0.631929</td>\n",
       "    </tr>\n",
       "    <tr>\n",
       "      <th>2</th>\n",
       "      <td>0.339647</td>\n",
       "      <td>0.038529</td>\n",
       "      <td>-0.352792</td>\n",
       "      <td>0.734343</td>\n",
       "      <td>-0.174417</td>\n",
       "      <td>-0.387635</td>\n",
       "      <td>-0.480197</td>\n",
       "      <td>-0.938287</td>\n",
       "      <td>1.608759</td>\n",
       "      <td>-0.809857</td>\n",
       "      <td>-0.320917</td>\n",
       "      <td>-0.376387</td>\n",
       "      <td>1.618955</td>\n",
       "      <td>-0.138442</td>\n",
       "      <td>-0.140747</td>\n",
       "      <td>-0.101557</td>\n",
       "      <td>-0.374362</td>\n",
       "      <td>-1.389669</td>\n",
       "      <td>1.602664</td>\n",
       "      <td>-0.167729</td>\n",
       "      <td>-0.301781</td>\n",
       "      <td>-0.374560</td>\n",
       "      <td>-0.374432</td>\n",
       "      <td>1.605104</td>\n",
       "    </tr>\n",
       "    <tr>\n",
       "      <th>3</th>\n",
       "      <td>-0.690848</td>\n",
       "      <td>-0.349683</td>\n",
       "      <td>1.790321</td>\n",
       "      <td>-1.533670</td>\n",
       "      <td>-0.439078</td>\n",
       "      <td>-0.387635</td>\n",
       "      <td>-0.383108</td>\n",
       "      <td>1.066401</td>\n",
       "      <td>-0.572083</td>\n",
       "      <td>1.258754</td>\n",
       "      <td>0.112042</td>\n",
       "      <td>-0.345084</td>\n",
       "      <td>-0.602433</td>\n",
       "      <td>-0.138442</td>\n",
       "      <td>-0.140747</td>\n",
       "      <td>-0.101557</td>\n",
       "      <td>-0.374362</td>\n",
       "      <td>0.771283</td>\n",
       "      <td>-0.189235</td>\n",
       "      <td>-0.129931</td>\n",
       "      <td>-0.315783</td>\n",
       "      <td>-0.374560</td>\n",
       "      <td>-0.374432</td>\n",
       "      <td>-0.184522</td>\n",
       "    </tr>\n",
       "    <tr>\n",
       "      <th>4</th>\n",
       "      <td>-0.472523</td>\n",
       "      <td>-0.349683</td>\n",
       "      <td>-0.242390</td>\n",
       "      <td>0.734343</td>\n",
       "      <td>-0.439078</td>\n",
       "      <td>-0.387635</td>\n",
       "      <td>-0.480197</td>\n",
       "      <td>1.066401</td>\n",
       "      <td>-0.639532</td>\n",
       "      <td>1.258754</td>\n",
       "      <td>-0.320917</td>\n",
       "      <td>-0.376387</td>\n",
       "      <td>-0.624871</td>\n",
       "      <td>-0.138442</td>\n",
       "      <td>-0.140747</td>\n",
       "      <td>-0.101557</td>\n",
       "      <td>-0.374362</td>\n",
       "      <td>0.771283</td>\n",
       "      <td>-0.637209</td>\n",
       "      <td>-0.135307</td>\n",
       "      <td>0.062263</td>\n",
       "      <td>-0.028179</td>\n",
       "      <td>-0.374432</td>\n",
       "      <td>-0.631929</td>\n",
       "    </tr>\n",
       "  </tbody>\n",
       "</table>\n",
       "</div>"
      ],
      "text/plain": [
       "      count  diff_srv_rate  dst_bytes  dst_host_count  dst_host_diff_srv_rate  \\\n",
       "0 -0.717047      -0.349683  -0.352792       -0.324063               -0.280282   \n",
       "1 -0.620984       0.482201  -0.352792        0.734343                2.736852   \n",
       "2  0.339647       0.038529  -0.352792        0.734343               -0.174417   \n",
       "3 -0.690848      -0.349683   1.790321       -1.533670               -0.439078   \n",
       "4 -0.472523      -0.349683  -0.242390        0.734343               -0.439078   \n",
       "\n",
       "   dst_host_rerror_rate  dst_host_same_src_port_rate  dst_host_same_srv_rate  \\\n",
       "0             -0.224532                     0.069972               -0.782367   \n",
       "1             -0.387635                     2.367737               -1.161030   \n",
       "2             -0.387635                    -0.480197               -0.938287   \n",
       "3             -0.387635                    -0.383108                1.066401   \n",
       "4             -0.387635                    -0.480197                1.066401   \n",
       "\n",
       "   dst_host_serror_rate  dst_host_srv_count  dst_host_srv_diff_host_rate  \\\n",
       "0             -0.639532           -0.818890                    -0.320917   \n",
       "1             -0.639532           -1.035688                    -0.320917   \n",
       "2              1.608759           -0.809857                    -0.320917   \n",
       "3             -0.572083            1.258754                     0.112042   \n",
       "4             -0.639532            1.258754                    -0.320917   \n",
       "\n",
       "   dst_host_srv_rerror_rate  dst_host_srv_serror_rate  duration       hot  \\\n",
       "0                 -0.376387                 -0.624871 -0.138442 -0.140747   \n",
       "1                 -0.376387                 -0.624871 -0.138442 -0.140747   \n",
       "2                 -0.376387                  1.618955 -0.138442 -0.140747   \n",
       "3                 -0.345084                 -0.602433 -0.138442 -0.140747   \n",
       "4                 -0.376387                 -0.624871 -0.138442 -0.140747   \n",
       "\n",
       "   num_compromised  rerror_rate  same_srv_rate  serror_rate  src_bytes  \\\n",
       "0        -0.101557    -0.374362       0.771283    -0.637209  -0.087734   \n",
       "1        -0.101557    -0.374362      -1.321428    -0.637209  -0.143942   \n",
       "2        -0.101557    -0.374362      -1.389669     1.602664  -0.167729   \n",
       "3        -0.101557    -0.374362       0.771283    -0.189235  -0.129931   \n",
       "4        -0.101557    -0.374362       0.771283    -0.637209  -0.135307   \n",
       "\n",
       "   srv_count  srv_diff_host_rate  srv_rerror_rate  srv_serror_rate  \n",
       "0  -0.357788           -0.374560        -0.374432        -0.631929  \n",
       "1  -0.371789           -0.374560        -0.374432        -0.631929  \n",
       "2  -0.301781           -0.374560        -0.374432         1.605104  \n",
       "3  -0.315783           -0.374560        -0.374432        -0.184522  \n",
       "4   0.062263           -0.028179        -0.374432        -0.631929  "
      ]
     },
     "execution_count": 42,
     "metadata": {},
     "output_type": "execute_result"
    }
   ],
   "source": [
    "#Standardizing the datasets\n",
    "scaler = StandardScaler()\n",
    "train[cont_cols] = pd.DataFrame(scaler.fit_transform(train[cont_cols]), columns = cont_cols)\n",
    "test[cont_cols] = pd.DataFrame(scaler.transform(test[cont_cols]), columns = cont_cols)\n",
    "\n",
    "train[cont_cols].head()"
   ]
  },
  {
   "cell_type": "code",
   "execution_count": 43,
   "metadata": {},
   "outputs": [],
   "source": [
    "#Saving scaled data to excel\n",
    "train[cont_cols].to_excel(output, 'Scaled Train Data')\n",
    "test[cont_cols].to_excel(output, 'Scaled Test Data')"
   ]
  },
  {
   "cell_type": "markdown",
   "metadata": {},
   "source": [
    "### Correlation Matrix"
   ]
  },
  {
   "cell_type": "code",
   "execution_count": 44,
   "metadata": {},
   "outputs": [
    {
     "data": {
      "text/plain": [
       "activity                       1.000000\n",
       "attack_class                   0.887801\n",
       "dst_host_srv_serror_rate       0.654985\n",
       "dst_host_serror_rate           0.651842\n",
       "serror_rate                    0.650652\n",
       "flag_S0                        0.650206\n",
       "srv_serror_rate                0.648289\n",
       "count                          0.576444\n",
       "dst_host_count                 0.375052\n",
       "srv_rerror_rate                0.253504\n",
       "dst_host_srv_rerror_rate       0.253430\n",
       "rerror_rate                    0.253397\n",
       "dst_host_rerror_rate           0.252563\n",
       "dst_host_diff_srv_rate         0.242898\n",
       "diff_srv_rate                  0.203660\n",
       "flag_REJ                       0.184949\n",
       "flag_RSTR                      0.133099\n",
       "dst_host_same_src_port_rate    0.092444\n",
       "flag_RSTO                      0.088592\n",
       "dst_host_srv_diff_host_rate    0.055120\n",
       "protocol_type_tcp              0.053126\n",
       "num_compromised                0.049946\n",
       "flag_SH                        0.049075\n",
       "flag_RSTOS0                    0.030658\n",
       "duration                       0.009284\n",
       "land                           0.007191\n",
       "hot                            0.006637\n",
       "srv_count                     -0.001963\n",
       "is_host_login                 -0.002629\n",
       "src_bytes                     -0.004409\n",
       "flag_S3                       -0.015178\n",
       "root_shell                    -0.020285\n",
       "su_attempted                  -0.022448\n",
       "flag_S2                       -0.025629\n",
       "is_guest_login                -0.039279\n",
       "flag_S1                       -0.049114\n",
       "srv_diff_host_rate            -0.119377\n",
       "protocol_type_udp             -0.217184\n",
       "dst_bytes                     -0.289517\n",
       "logged                        -0.690171\n",
       "dst_host_same_srv_rate        -0.693803\n",
       "dst_host_srv_count            -0.722536\n",
       "same_srv_rate                 -0.751913\n",
       "flag_SF                       -0.756286\n",
       "dtype: float64"
      ]
     },
     "execution_count": 44,
     "metadata": {},
     "output_type": "execute_result"
    }
   ],
   "source": [
    "#Checking correlation with the dependant variable - 'activity'\n",
    "corr_activity = train.corrwith(train['activity']).sort_values(ascending = False)\n",
    "corr_activity.to_excel(output, 'Correlation with Target', startcol = 2)\n",
    "corr_activity"
   ]
  },
  {
   "cell_type": "code",
   "execution_count": 45,
   "metadata": {},
   "outputs": [
    {
     "data": {
      "text/plain": [
       "attack_class                   1.000000\n",
       "activity                       0.887801\n",
       "dst_host_diff_srv_rate         0.391328\n",
       "count                          0.388358\n",
       "dst_host_srv_serror_rate       0.384796\n",
       "dst_host_serror_rate           0.382118\n",
       "serror_rate                    0.381646\n",
       "srv_serror_rate                0.378669\n",
       "flag_S0                        0.373549\n",
       "dst_host_same_src_port_rate    0.319096\n",
       "dst_host_srv_rerror_rate       0.310227\n",
       "srv_rerror_rate                0.309909\n",
       "rerror_rate                    0.308668\n",
       "dst_host_rerror_rate           0.293805\n",
       "diff_srv_rate                  0.282314\n",
       "flag_RSTR                      0.255984\n",
       "dst_host_srv_diff_host_rate    0.246424\n",
       "flag_REJ                       0.198654\n",
       "dst_host_count                 0.196102\n",
       "flag_SH                        0.095326\n",
       "duration                       0.090309\n",
       "flag_RSTO                      0.064064\n",
       "hot                            0.063332\n",
       "flag_RSTOS0                    0.058729\n",
       "is_guest_login                 0.030600\n",
       "num_compromised                0.029078\n",
       "srv_diff_host_rate             0.010456\n",
       "root_shell                     0.007758\n",
       "land                           0.002944\n",
       "is_host_login                 -0.002334\n",
       "flag_S3                       -0.009961\n",
       "src_bytes                     -0.013303\n",
       "su_attempted                  -0.019483\n",
       "flag_S2                       -0.021991\n",
       "srv_count                     -0.041080\n",
       "flag_S1                       -0.043165\n",
       "protocol_type_tcp             -0.057783\n",
       "protocol_type_udp             -0.155004\n",
       "dst_bytes                     -0.253213\n",
       "same_srv_rate                 -0.510871\n",
       "dst_host_same_srv_rate        -0.525829\n",
       "flag_SF                       -0.548643\n",
       "logged                        -0.576031\n",
       "dst_host_srv_count            -0.624241\n",
       "dtype: float64"
      ]
     },
     "execution_count": 45,
     "metadata": {},
     "output_type": "execute_result"
    }
   ],
   "source": [
    "#Checking correlation with the dependant variable - 'attack_class'\n",
    "corr_attack = train.corrwith(train['attack_class']).sort_values(ascending = False)\n",
    "corr_attack.to_excel(output, 'Correlation with Target', startcol = 5)\n",
    "corr_attack"
   ]
  },
  {
   "cell_type": "code",
   "execution_count": 46,
   "metadata": {},
   "outputs": [
    {
     "data": {
      "image/png": "[encoded data removed]",
      "text/plain": [
       "<Figure size 1008x720 with 2 Axes>"
      ]
     },
     "metadata": {
      "needs_background": "light"
     },
     "output_type": "display_data"
    }
   ],
   "source": [
    "#Correlation Matrix for train dataset\n",
    "cm = train.corr()\n",
    "cm.to_excel(output, 'Train Correlation Matrix')\n",
    "\n",
    "plt.figure(figsize = (14,10))\n",
    "sns.heatmap(cm)\n",
    "plt.show()"
   ]
  },
  {
   "cell_type": "code",
   "execution_count": 47,
   "metadata": {},
   "outputs": [
    {
     "data": {
      "image/png": "[encoded data removed]",
      "text/plain": [
       "<Figure size 1008x720 with 2 Axes>"
      ]
     },
     "metadata": {
      "needs_background": "light"
     },
     "output_type": "display_data"
    }
   ],
   "source": [
    "#Correlation Matrix for test dataset\n",
    "cm1 = train.corr()\n",
    "cm1.to_excel(output, 'Test Correlation Matrix')\n",
    "\n",
    "plt.figure(figsize = (14,10))\n",
    "sns.heatmap(cm1)\n",
    "plt.show()"
   ]
  },
  {
   "cell_type": "markdown",
   "metadata": {},
   "source": [
    "# Feature Selection"
   ]
  },
  {
   "cell_type": "code",
   "execution_count": 48,
   "metadata": {},
   "outputs": [
    {
     "data": {
      "text/plain": [
       "Index(['count', 'dst_host_count', 'dst_host_diff_srv_rate',\n",
       "       'dst_host_rerror_rate', 'dst_host_same_src_port_rate',\n",
       "       'dst_host_same_srv_rate', 'dst_host_serror_rate', 'dst_host_srv_count',\n",
       "       'dst_host_srv_diff_host_rate', 'hot', 'logged', 'protocol_type_tcp',\n",
       "       'same_srv_rate', 'src_bytes', 'srv_count'],\n",
       "      dtype='object')"
      ]
     },
     "execution_count": 48,
     "metadata": {},
     "output_type": "execute_result"
    }
   ],
   "source": [
    "#Using RandomForestClassifier as an estimator\n",
    "est = ExtraTreeClassifier(random_state = 123)\n",
    "\n",
    "feat_cols = train.columns.difference(['activity','attack_class'])\n",
    "\n",
    "#Using RFE to get importance of each variable\n",
    "rfe = RFE(estimator = est, n_features_to_select = 15)\n",
    "rfe.fit(train[feat_cols], train['attack_class'])\n",
    "\n",
    "#Getting important features\n",
    "rfe_cols = feat_cols[rfe.support_]\n",
    "\n",
    "pd.Series(rfe_cols).to_excel(output, 'RFE Result', index = True)\n",
    "\n",
    "rfe_cols"
   ]
  },
  {
   "cell_type": "code",
   "execution_count": 49,
   "metadata": {},
   "outputs": [],
   "source": [
    "#Getting model formula\n",
    "model_fm = '''attack_class ~ count + dst_host_count + dst_host_diff_srv_rate +\n",
    "              dst_host_rerror_rate + dst_host_same_src_port_rate + dst_host_srv_count +\n",
    "              dst_host_srv_diff_host_rate + hot + logged + protocol_type_tcp + src_bytes +\n",
    "              srv_count'''"
   ]
  },
  {
   "cell_type": "code",
   "execution_count": 50,
   "metadata": {},
   "outputs": [
    {
     "data": {
      "text/html": [
       "<div>\n",
       "<style scoped>\n",
       "    .dataframe tbody tr th:only-of-type {\n",
       "        vertical-align: middle;\n",
       "    }\n",
       "\n",
       "    .dataframe tbody tr th {\n",
       "        vertical-align: top;\n",
       "    }\n",
       "\n",
       "    .dataframe thead th {\n",
       "        text-align: right;\n",
       "    }\n",
       "</style>\n",
       "<table border=\"1\" class=\"dataframe\">\n",
       "  <thead>\n",
       "    <tr style=\"text-align: right;\">\n",
       "      <th></th>\n",
       "      <th>Features</th>\n",
       "      <th>VIF Factor</th>\n",
       "    </tr>\n",
       "  </thead>\n",
       "  <tbody>\n",
       "    <tr>\n",
       "      <th>0</th>\n",
       "      <td>Intercept</td>\n",
       "      <td>10.3</td>\n",
       "    </tr>\n",
       "    <tr>\n",
       "      <th>1</th>\n",
       "      <td>count</td>\n",
       "      <td>2.9</td>\n",
       "    </tr>\n",
       "    <tr>\n",
       "      <th>2</th>\n",
       "      <td>dst_host_count</td>\n",
       "      <td>2.0</td>\n",
       "    </tr>\n",
       "    <tr>\n",
       "      <th>3</th>\n",
       "      <td>dst_host_diff_srv_rate</td>\n",
       "      <td>1.5</td>\n",
       "    </tr>\n",
       "    <tr>\n",
       "      <th>4</th>\n",
       "      <td>dst_host_rerror_rate</td>\n",
       "      <td>1.4</td>\n",
       "    </tr>\n",
       "    <tr>\n",
       "      <th>5</th>\n",
       "      <td>dst_host_same_src_port_rate</td>\n",
       "      <td>1.9</td>\n",
       "    </tr>\n",
       "    <tr>\n",
       "      <th>6</th>\n",
       "      <td>dst_host_srv_count</td>\n",
       "      <td>2.9</td>\n",
       "    </tr>\n",
       "    <tr>\n",
       "      <th>7</th>\n",
       "      <td>dst_host_srv_diff_host_rate</td>\n",
       "      <td>1.7</td>\n",
       "    </tr>\n",
       "    <tr>\n",
       "      <th>8</th>\n",
       "      <td>hot</td>\n",
       "      <td>1.2</td>\n",
       "    </tr>\n",
       "    <tr>\n",
       "      <th>9</th>\n",
       "      <td>logged</td>\n",
       "      <td>3.8</td>\n",
       "    </tr>\n",
       "    <tr>\n",
       "      <th>10</th>\n",
       "      <td>protocol_type_tcp</td>\n",
       "      <td>3.0</td>\n",
       "    </tr>\n",
       "    <tr>\n",
       "      <th>11</th>\n",
       "      <td>src_bytes</td>\n",
       "      <td>1.2</td>\n",
       "    </tr>\n",
       "    <tr>\n",
       "      <th>12</th>\n",
       "      <td>srv_count</td>\n",
       "      <td>2.8</td>\n",
       "    </tr>\n",
       "  </tbody>\n",
       "</table>\n",
       "</div>"
      ],
      "text/plain": [
       "                       Features  VIF Factor\n",
       "0                     Intercept        10.3\n",
       "1                         count         2.9\n",
       "2                dst_host_count         2.0\n",
       "3        dst_host_diff_srv_rate         1.5\n",
       "4          dst_host_rerror_rate         1.4\n",
       "5   dst_host_same_src_port_rate         1.9\n",
       "6            dst_host_srv_count         2.9\n",
       "7   dst_host_srv_diff_host_rate         1.7\n",
       "8                           hot         1.2\n",
       "9                        logged         3.8\n",
       "10            protocol_type_tcp         3.0\n",
       "11                    src_bytes         1.2\n",
       "12                    srv_count         2.8"
      ]
     },
     "execution_count": 50,
     "metadata": {},
     "output_type": "execute_result"
    }
   ],
   "source": [
    "## Separating the X and Y variables\n",
    "target_y, predictor_x  = dmatrices(model_fm, data = train, return_type = 'dataframe')\n",
    "\n",
    "#Calculating VIF for each X and saving in DataFrame\n",
    "vif = pd.DataFrame()\n",
    "vif['Features'] = predictor_x.columns\n",
    "vif['VIF Factor'] = [variance_inflation_factor(predictor_x.values, i) for i in range(predictor_x.shape[1])]\n",
    "\n",
    "vif.round(1).to_excel(output, 'VIF Result', index = True)\n",
    "\n",
    "#Getting features\n",
    "vif_cols = list(set(vif.Features).difference(['Intercept']))\n",
    "\n",
    "#VIF output\n",
    "vif.round(1)"
   ]
  },
  {
   "cell_type": "markdown",
   "metadata": {},
   "source": [
    "# Prediction Model  \n",
    "## Binomial Classification\n",
    "### Predicting Activity - Normal or Attack"
   ]
  },
  {
   "cell_type": "code",
   "execution_count": 51,
   "metadata": {},
   "outputs": [],
   "source": [
    "#Getting final features and target\n",
    "X = vif_cols\n",
    "\n",
    "#target for activity classification\n",
    "Y1 = 'activity'\n",
    "\n",
    "#Splitting Data into 70% train and 30% test\n",
    "train_x, test_x, train_y, test_y = train_test_split(train[X], train[Y1], \n",
    "                                                    test_size = 0.3, \n",
    "                                                    random_state = 123)"
   ]
  },
  {
   "cell_type": "markdown",
   "metadata": {},
   "source": [
    "### Decision Tree Model\n"
   ]
  },
  {
   "cell_type": "code",
   "execution_count": 52,
   "metadata": {},
   "outputs": [],
   "source": [
    "#Using GridSearchCV to get best fit parameters\n",
    "pm = {\n",
    "           'max_features' : [10],\n",
    "            'max_depth'   : [11]    \n",
    "     }\n",
    "\n",
    "gscv_dt = GridSearchCV(estimator = DecisionTreeClassifier(random_state = 123), \n",
    "                    param_grid = pm,\n",
    "                    cv = 10,\n",
    "                    scoring = 'roc_auc',\n",
    "                    n_jobs = -1).fit(train_x, train_y)"
   ]
  },
  {
   "cell_type": "code",
   "execution_count": 53,
   "metadata": {},
   "outputs": [
    {
     "data": {
      "text/plain": [
       "{'max_depth': 11, 'max_features': 10}"
      ]
     },
     "execution_count": 53,
     "metadata": {},
     "output_type": "execute_result"
    }
   ],
   "source": [
    "gscv_dt.best_params_"
   ]
  },
  {
   "cell_type": "code",
   "execution_count": 54,
   "metadata": {},
   "outputs": [],
   "source": [
    "#Using best fit parameters to fit the model\n",
    "dt = gscv_dt.best_estimator_\n",
    "\n",
    "#Making prediction on train and test data\n",
    "train_pred_dt = dt.predict(train_x)\n",
    "test_pred_dt = dt.predict(test_x)\n",
    "\n",
    "#Calculating log loss\n",
    "log_dt = metrics.log_loss(test_y, dt.predict_proba(test_x))"
   ]
  },
  {
   "cell_type": "code",
   "execution_count": 55,
   "metadata": {},
   "outputs": [
    {
     "name": "stdout",
     "output_type": "stream",
     "text": [
      "Train Dataset\n",
      "Accuracy :  0.9979247230128939\n",
      "AUC      :  0.9999415608081177\n",
      "\n",
      "Test Dataset\n",
      "Accuracy :  0.9964278154106689\n",
      "AUC      :  0.9984033694628809\n",
      "Log Loss :  0.053043005732949414\n"
     ]
    }
   ],
   "source": [
    "#Evaluating performance\n",
    "\n",
    "print(\"Train Dataset\")\n",
    "print(\"Accuracy : \", metrics.accuracy_score(train_y, train_pred_dt))\n",
    "print(\"AUC      : \", metrics.roc_auc_score(train_y, dt.predict_proba(train_x)[:,1]))\n",
    "print(\"\")\n",
    "print(\"Test Dataset\")\n",
    "acc_score_dt = metrics.accuracy_score(test_y, test_pred_dt)\n",
    "print(\"Accuracy : \", acc_score_dt)\n",
    "auc_dt = metrics.roc_auc_score(test_y, dt.predict_proba(test_x)[:,1])\n",
    "print(\"AUC      : \", auc_dt)\n",
    "print(\"Log Loss : \", log_dt)"
   ]
  },
  {
   "cell_type": "code",
   "execution_count": 56,
   "metadata": {},
   "outputs": [
    {
     "data": {
      "image/png": "[encoded data removed]",
      "text/plain": [
       "<Figure size 432x288 with 2 Axes>"
      ]
     },
     "metadata": {
      "needs_background": "light"
     },
     "output_type": "display_data"
    }
   ],
   "source": [
    "#Confusion Matrix\n",
    "confusion_matrix = metrics.confusion_matrix(test_y, test_pred_dt, labels = [0,1])\n",
    "sns.heatmap(confusion_matrix)\n",
    "plt.xlabel('Predicted Label')\n",
    "plt.ylabel('Actual Label')\n",
    "plt.show()"
   ]
  },
  {
   "cell_type": "code",
   "execution_count": 57,
   "metadata": {},
   "outputs": [
    {
     "name": "stdout",
     "output_type": "stream",
     "text": [
      "              precision    recall  f1-score   support\n",
      "\n",
      "           0       1.00      1.00      1.00     20162\n",
      "           1       1.00      0.99      1.00     17630\n",
      "\n",
      "    accuracy                           1.00     37792\n",
      "   macro avg       1.00      1.00      1.00     37792\n",
      "weighted avg       1.00      1.00      1.00     37792\n",
      "\n"
     ]
    }
   ],
   "source": [
    "#Classification metrics scores of the model\n",
    "print(metrics.classification_report(test_y, test_pred_dt))"
   ]
  },
  {
   "cell_type": "code",
   "execution_count": 58,
   "metadata": {},
   "outputs": [
    {
     "data": {
      "text/plain": [
       "<BarContainer object of 12 artists>"
      ]
     },
     "execution_count": 58,
     "metadata": {},
     "output_type": "execute_result"
    },
    {
     "data": {
      "image/png": "[encoded data removed]",
      "text/plain": [
       "<Figure size 432x288 with 1 Axes>"
      ]
     },
     "metadata": {
      "needs_background": "light"
     },
     "output_type": "display_data"
    }
   ],
   "source": [
    "#Feature Impotance for Decision Tree Model\n",
    "dt_fi = pd.DataFrame({'Features' : train_x.columns ,\n",
    "                      'Importance' : dt.feature_importances_\n",
    "                     }).sort_values(by = 'Importance').reset_index(drop = True)\n",
    "\n",
    "dt_fi.to_excel(output, 'Drivers_Binomial', startrow=30, startcol=1, index = False)\n",
    "\n",
    "plt.barh(width = dt_fi.Importance, y = dt_fi.Features)"
   ]
  },
  {
   "cell_type": "markdown",
   "metadata": {},
   "source": [
    "## KNN Model"
   ]
  },
  {
   "cell_type": "code",
   "execution_count": 59,
   "metadata": {},
   "outputs": [
    {
     "data": {
      "text/plain": [
       "KNeighborsClassifier(n_neighbors=13)"
      ]
     },
     "execution_count": 59,
     "metadata": {},
     "output_type": "execute_result"
    }
   ],
   "source": [
    "# re-building the model for the best n_neighbors\n",
    "knn_clf = KNeighborsClassifier( n_neighbors = 13 )\n",
    "knn_clf.fit(train_x, train_y)"
   ]
  },
  {
   "cell_type": "code",
   "execution_count": 60,
   "metadata": {},
   "outputs": [],
   "source": [
    "\n",
    "#Making prediction on train and test data\n",
    "train_pred_knn_clf = knn_clf.predict(train_x)\n",
    "test_pred_knn_clf = knn_clf.predict(test_x)\n",
    "\n",
    "#Calculating log loss\n",
    "log_knn_clf = metrics.log_loss(test_y, knn_clf.predict_proba(test_x))"
   ]
  },
  {
   "cell_type": "code",
   "execution_count": 61,
   "metadata": {},
   "outputs": [
    {
     "name": "stdout",
     "output_type": "stream",
     "text": [
      "Model Performance\n",
      "Accuracy Train Dataset :  0.9921411641963689\n",
      "Accuracy Test Dataset  :  0.9904477138018628\n",
      "AUC Train Dataset      :  0.9998040535126531\n",
      "AUC Test Dataset       :  0.9992269578974121\n",
      "Log Loss :  0.036367643141252654\n"
     ]
    }
   ],
   "source": [
    "# get the model accuracy\n",
    "print(\"Model Performance\")\n",
    "print(\"Accuracy Train Dataset : \", metrics.accuracy_score(train_y, knn_clf.predict(train_x)))\n",
    "print(\"Accuracy Test Dataset  : \", metrics.accuracy_score(test_y, knn_clf.predict(test_x)))\n",
    "# get the probability score on training and testing\n",
    "train_predict_prob = pd.DataFrame(knn_clf.predict_proba(train_x))[1]\n",
    "test_predict_prob = pd.DataFrame(knn_clf.predict_proba(test_x))[1]\n",
    "# get the model auc\n",
    "print(\"AUC Train Dataset      : \",metrics.roc_auc_score(train_y, train_predict_prob))\n",
    "print(\"AUC Test Dataset       : \",metrics.roc_auc_score(test_y, test_predict_prob))\n",
    "print(\"Log Loss : \", log_knn_clf )"
   ]
  },
  {
   "cell_type": "code",
   "execution_count": 62,
   "metadata": {},
   "outputs": [],
   "source": [
    "acc_score_knn_clf = metrics.accuracy_score(test_y, knn_clf.predict(test_x))\n",
    "auc_knn_clf = metrics.roc_auc_score(test_y, test_predict_prob)                                           "
   ]
  },
  {
   "cell_type": "code",
   "execution_count": 63,
   "metadata": {},
   "outputs": [],
   "source": [
    "# confusion matrix\n",
    "knn_cm = metrics.confusion_matrix( test_y, knn_clf.predict( test_x ))[::-1, ::-1]"
   ]
  },
  {
   "cell_type": "code",
   "execution_count": 64,
   "metadata": {},
   "outputs": [
    {
     "data": {
      "image/png": "[encoded data removed]",
      "text/plain": [
       "<Figure size 432x288 with 2 Axes>"
      ]
     },
     "metadata": {
      "needs_background": "light"
     },
     "output_type": "display_data"
    }
   ],
   "source": [
    "sns.heatmap(knn_cm)\n",
    "plt.xlabel('Predicted Label')\n",
    "plt.ylabel('Actual Label')\n",
    "plt.show()"
   ]
  },
  {
   "cell_type": "code",
   "execution_count": 65,
   "metadata": {},
   "outputs": [
    {
     "name": "stdout",
     "output_type": "stream",
     "text": [
      "              precision    recall  f1-score   support\n",
      "\n",
      "           0       0.99      0.99      0.99     20162\n",
      "           1       0.99      0.99      0.99     17630\n",
      "\n",
      "    accuracy                           0.99     37792\n",
      "   macro avg       0.99      0.99      0.99     37792\n",
      "weighted avg       0.99      0.99      0.99     37792\n",
      "\n"
     ]
    }
   ],
   "source": [
    "\n",
    "# Compute precision, recall, F-measure and support\n",
    "from sklearn.metrics import classification_report\n",
    "print(classification_report(test_y, knn_clf.predict( test_x )))"
   ]
  },
  {
   "cell_type": "markdown",
   "metadata": {},
   "source": [
    "## XG Boost Model"
   ]
  },
  {
   "cell_type": "code",
   "execution_count": 66,
   "metadata": {},
   "outputs": [
    {
     "name": "stdout",
     "output_type": "stream",
     "text": [
      "[12:27:22] WARNING: ../src/learner.cc:1095: Starting in XGBoost 1.3.0, the default evaluation metric used with the objective 'binary:logistic' was changed from 'error' to 'logloss'. Explicitly set eval_metric if you'd like to restore the old behavior.\n"
     ]
    }
   ],
   "source": [
    "#Using GridSearchCV to get best fit parameters\n",
    "pm = {\n",
    "          'n_estimators' : [100],\n",
    "          'learning_rate': [0.1]\n",
    "     }\n",
    "\n",
    "gscv_xg = GridSearchCV(estimator = XGBClassifier(random_state = 123), \n",
    "                    param_grid = pm,\n",
    "                    cv = 10,\n",
    "                    scoring = 'roc_auc',\n",
    "                    n_jobs = -1).fit(train_x, train_y)"
   ]
  },
  {
   "cell_type": "code",
   "execution_count": 67,
   "metadata": {},
   "outputs": [],
   "source": [
    "#Using best fit parameters to fit the model\n",
    "xg = gscv_xg.best_estimator_\n",
    "\n",
    "#Making prediction on train and test data\n",
    "train_pred_xg = xg.predict(train_x)\n",
    "test_pred_xg = xg.predict(test_x)\n",
    "\n",
    "#Calculating log loss\n",
    "log_xg = metrics.log_loss(test_y, xg.predict_proba(test_x))"
   ]
  },
  {
   "cell_type": "code",
   "execution_count": 68,
   "metadata": {},
   "outputs": [
    {
     "name": "stdout",
     "output_type": "stream",
     "text": [
      "Model Performance\n",
      "Train Dataset\n",
      "Accuracy :  0.9982762726664475\n",
      "AUC      :  0.9999846044371934\n",
      "\n",
      "Test Dataset\n",
      "Accuracy :  0.9971687129551228\n",
      "AUC      :  0.9999499122338779\n",
      "Log Loss :  0.009022826069692865\n"
     ]
    }
   ],
   "source": [
    "#Evaluating performance\n",
    "print(\"Model Performance\")\n",
    "print(\"Train Dataset\")\n",
    "print(\"Accuracy : \", metrics.accuracy_score(train_y, train_pred_xg))\n",
    "print(\"AUC      : \", metrics.roc_auc_score(train_y, xg.predict_proba(train_x)[:,1]))\n",
    "print(\"\")\n",
    "print(\"Test Dataset\")\n",
    "acc_score_xg = metrics.accuracy_score(test_y, test_pred_xg)\n",
    "print(\"Accuracy : \", acc_score_xg)\n",
    "auc_xg = metrics.roc_auc_score(test_y, xg.predict_proba(test_x)[:,1])\n",
    "print(\"AUC      : \", auc_xg)\n",
    "print(\"Log Loss : \", log_xg)"
   ]
  },
  {
   "cell_type": "code",
   "execution_count": 69,
   "metadata": {},
   "outputs": [
    {
     "data": {
      "image/png": "[encoded data removed]",
      "text/plain": [
       "<Figure size 432x288 with 2 Axes>"
      ]
     },
     "metadata": {
      "needs_background": "light"
     },
     "output_type": "display_data"
    }
   ],
   "source": [
    "#Confusion Matrix\n",
    "confusion_matrix = metrics.confusion_matrix(test_y, test_pred_xg, labels = [0,1])\n",
    "sns.heatmap(confusion_matrix )\n",
    "plt.xlabel('Predicted Label')\n",
    "plt.ylabel('Actual Label')\n",
    "plt.show()"
   ]
  },
  {
   "cell_type": "code",
   "execution_count": 70,
   "metadata": {},
   "outputs": [
    {
     "name": "stdout",
     "output_type": "stream",
     "text": [
      "              precision    recall  f1-score   support\n",
      "\n",
      "           0       1.00      1.00      1.00     20162\n",
      "           1       1.00      1.00      1.00     17630\n",
      "\n",
      "    accuracy                           1.00     37792\n",
      "   macro avg       1.00      1.00      1.00     37792\n",
      "weighted avg       1.00      1.00      1.00     37792\n",
      "\n"
     ]
    }
   ],
   "source": [
    "#Classification metrics scores of the model\n",
    "print(metrics.classification_report(test_y, test_pred_xg))"
   ]
  },
  {
   "cell_type": "code",
   "execution_count": 71,
   "metadata": {},
   "outputs": [
    {
     "data": {
      "text/plain": [
       "<BarContainer object of 12 artists>"
      ]
     },
     "execution_count": 71,
     "metadata": {},
     "output_type": "execute_result"
    },
    {
     "data": {
      "image/png": "[encoded data removed]",
      "text/plain": [
       "<Figure size 432x288 with 1 Axes>"
      ]
     },
     "metadata": {
      "needs_background": "light"
     },
     "output_type": "display_data"
    }
   ],
   "source": [
    "#Feature Impotance for XG Boost Model\n",
    "xg_fi = pd.DataFrame({'Features' : train_x.columns ,\n",
    "                      'Importance' : xg.feature_importances_\n",
    "                     }).sort_values(by = 'Importance').reset_index(drop = True)\n",
    "\n",
    "xg_fi.to_excel(output, 'Drivers_Binomial', startrow=16, startcol=1, index = False)\n",
    "\n",
    "plt.barh(width = xg_fi.Importance, y = xg_fi.Features)"
   ]
  },
  {
   "cell_type": "markdown",
   "metadata": {},
   "source": [
    "### Comparing all models"
   ]
  },
  {
   "cell_type": "code",
   "execution_count": 72,
   "metadata": {},
   "outputs": [],
   "source": [
    "#Getting accuracy and log loss for each model\n",
    "metric_data = pd.DataFrame({'Classifiers' : [ 'DecisionTreeClassifier','KNNclassifier','XGBClassifier'],\n",
    "                        'Accuracy %' : [acc_score_dt,acc_score_knn_clf,acc_score_xg],\n",
    "                        'ROC_AUC_Score %' : [ auc_dt,auc_knn_clf ,auc_xg],    \n",
    "                        'Log_Loss' : [log_dt,log_knn_clf,log_xg]})"
   ]
  },
  {
   "cell_type": "code",
   "execution_count": 73,
   "metadata": {},
   "outputs": [],
   "source": [
    "metric_data[['Accuracy %','ROC_AUC_Score %']] = metric_data[['Accuracy %', 'ROC_AUC_Score %']].applymap(lambda x : round((x*100),2))"
   ]
  },
  {
   "cell_type": "code",
   "execution_count": 74,
   "metadata": {},
   "outputs": [
    {
     "data": {
      "text/html": [
       "<div>\n",
       "<style scoped>\n",
       "    .dataframe tbody tr th:only-of-type {\n",
       "        vertical-align: middle;\n",
       "    }\n",
       "\n",
       "    .dataframe tbody tr th {\n",
       "        vertical-align: top;\n",
       "    }\n",
       "\n",
       "    .dataframe thead th {\n",
       "        text-align: right;\n",
       "    }\n",
       "</style>\n",
       "<table border=\"1\" class=\"dataframe\">\n",
       "  <thead>\n",
       "    <tr style=\"text-align: right;\">\n",
       "      <th></th>\n",
       "      <th>Classifiers</th>\n",
       "      <th>Accuracy %</th>\n",
       "      <th>ROC_AUC_Score %</th>\n",
       "      <th>Log_Loss</th>\n",
       "    </tr>\n",
       "  </thead>\n",
       "  <tbody>\n",
       "    <tr>\n",
       "      <th>0</th>\n",
       "      <td>DecisionTreeClassifier</td>\n",
       "      <td>99.64</td>\n",
       "      <td>99.84</td>\n",
       "      <td>0.053043</td>\n",
       "    </tr>\n",
       "    <tr>\n",
       "      <th>1</th>\n",
       "      <td>KNNclassifier</td>\n",
       "      <td>99.04</td>\n",
       "      <td>99.92</td>\n",
       "      <td>0.036368</td>\n",
       "    </tr>\n",
       "    <tr>\n",
       "      <th>2</th>\n",
       "      <td>XGBClassifier</td>\n",
       "      <td>99.72</td>\n",
       "      <td>99.99</td>\n",
       "      <td>0.009023</td>\n",
       "    </tr>\n",
       "  </tbody>\n",
       "</table>\n",
       "</div>"
      ],
      "text/plain": [
       "              Classifiers  Accuracy %  ROC_AUC_Score %  Log_Loss\n",
       "0  DecisionTreeClassifier       99.64            99.84  0.053043\n",
       "1           KNNclassifier       99.04            99.92  0.036368\n",
       "2           XGBClassifier       99.72            99.99  0.009023"
      ]
     },
     "execution_count": 74,
     "metadata": {},
     "output_type": "execute_result"
    }
   ],
   "source": [
    "metric_data.to_excel(output, 'Binomial Metric Data')\n",
    "metric_data"
   ]
  },
  {
   "cell_type": "code",
   "execution_count": 75,
   "metadata": {},
   "outputs": [
    {
     "data": {
      "image/png": "[encoded data removed]",
      "text/plain": [
       "<Figure size 432x288 with 1 Axes>"
      ]
     },
     "metadata": {
      "needs_background": "light"
     },
     "output_type": "display_data"
    },
    {
     "data": {
      "image/png": "[encoded data removed]",
      "text/plain": [
       "<Figure size 432x288 with 1 Axes>"
      ]
     },
     "metadata": {
      "needs_background": "light"
     },
     "output_type": "display_data"
    }
   ],
   "source": [
    "#Visualizing each model's accuracy and log loss metric\n",
    "metric_data.plot(x = 'Classifiers', y = ['Accuracy %','ROC_AUC_Score %'], kind = 'barh')\n",
    "plt.legend(loc = 2)\n",
    "plt.show()\n",
    "\n",
    "sns.barplot(data = metric_data, x = metric_data['Log_Loss'], y = metric_data.Classifiers)\n",
    "plt.title('Model Log Loss')\n",
    "plt.show()"
   ]
  },
  {
   "cell_type": "markdown",
   "metadata": {},
   "source": [
    "### Final Prediction"
   ]
  },
  {
   "cell_type": "code",
   "execution_count": 76,
   "metadata": {},
   "outputs": [
    {
     "data": {
      "text/html": [
       "<div>\n",
       "<style scoped>\n",
       "    .dataframe tbody tr th:only-of-type {\n",
       "        vertical-align: middle;\n",
       "    }\n",
       "\n",
       "    .dataframe tbody tr th {\n",
       "        vertical-align: top;\n",
       "    }\n",
       "\n",
       "    .dataframe thead th {\n",
       "        text-align: right;\n",
       "    }\n",
       "</style>\n",
       "<table border=\"1\" class=\"dataframe\">\n",
       "  <thead>\n",
       "    <tr style=\"text-align: right;\">\n",
       "      <th></th>\n",
       "      <th>dst_host_srv_diff_host_rate</th>\n",
       "      <th>src_bytes</th>\n",
       "      <th>dst_host_count</th>\n",
       "      <th>dst_host_same_src_port_rate</th>\n",
       "      <th>dst_host_diff_srv_rate</th>\n",
       "      <th>count</th>\n",
       "      <th>hot</th>\n",
       "      <th>protocol_type_tcp</th>\n",
       "      <th>srv_count</th>\n",
       "      <th>dst_host_rerror_rate</th>\n",
       "      <th>dst_host_srv_count</th>\n",
       "      <th>logged</th>\n",
       "      <th>activity</th>\n",
       "      <th>dt_activity</th>\n",
       "      <th>Knn_activity</th>\n",
       "      <th>xg_activity</th>\n",
       "    </tr>\n",
       "  </thead>\n",
       "  <tbody>\n",
       "    <tr>\n",
       "      <th>0</th>\n",
       "      <td>-0.320917</td>\n",
       "      <td>-0.167729</td>\n",
       "      <td>0.734343</td>\n",
       "      <td>-0.480197</td>\n",
       "      <td>-0.121485</td>\n",
       "      <td>1.265346</td>\n",
       "      <td>-0.140747</td>\n",
       "      <td>1</td>\n",
       "      <td>-0.245774</td>\n",
       "      <td>2.874410</td>\n",
       "      <td>-0.954389</td>\n",
       "      <td>0</td>\n",
       "      <td>1</td>\n",
       "      <td>1</td>\n",
       "      <td>1</td>\n",
       "      <td>1</td>\n",
       "    </tr>\n",
       "    <tr>\n",
       "      <th>1</th>\n",
       "      <td>-0.320917</td>\n",
       "      <td>-0.167729</td>\n",
       "      <td>0.734343</td>\n",
       "      <td>-0.480197</td>\n",
       "      <td>-0.121485</td>\n",
       "      <td>0.453176</td>\n",
       "      <td>-0.140747</td>\n",
       "      <td>1</td>\n",
       "      <td>-0.371789</td>\n",
       "      <td>2.874410</td>\n",
       "      <td>-1.035688</td>\n",
       "      <td>0</td>\n",
       "      <td>1</td>\n",
       "      <td>1</td>\n",
       "      <td>1</td>\n",
       "      <td>1</td>\n",
       "    </tr>\n",
       "    <tr>\n",
       "      <th>2</th>\n",
       "      <td>-0.104438</td>\n",
       "      <td>1.947498</td>\n",
       "      <td>-0.485344</td>\n",
       "      <td>1.493939</td>\n",
       "      <td>-0.227350</td>\n",
       "      <td>-0.725780</td>\n",
       "      <td>-0.140747</td>\n",
       "      <td>1</td>\n",
       "      <td>-0.371789</td>\n",
       "      <td>-0.387635</td>\n",
       "      <td>-0.267863</td>\n",
       "      <td>0</td>\n",
       "      <td>0</td>\n",
       "      <td>0</td>\n",
       "      <td>0</td>\n",
       "      <td>0</td>\n",
       "    </tr>\n",
       "    <tr>\n",
       "      <th>3</th>\n",
       "      <td>2.709796</td>\n",
       "      <td>-0.164470</td>\n",
       "      <td>-1.805832</td>\n",
       "      <td>2.756092</td>\n",
       "      <td>-0.439078</td>\n",
       "      <td>-0.725780</td>\n",
       "      <td>-0.140747</td>\n",
       "      <td>0</td>\n",
       "      <td>0.524319</td>\n",
       "      <td>-0.387635</td>\n",
       "      <td>-0.529827</td>\n",
       "      <td>0</td>\n",
       "      <td>1</td>\n",
       "      <td>0</td>\n",
       "      <td>1</td>\n",
       "      <td>1</td>\n",
       "    </tr>\n",
       "    <tr>\n",
       "      <th>4</th>\n",
       "      <td>-0.104438</td>\n",
       "      <td>-0.167729</td>\n",
       "      <td>-1.543751</td>\n",
       "      <td>-0.383108</td>\n",
       "      <td>0.460769</td>\n",
       "      <td>-0.725780</td>\n",
       "      <td>-0.140747</td>\n",
       "      <td>1</td>\n",
       "      <td>-0.273777</td>\n",
       "      <td>2.319862</td>\n",
       "      <td>-0.267863</td>\n",
       "      <td>0</td>\n",
       "      <td>1</td>\n",
       "      <td>0</td>\n",
       "      <td>0</td>\n",
       "      <td>0</td>\n",
       "    </tr>\n",
       "  </tbody>\n",
       "</table>\n",
       "</div>"
      ],
      "text/plain": [
       "   dst_host_srv_diff_host_rate  src_bytes  dst_host_count  \\\n",
       "0                    -0.320917  -0.167729        0.734343   \n",
       "1                    -0.320917  -0.167729        0.734343   \n",
       "2                    -0.104438   1.947498       -0.485344   \n",
       "3                     2.709796  -0.164470       -1.805832   \n",
       "4                    -0.104438  -0.167729       -1.543751   \n",
       "\n",
       "   dst_host_same_src_port_rate  dst_host_diff_srv_rate     count       hot  \\\n",
       "0                    -0.480197               -0.121485  1.265346 -0.140747   \n",
       "1                    -0.480197               -0.121485  0.453176 -0.140747   \n",
       "2                     1.493939               -0.227350 -0.725780 -0.140747   \n",
       "3                     2.756092               -0.439078 -0.725780 -0.140747   \n",
       "4                    -0.383108                0.460769 -0.725780 -0.140747   \n",
       "\n",
       "   protocol_type_tcp  srv_count  dst_host_rerror_rate  dst_host_srv_count  \\\n",
       "0                  1  -0.245774              2.874410           -0.954389   \n",
       "1                  1  -0.371789              2.874410           -1.035688   \n",
       "2                  1  -0.371789             -0.387635           -0.267863   \n",
       "3                  0   0.524319             -0.387635           -0.529827   \n",
       "4                  1  -0.273777              2.319862           -0.267863   \n",
       "\n",
       "   logged  activity  dt_activity  Knn_activity  xg_activity  \n",
       "0       0         1            1             1            1  \n",
       "1       0         1            1             1            1  \n",
       "2       0         0            0             0            0  \n",
       "3       0         1            0             1            1  \n",
       "4       0         1            0             0            0  "
      ]
     },
     "execution_count": 76,
     "metadata": {},
     "output_type": "execute_result"
    }
   ],
   "source": [
    "#Making final predictions on provided test dataset\n",
    "test_final = test[X]\n",
    "test_final['activity'] = test['activity']\n",
    "test_final['dt_activity'] = dt.predict(test_final[X])\n",
    "test_final['Knn_activity'] = knn_clf.predict(test_final[X])\n",
    "test_final['xg_activity'] = xg.predict(test_final[X])\n",
    "\n",
    "\n",
    "test_final.to_excel(output, 'Final Predictions')\n",
    "\n",
    "#Final Predictions\n",
    "test_final.head()"
   ]
  },
  {
   "cell_type": "code",
   "execution_count": 77,
   "metadata": {},
   "outputs": [],
   "source": [
    "#Accuracy of prediction on provided test dataset\n",
    "test_acc_dt = metrics.accuracy_score(test_final['activity'], test_final['dt_activity'])\n",
    "test_acc_knn = metrics.accuracy_score(test_final['activity'], test_final['Knn_activity'])\n",
    "test_acc_xg = metrics.accuracy_score(test_final['activity'], test_final['xg_activity'])\n",
    "\n",
    "\n",
    "test_auc_dt = metrics.roc_auc_score(test_final['activity'], dt.predict_proba(test_final[X])[:,1])\n",
    "test_auc_knn = metrics.roc_auc_score(test_final['activity'], knn_clf.predict_proba(test_final[X])[:,1])\n",
    "test_auc_xg = metrics.roc_auc_score(test_final['activity'], xg.predict_proba(test_final[X])[:,1])\n",
    "\n",
    "\n",
    "test_metric = pd.DataFrame({'Classifiers' : [ 'DecisionTreeClassifier','KNNclassifier' ,'XGBClassifier' ],\n",
    "                        'Accuracy %' : [test_acc_dt,test_acc_knn, test_acc_xg ],\n",
    "                        'ROC_AUC_Score %' : [test_auc_dt,test_auc_xg , test_auc_xg],    \n",
    "                        })"
   ]
  },
  {
   "cell_type": "code",
   "execution_count": 78,
   "metadata": {},
   "outputs": [
    {
     "data": {
      "text/html": [
       "<div>\n",
       "<style scoped>\n",
       "    .dataframe tbody tr th:only-of-type {\n",
       "        vertical-align: middle;\n",
       "    }\n",
       "\n",
       "    .dataframe tbody tr th {\n",
       "        vertical-align: top;\n",
       "    }\n",
       "\n",
       "    .dataframe thead th {\n",
       "        text-align: right;\n",
       "    }\n",
       "</style>\n",
       "<table border=\"1\" class=\"dataframe\">\n",
       "  <thead>\n",
       "    <tr style=\"text-align: right;\">\n",
       "      <th></th>\n",
       "      <th>Classifiers</th>\n",
       "      <th>Accuracy %</th>\n",
       "      <th>ROC_AUC_Score %</th>\n",
       "    </tr>\n",
       "  </thead>\n",
       "  <tbody>\n",
       "    <tr>\n",
       "      <th>0</th>\n",
       "      <td>DecisionTreeClassifier</td>\n",
       "      <td>77.085</td>\n",
       "      <td>83.256</td>\n",
       "    </tr>\n",
       "    <tr>\n",
       "      <th>1</th>\n",
       "      <td>KNNclassifier</td>\n",
       "      <td>74.987</td>\n",
       "      <td>94.973</td>\n",
       "    </tr>\n",
       "    <tr>\n",
       "      <th>2</th>\n",
       "      <td>XGBClassifier</td>\n",
       "      <td>78.269</td>\n",
       "      <td>94.973</td>\n",
       "    </tr>\n",
       "  </tbody>\n",
       "</table>\n",
       "</div>"
      ],
      "text/plain": [
       "              Classifiers  Accuracy %  ROC_AUC_Score %\n",
       "0  DecisionTreeClassifier      77.085           83.256\n",
       "1           KNNclassifier      74.987           94.973\n",
       "2           XGBClassifier      78.269           94.973"
      ]
     },
     "execution_count": 78,
     "metadata": {},
     "output_type": "execute_result"
    }
   ],
   "source": [
    "test_metric[['Accuracy %','ROC_AUC_Score %']] = test_metric[['Accuracy %', 'ROC_AUC_Score %']].applymap(lambda x : round((x*100),3))\n",
    "test_metric"
   ]
  },
  {
   "cell_type": "code",
   "execution_count": 79,
   "metadata": {},
   "outputs": [
    {
     "data": {
      "image/png": "[encoded data removed]",
      "text/plain": [
       "<Figure size 432x288 with 1 Axes>"
      ]
     },
     "metadata": {
      "needs_background": "light"
     },
     "output_type": "display_data"
    }
   ],
   "source": [
    "test_metric.plot(x = 'Classifiers', y = ['Accuracy %','ROC_AUC_Score %'], kind = 'barh')\n",
    "plt.legend(loc = 2)\n",
    "plt.show()"
   ]
  },
  {
   "cell_type": "markdown",
   "metadata": {},
   "source": [
    "# Predictive Model \n",
    "## Multinomial Classification\n",
    "### Attack type prediction\n",
    "\n"
   ]
  },
  {
   "cell_type": "markdown",
   "metadata": {},
   "source": [
    "### Getting Train and Test Datasets"
   ]
  },
  {
   "cell_type": "code",
   "execution_count": 80,
   "metadata": {},
   "outputs": [],
   "source": [
    "#Getting final features and target\n",
    "X = vif_cols\n",
    "\n",
    "#target for attack type classification\n",
    "Y2 = 'attack_class'\n",
    "\n",
    "#Splitting Data into 70% train and 30% test\n",
    "train_x, test_x, train_y, test_y = train_test_split(train[X], train[Y2], \n",
    "                                                    test_size = 0.3, \n",
    "                                                    random_state = 123)"
   ]
  },
  {
   "cell_type": "markdown",
   "metadata": {},
   "source": [
    "#### Data Sampling"
   ]
  },
  {
   "cell_type": "code",
   "execution_count": 87,
   "metadata": {},
   "outputs": [
    {
     "name": "stdout",
     "output_type": "stream",
     "text": [
      "Original dataset shape Counter({0: 47181, 1: 32066, 2: 8194, 3: 700, 4: 40})\n",
      "Oversampled dataset shape Counter({1: 47181, 0: 47181, 2: 47181, 3: 47181, 4: 47181})\n"
     ]
    }
   ],
   "source": [
    "#Using RandomOverSampler for rebalancing the data \n",
    "print('Original dataset shape {}'.format(Counter(train_y)))\n",
    "ros = RandomOverSampler(random_state = 123, sampling_strategy = 'auto')\n",
    "########################Resample#############################################\n",
    "samp = ros\n",
    "train_x, train_y = samp.fit_resample(train_x, train_y)\n",
    "\n",
    "print('Oversampled dataset shape {}'.format(Counter(train_y)))"
   ]
  },
  {
   "cell_type": "markdown",
   "metadata": {},
   "source": [
    "### Decision Tree Model"
   ]
  },
  {
   "cell_type": "code",
   "execution_count": 88,
   "metadata": {},
   "outputs": [],
   "source": [
    "#Using GridSearchCV to get best fit parameters\n",
    "pm = {\n",
    "           'max_features' : [10],\n",
    "            'max_depth'   : [11]    \n",
    "     }\n",
    "\n",
    "gscv_dt2 = GridSearchCV(estimator = DecisionTreeClassifier(random_state = 123), \n",
    "                    param_grid = pm,\n",
    "                    cv = 10,\n",
    "                    scoring = 'roc_auc',\n",
    "                    n_jobs = -1).fit(train_x, train_y)"
   ]
  },
  {
   "cell_type": "code",
   "execution_count": 89,
   "metadata": {},
   "outputs": [],
   "source": [
    "#Using best fit parameters to fit the model\n",
    "dt2 = gscv_dt2.best_estimator_\n",
    "\n",
    "#Making prediction on train and test data\n",
    "train_pred_dt2 = dt2.predict(train_x)\n",
    "test_pred_dt2 = dt2.predict(test_x)\n",
    "\n",
    "#Calculating log loss\n",
    "log_dt2 = metrics.log_loss(test_y, dt2.predict_proba(test_x))"
   ]
  },
  {
   "cell_type": "code",
   "execution_count": 90,
   "metadata": {},
   "outputs": [
    {
     "name": "stdout",
     "output_type": "stream",
     "text": [
      "Model Performance\n",
      "Train Dataset\n",
      "Accuracy :  0.996824993111634\n",
      "AUC      :  0.9999008207267395\n",
      "\n",
      "Test Dataset\n",
      "Accuracy :  0.9919824301439458\n",
      "AUC      :  0.9514727712286069\n",
      "Log Loss :  0.10268400953039944\n"
     ]
    }
   ],
   "source": [
    "### Evaluating performance\n",
    "print(\"Model Performance\")\n",
    "print(\"Train Dataset\")\n",
    "print(\"Accuracy : \", metrics.accuracy_score(train_y, train_pred_dt2))\n",
    "print(\"AUC      : \", metrics.roc_auc_score(train_y, dt2.predict_proba(train_x), multi_class = 'ovr'))\n",
    "print(\"\")\n",
    "print(\"Test Dataset\")\n",
    "acc_score_dt2 = metrics.accuracy_score(test_y, test_pred_dt2)\n",
    "print(\"Accuracy : \", acc_score_dt2)\n",
    "auc_dt2 = metrics.roc_auc_score(test_y, dt2.predict_proba(test_x), multi_class = 'ovr')\n",
    "print(\"AUC      : \", auc_dt2)\n",
    "print(\"Log Loss : \", log_dt2)"
   ]
  },
  {
   "cell_type": "code",
   "execution_count": 91,
   "metadata": {},
   "outputs": [
    {
     "data": {
      "image/png": "[encoded data removed]",
      "text/plain": [
       "<Figure size 576x288 with 2 Axes>"
      ]
     },
     "metadata": {
      "needs_background": "light"
     },
     "output_type": "display_data"
    }
   ],
   "source": [
    "#Confusion Matrix\n",
    "plt.figure(figsize = (8,4))\n",
    "confusion_matrix = metrics.confusion_matrix(test_y, test_pred_dt2, labels = [0,1,2,3,4])\n",
    "sns.heatmap(confusion_matrix, annot = True, fmt = '.2f',\n",
    "            xticklabels = ['Normal','DoS', 'Probe', 'R2L', 'U2R'],\n",
    "            yticklabels = ['Normal','DoS', 'Probe', 'R2L', 'U2R'],\n",
    "            cmap = 'Blues_r'    \n",
    "           )\n",
    "plt.xlabel('Predicted Label')\n",
    "plt.ylabel('Actual Label')\n",
    "plt.show()"
   ]
  },
  {
   "cell_type": "code",
   "execution_count": 92,
   "metadata": {},
   "outputs": [
    {
     "name": "stdout",
     "output_type": "stream",
     "text": [
      "              precision    recall  f1-score   support\n",
      "\n",
      "           0       1.00      0.99      0.99     20162\n",
      "           1       1.00      1.00      1.00     13861\n",
      "           2       0.99      0.99      0.99      3462\n",
      "           3       0.68      0.94      0.79       295\n",
      "           4       0.16      0.58      0.25        12\n",
      "\n",
      "    accuracy                           0.99     37792\n",
      "   macro avg       0.76      0.90      0.80     37792\n",
      "weighted avg       0.99      0.99      0.99     37792\n",
      "\n"
     ]
    }
   ],
   "source": [
    "#Classification metrics scores of the model\n",
    "print(metrics.classification_report(test_y, test_pred_dt2))"
   ]
  },
  {
   "cell_type": "code",
   "execution_count": 93,
   "metadata": {},
   "outputs": [
    {
     "data": {
      "text/plain": [
       "<BarContainer object of 12 artists>"
      ]
     },
     "execution_count": 93,
     "metadata": {},
     "output_type": "execute_result"
    },
    {
     "data": {
      "image/png": "[encoded data removed]",
      "text/plain": [
       "<Figure size 432x288 with 1 Axes>"
      ]
     },
     "metadata": {
      "needs_background": "light"
     },
     "output_type": "display_data"
    }
   ],
   "source": [
    "#Feature Impotance for Random Forest Model\n",
    "dt2_fi = pd.DataFrame({'Features' : train_x.columns ,\n",
    "                      'Importance' : dt2.feature_importances_\n",
    "                     }).sort_values(by = 'Importance').reset_index(drop = True)\n",
    "\n",
    "dt2_fi.to_excel(output, 'Drivers_Multinomial', startrow=30, startcol=1, index = False)\n",
    "\n",
    "plt.barh(width = dt2_fi.Importance, y = dt2_fi.Features)"
   ]
  },
  {
   "cell_type": "markdown",
   "metadata": {},
   "source": [
    "# KNN Model"
   ]
  },
  {
   "cell_type": "code",
   "execution_count": 94,
   "metadata": {},
   "outputs": [
    {
     "data": {
      "text/plain": [
       "KNeighborsClassifier(n_neighbors=13)"
      ]
     },
     "execution_count": 94,
     "metadata": {},
     "output_type": "execute_result"
    }
   ],
   "source": [
    "# re-building the model for the best n_neighbors\n",
    "knn_clf2 = KNeighborsClassifier( n_neighbors = 13 )\n",
    "knn_clf2.fit(train_x, train_y)"
   ]
  },
  {
   "cell_type": "code",
   "execution_count": 95,
   "metadata": {},
   "outputs": [],
   "source": [
    "#Making prediction on train and test data\n",
    "train_pred_knn_clf2 = knn_clf2.predict(train_x)\n",
    "test_pred_knn_clf2 = knn_clf2.predict(test_x)\n",
    "\n",
    "#Calculating log loss\n",
    "log_knn_clf2 = metrics.log_loss(test_y, knn_clf2.predict_proba(test_x))"
   ]
  },
  {
   "cell_type": "code",
   "execution_count": 96,
   "metadata": {},
   "outputs": [
    {
     "name": "stdout",
     "output_type": "stream",
     "text": [
      "Model Performance\n",
      "Accuracy Train Dataset :  0.9955575337529938\n",
      "Accuracy Test Dataset  :  0.986637383573243\n",
      "AUC Train Dataset      :  0.9999852664820098\n",
      "AUC Test Dataset       :  0.9549977199067243\n",
      "Log Loss :  0.09529724331559876\n"
     ]
    }
   ],
   "source": [
    "# get the model accuracy\n",
    "print(\"Model Performance\")\n",
    "print(\"Accuracy Train Dataset : \", metrics.accuracy_score(train_y, knn_clf2.predict(train_x)))\n",
    "print(\"Accuracy Test Dataset  : \", metrics.accuracy_score(test_y, knn_clf2.predict(test_x)))\n",
    "# get the probability score on training and testing\n",
    "train_predict_prob2 = pd.DataFrame(knn_clf2.predict_proba(train_x))\n",
    "test_predict_prob2 = pd.DataFrame(knn_clf2.predict_proba(test_x))\n",
    "# get the model auc\n",
    "print(\"AUC Train Dataset      : \",metrics.roc_auc_score(train_y, train_predict_prob2, multi_class = 'ovr'))\n",
    "print(\"AUC Test Dataset       : \",metrics.roc_auc_score(test_y, test_predict_prob2, multi_class = 'ovr'))\n",
    "print(\"Log Loss : \", log_knn_clf2 )"
   ]
  },
  {
   "cell_type": "code",
   "execution_count": 97,
   "metadata": {},
   "outputs": [],
   "source": [
    "acc_score_knn_clf2 = metrics.accuracy_score(test_y, knn_clf2.predict(test_x))\n",
    "auc_knn_clf2 = metrics.roc_auc_score(test_y, test_predict_prob2, multi_class = 'ovr')                                           "
   ]
  },
  {
   "cell_type": "code",
   "execution_count": 98,
   "metadata": {},
   "outputs": [],
   "source": [
    "# confusion matrix\n",
    "knn_cm2 = metrics.confusion_matrix( test_y, knn_clf2.predict( test_x ))[::-1, ::-1]"
   ]
  },
  {
   "cell_type": "code",
   "execution_count": 99,
   "metadata": {},
   "outputs": [
    {
     "data": {
      "image/png": "[encoded data removed]",
      "text/plain": [
       "<Figure size 432x288 with 2 Axes>"
      ]
     },
     "metadata": {
      "needs_background": "light"
     },
     "output_type": "display_data"
    }
   ],
   "source": [
    "sns.heatmap(knn_cm2)\n",
    "plt.xlabel('Predicted Label')\n",
    "plt.ylabel('Actual Label')\n",
    "plt.show()"
   ]
  },
  {
   "cell_type": "code",
   "execution_count": 100,
   "metadata": {},
   "outputs": [
    {
     "name": "stdout",
     "output_type": "stream",
     "text": [
      "              precision    recall  f1-score   support\n",
      "\n",
      "           0       1.00      0.98      0.99     20162\n",
      "           1       0.99      1.00      0.99     13861\n",
      "           2       0.95      1.00      0.97      3462\n",
      "           3       0.73      0.97      0.83       295\n",
      "           4       0.15      0.50      0.23        12\n",
      "\n",
      "    accuracy                           0.99     37792\n",
      "   macro avg       0.76      0.89      0.80     37792\n",
      "weighted avg       0.99      0.99      0.99     37792\n",
      "\n"
     ]
    }
   ],
   "source": [
    "\n",
    "# Compute precision, recall, F-measure and support\n",
    "from sklearn.metrics import classification_report\n",
    "print(classification_report(test_y, knn_clf2.predict( test_x )))"
   ]
  },
  {
   "cell_type": "code",
   "execution_count": null,
   "metadata": {},
   "outputs": [],
   "source": []
  },
  {
   "cell_type": "markdown",
   "metadata": {},
   "source": [
    "# XG Boost Model"
   ]
  },
  {
   "cell_type": "code",
   "execution_count": 101,
   "metadata": {},
   "outputs": [
    {
     "name": "stdout",
     "output_type": "stream",
     "text": [
      "[12:43:12] WARNING: ../src/learner.cc:1095: Starting in XGBoost 1.3.0, the default evaluation metric used with the objective 'multi:softprob' was changed from 'merror' to 'mlogloss'. Explicitly set eval_metric if you'd like to restore the old behavior.\n"
     ]
    }
   ],
   "source": [
    "#Using GridSearchCV to get best fit parameters\n",
    "pm = {\n",
    "          'n_estimators' : [100],\n",
    "          'learning_rate': [0.1]\n",
    "     }\n",
    "\n",
    "gscv_xg2 = GridSearchCV(estimator = XGBClassifier(random_state = 123), \n",
    "                    param_grid = pm,\n",
    "                    cv = 10,\n",
    "                    scoring = 'roc_auc',\n",
    "                    n_jobs = -1).fit(train_x, train_y)"
   ]
  },
  {
   "cell_type": "code",
   "execution_count": 102,
   "metadata": {},
   "outputs": [],
   "source": [
    "#Using best fit parameters to fit the model\n",
    "xg2 = gscv_xg2.best_estimator_\n",
    "\n",
    "#Making prediction on train and test data\n",
    "train_pred_xg2 = xg2.predict(train_x)\n",
    "test_pred_xg2 = xg2.predict(test_x)\n",
    "\n",
    "#Calculating log loss\n",
    "log_xg2 = metrics.log_loss(test_y, xg2.predict_proba(test_x))"
   ]
  },
  {
   "cell_type": "code",
   "execution_count": 103,
   "metadata": {},
   "outputs": [
    {
     "name": "stdout",
     "output_type": "stream",
     "text": [
      "Model Performance\n",
      "Train Dataset\n",
      "Accuracy :  0.9988893834382484\n",
      "AUC      :  0.9999921219534527\n",
      "\n",
      "Test Dataset\n",
      "Accuracy :  0.9963219729043183\n",
      "AUC      :  0.9996640416454111\n",
      "Log Loss :  0.0112018409831305\n"
     ]
    }
   ],
   "source": [
    "#Evaluating performance\n",
    "print(\"Model Performance\")\n",
    "print(\"Train Dataset\")\n",
    "print(\"Accuracy : \", metrics.accuracy_score(train_y, train_pred_xg2))\n",
    "print(\"AUC      : \", metrics.roc_auc_score(train_y, xg2.predict_proba(train_x), multi_class = 'ovr'))\n",
    "print(\"\")\n",
    "print(\"Test Dataset\")\n",
    "acc_score_xg2 = metrics.accuracy_score(test_y, test_pred_xg2)\n",
    "print(\"Accuracy : \", acc_score_xg2)\n",
    "auc_xg2 = metrics.roc_auc_score(test_y, xg2.predict_proba(test_x), multi_class = 'ovr')\n",
    "print(\"AUC      : \", auc_xg2)\n",
    "print(\"Log Loss : \", log_xg2)"
   ]
  },
  {
   "cell_type": "code",
   "execution_count": 104,
   "metadata": {},
   "outputs": [
    {
     "data": {
      "image/png": "[encoded data removed]",
      "text/plain": [
       "<Figure size 576x288 with 2 Axes>"
      ]
     },
     "metadata": {
      "needs_background": "light"
     },
     "output_type": "display_data"
    }
   ],
   "source": [
    "#Confusion Matrix\n",
    "plt.figure(figsize = (8,4))\n",
    "confusion_matrix = metrics.confusion_matrix(test_y, test_pred_xg2, labels = [0,1,2,3,4])\n",
    "sns.heatmap(confusion_matrix, annot = True, fmt = '.2f',\n",
    "            xticklabels = ['Normal','DoS', 'Probe', 'R2L', 'U2R'],\n",
    "            yticklabels = ['Normal','DoS', 'Probe', 'R2L', 'U2R'],\n",
    "            cmap = 'Blues_r'    \n",
    "           )\n",
    "plt.xlabel('Predicted Label')\n",
    "plt.ylabel('Actual Label')\n",
    "plt.show()"
   ]
  },
  {
   "cell_type": "code",
   "execution_count": 105,
   "metadata": {},
   "outputs": [
    {
     "name": "stdout",
     "output_type": "stream",
     "text": [
      "              precision    recall  f1-score   support\n",
      "\n",
      "           0       1.00      0.99      1.00     20162\n",
      "           1       1.00      1.00      1.00     13861\n",
      "           2       0.99      1.00      0.99      3462\n",
      "           3       0.87      0.98      0.92       295\n",
      "           4       0.21      0.42      0.28        12\n",
      "\n",
      "    accuracy                           1.00     37792\n",
      "   macro avg       0.81      0.88      0.84     37792\n",
      "weighted avg       1.00      1.00      1.00     37792\n",
      "\n"
     ]
    }
   ],
   "source": [
    "#Classification metrics scores of the model\n",
    "print(metrics.classification_report(test_y, test_pred_xg2))"
   ]
  },
  {
   "cell_type": "code",
   "execution_count": 106,
   "metadata": {},
   "outputs": [
    {
     "data": {
      "text/plain": [
       "<BarContainer object of 12 artists>"
      ]
     },
     "execution_count": 106,
     "metadata": {},
     "output_type": "execute_result"
    },
    {
     "data": {
      "image/png": "[encoded data removed]",
      "text/plain": [
       "<Figure size 432x288 with 1 Axes>"
      ]
     },
     "metadata": {
      "needs_background": "light"
     },
     "output_type": "display_data"
    }
   ],
   "source": [
    "#Feature Impotance for Random Forest Model\n",
    "xg2_fi = pd.DataFrame({'Features' : train_x.columns ,\n",
    "                      'Importance' : xg2.feature_importances_\n",
    "                     }).sort_values(by = 'Importance').reset_index(drop = True)\n",
    "\n",
    "xg2_fi.to_excel(output, 'Drivers_Multinomial', startrow=16, startcol=1, index = False)\n",
    "\n",
    "plt.barh(width = xg2_fi.Importance, y = xg2_fi.Features)"
   ]
  },
  {
   "cell_type": "markdown",
   "metadata": {},
   "source": [
    "### Comparing all model"
   ]
  },
  {
   "cell_type": "code",
   "execution_count": 107,
   "metadata": {},
   "outputs": [],
   "source": [
    "#Getting accuracy and log loss for each model\n",
    "metric_data2 = pd.DataFrame({'Classifiers' : [ 'DecisionTreeClassifier','KNNclassifier','XGBClassifier'],\n",
    "                        'Accuracy %' : [acc_score_dt2,acc_score_knn_clf2,acc_score_xg2],\n",
    "                        'ROC_AUC_Score %' : [ auc_dt2,auc_knn_clf2 ,auc_xg2],    \n",
    "                        'Log_Loss' : [log_dt2,log_knn_clf2,log_xg2]})"
   ]
  },
  {
   "cell_type": "code",
   "execution_count": 108,
   "metadata": {},
   "outputs": [],
   "source": [
    "metric_data2[['Accuracy %','ROC_AUC_Score %']] = metric_data2[['Accuracy %', 'ROC_AUC_Score %']].applymap(lambda x : round((x*100),2))"
   ]
  },
  {
   "cell_type": "code",
   "execution_count": 109,
   "metadata": {},
   "outputs": [
    {
     "data": {
      "text/html": [
       "<div>\n",
       "<style scoped>\n",
       "    .dataframe tbody tr th:only-of-type {\n",
       "        vertical-align: middle;\n",
       "    }\n",
       "\n",
       "    .dataframe tbody tr th {\n",
       "        vertical-align: top;\n",
       "    }\n",
       "\n",
       "    .dataframe thead th {\n",
       "        text-align: right;\n",
       "    }\n",
       "</style>\n",
       "<table border=\"1\" class=\"dataframe\">\n",
       "  <thead>\n",
       "    <tr style=\"text-align: right;\">\n",
       "      <th></th>\n",
       "      <th>Classifiers</th>\n",
       "      <th>Accuracy %</th>\n",
       "      <th>ROC_AUC_Score %</th>\n",
       "      <th>Log_Loss</th>\n",
       "    </tr>\n",
       "  </thead>\n",
       "  <tbody>\n",
       "    <tr>\n",
       "      <th>0</th>\n",
       "      <td>DecisionTreeClassifier</td>\n",
       "      <td>99.20</td>\n",
       "      <td>95.15</td>\n",
       "      <td>0.102684</td>\n",
       "    </tr>\n",
       "    <tr>\n",
       "      <th>1</th>\n",
       "      <td>KNNclassifier</td>\n",
       "      <td>98.66</td>\n",
       "      <td>95.50</td>\n",
       "      <td>0.095297</td>\n",
       "    </tr>\n",
       "    <tr>\n",
       "      <th>2</th>\n",
       "      <td>XGBClassifier</td>\n",
       "      <td>99.63</td>\n",
       "      <td>99.97</td>\n",
       "      <td>0.011202</td>\n",
       "    </tr>\n",
       "  </tbody>\n",
       "</table>\n",
       "</div>"
      ],
      "text/plain": [
       "              Classifiers  Accuracy %  ROC_AUC_Score %  Log_Loss\n",
       "0  DecisionTreeClassifier       99.20            95.15  0.102684\n",
       "1           KNNclassifier       98.66            95.50  0.095297\n",
       "2           XGBClassifier       99.63            99.97  0.011202"
      ]
     },
     "execution_count": 109,
     "metadata": {},
     "output_type": "execute_result"
    }
   ],
   "source": [
    "metric_data2.to_excel(output, 'Multinomial Metric Data')\n",
    "metric_data2"
   ]
  },
  {
   "cell_type": "code",
   "execution_count": 110,
   "metadata": {},
   "outputs": [
    {
     "data": {
      "image/png": "[encoded data removed]",
      "text/plain": [
       "<Figure size 432x288 with 1 Axes>"
      ]
     },
     "metadata": {
      "needs_background": "light"
     },
     "output_type": "display_data"
    },
    {
     "data": {
      "image/png": "[encoded data removed]",
      "text/plain": [
       "<Figure size 432x288 with 1 Axes>"
      ]
     },
     "metadata": {
      "needs_background": "light"
     },
     "output_type": "display_data"
    }
   ],
   "source": [
    "#Visualizing each model's accuracy and log loss metric\n",
    "metric_data2.plot(x = 'Classifiers', y = ['Accuracy %','ROC_AUC_Score %'], kind = 'barh')\n",
    "plt.legend(loc = 2)\n",
    "plt.show()\n",
    "\n",
    "sns.barplot(data = metric_data2, x = metric_data2['Log_Loss'], y = metric_data2.Classifiers)\n",
    "plt.title('Model Log Loss')\n",
    "plt.show()"
   ]
  },
  {
   "cell_type": "markdown",
   "metadata": {},
   "source": [
    "## Final Prediction"
   ]
  },
  {
   "cell_type": "code",
   "execution_count": 111,
   "metadata": {},
   "outputs": [
    {
     "data": {
      "text/html": [
       "<div>\n",
       "<style scoped>\n",
       "    .dataframe tbody tr th:only-of-type {\n",
       "        vertical-align: middle;\n",
       "    }\n",
       "\n",
       "    .dataframe tbody tr th {\n",
       "        vertical-align: top;\n",
       "    }\n",
       "\n",
       "    .dataframe thead th {\n",
       "        text-align: right;\n",
       "    }\n",
       "</style>\n",
       "<table border=\"1\" class=\"dataframe\">\n",
       "  <thead>\n",
       "    <tr style=\"text-align: right;\">\n",
       "      <th></th>\n",
       "      <th>dst_host_srv_diff_host_rate</th>\n",
       "      <th>src_bytes</th>\n",
       "      <th>dst_host_count</th>\n",
       "      <th>dst_host_same_src_port_rate</th>\n",
       "      <th>dst_host_diff_srv_rate</th>\n",
       "      <th>count</th>\n",
       "      <th>hot</th>\n",
       "      <th>protocol_type_tcp</th>\n",
       "      <th>srv_count</th>\n",
       "      <th>dst_host_rerror_rate</th>\n",
       "      <th>dst_host_srv_count</th>\n",
       "      <th>logged</th>\n",
       "      <th>attack_class</th>\n",
       "      <th>dt_attack_class</th>\n",
       "      <th>Knn_attack_class</th>\n",
       "      <th>xg_attack_class</th>\n",
       "    </tr>\n",
       "  </thead>\n",
       "  <tbody>\n",
       "    <tr>\n",
       "      <th>0</th>\n",
       "      <td>-0.320917</td>\n",
       "      <td>-0.167729</td>\n",
       "      <td>0.734343</td>\n",
       "      <td>-0.480197</td>\n",
       "      <td>-0.121485</td>\n",
       "      <td>1.265346</td>\n",
       "      <td>-0.140747</td>\n",
       "      <td>1</td>\n",
       "      <td>-0.245774</td>\n",
       "      <td>2.874410</td>\n",
       "      <td>-0.954389</td>\n",
       "      <td>0</td>\n",
       "      <td>1</td>\n",
       "      <td>1</td>\n",
       "      <td>1</td>\n",
       "      <td>1</td>\n",
       "    </tr>\n",
       "    <tr>\n",
       "      <th>1</th>\n",
       "      <td>-0.320917</td>\n",
       "      <td>-0.167729</td>\n",
       "      <td>0.734343</td>\n",
       "      <td>-0.480197</td>\n",
       "      <td>-0.121485</td>\n",
       "      <td>0.453176</td>\n",
       "      <td>-0.140747</td>\n",
       "      <td>1</td>\n",
       "      <td>-0.371789</td>\n",
       "      <td>2.874410</td>\n",
       "      <td>-1.035688</td>\n",
       "      <td>0</td>\n",
       "      <td>1</td>\n",
       "      <td>1</td>\n",
       "      <td>1</td>\n",
       "      <td>1</td>\n",
       "    </tr>\n",
       "    <tr>\n",
       "      <th>2</th>\n",
       "      <td>-0.104438</td>\n",
       "      <td>1.947498</td>\n",
       "      <td>-0.485344</td>\n",
       "      <td>1.493939</td>\n",
       "      <td>-0.227350</td>\n",
       "      <td>-0.725780</td>\n",
       "      <td>-0.140747</td>\n",
       "      <td>1</td>\n",
       "      <td>-0.371789</td>\n",
       "      <td>-0.387635</td>\n",
       "      <td>-0.267863</td>\n",
       "      <td>0</td>\n",
       "      <td>0</td>\n",
       "      <td>0</td>\n",
       "      <td>0</td>\n",
       "      <td>0</td>\n",
       "    </tr>\n",
       "    <tr>\n",
       "      <th>3</th>\n",
       "      <td>2.709796</td>\n",
       "      <td>-0.164470</td>\n",
       "      <td>-1.805832</td>\n",
       "      <td>2.756092</td>\n",
       "      <td>-0.439078</td>\n",
       "      <td>-0.725780</td>\n",
       "      <td>-0.140747</td>\n",
       "      <td>0</td>\n",
       "      <td>0.524319</td>\n",
       "      <td>-0.387635</td>\n",
       "      <td>-0.529827</td>\n",
       "      <td>0</td>\n",
       "      <td>2</td>\n",
       "      <td>2</td>\n",
       "      <td>2</td>\n",
       "      <td>2</td>\n",
       "    </tr>\n",
       "    <tr>\n",
       "      <th>4</th>\n",
       "      <td>-0.104438</td>\n",
       "      <td>-0.167729</td>\n",
       "      <td>-1.543751</td>\n",
       "      <td>-0.383108</td>\n",
       "      <td>0.460769</td>\n",
       "      <td>-0.725780</td>\n",
       "      <td>-0.140747</td>\n",
       "      <td>1</td>\n",
       "      <td>-0.273777</td>\n",
       "      <td>2.319862</td>\n",
       "      <td>-0.267863</td>\n",
       "      <td>0</td>\n",
       "      <td>2</td>\n",
       "      <td>2</td>\n",
       "      <td>0</td>\n",
       "      <td>0</td>\n",
       "    </tr>\n",
       "  </tbody>\n",
       "</table>\n",
       "</div>"
      ],
      "text/plain": [
       "   dst_host_srv_diff_host_rate  src_bytes  dst_host_count  \\\n",
       "0                    -0.320917  -0.167729        0.734343   \n",
       "1                    -0.320917  -0.167729        0.734343   \n",
       "2                    -0.104438   1.947498       -0.485344   \n",
       "3                     2.709796  -0.164470       -1.805832   \n",
       "4                    -0.104438  -0.167729       -1.543751   \n",
       "\n",
       "   dst_host_same_src_port_rate  dst_host_diff_srv_rate     count       hot  \\\n",
       "0                    -0.480197               -0.121485  1.265346 -0.140747   \n",
       "1                    -0.480197               -0.121485  0.453176 -0.140747   \n",
       "2                     1.493939               -0.227350 -0.725780 -0.140747   \n",
       "3                     2.756092               -0.439078 -0.725780 -0.140747   \n",
       "4                    -0.383108                0.460769 -0.725780 -0.140747   \n",
       "\n",
       "   protocol_type_tcp  srv_count  dst_host_rerror_rate  dst_host_srv_count  \\\n",
       "0                  1  -0.245774              2.874410           -0.954389   \n",
       "1                  1  -0.371789              2.874410           -1.035688   \n",
       "2                  1  -0.371789             -0.387635           -0.267863   \n",
       "3                  0   0.524319             -0.387635           -0.529827   \n",
       "4                  1  -0.273777              2.319862           -0.267863   \n",
       "\n",
       "   logged  attack_class  dt_attack_class  Knn_attack_class  xg_attack_class  \n",
       "0       0             1                1                 1                1  \n",
       "1       0             1                1                 1                1  \n",
       "2       0             0                0                 0                0  \n",
       "3       0             2                2                 2                2  \n",
       "4       0             2                2                 0                0  "
      ]
     },
     "execution_count": 111,
     "metadata": {},
     "output_type": "execute_result"
    }
   ],
   "source": [
    "#Making final predictions on provided test dataset\n",
    "test_final2 = test[X]\n",
    "test_final2['attack_class'] = test['attack_class']\n",
    "test_final2['dt_attack_class'] = dt2.predict(test_final2[X])\n",
    "test_final2['Knn_attack_class'] = knn_clf2.predict(test_final2[X])\n",
    "test_final2['xg_attack_class'] = xg2.predict(test_final2[X])\n",
    "\n",
    "\n",
    "test_final2.to_excel(output, 'Final Predictions2')\n",
    "\n",
    "#Final Predictions\n",
    "test_final2.head()"
   ]
  },
  {
   "cell_type": "code",
   "execution_count": 112,
   "metadata": {},
   "outputs": [],
   "source": [
    "#Accuracy of prediction on provided test dataset\n",
    "test_acc_dt2 = metrics.accuracy_score(test_final2['attack_class'], test_final2['dt_attack_class'])\n",
    "test_acc_knn2 = metrics.accuracy_score(test_final2['attack_class'], test_final2['Knn_attack_class'])\n",
    "test_acc_xg2 = metrics.accuracy_score(test_final2['attack_class'], test_final2['xg_attack_class'])\n",
    "\n",
    "\n",
    "test_auc_dt2 = metrics.roc_auc_score(test_final2['attack_class'], dt2.predict_proba(test_final2[X]),multi_class = 'ovr')\n",
    "test_auc_knn2 = metrics.roc_auc_score(test_final2['attack_class'],knn_clf2.predict_proba(test_final2[X]),multi_class = 'ovr')\n",
    "test_auc_xg2 = metrics.roc_auc_score(test_final2['attack_class'], xg2.predict_proba(test_final2[X]),multi_class = 'ovr')\n",
    "\n",
    "\n",
    "test_metric2 = pd.DataFrame({'Classifiers' : [ 'DecisionTreeClassifier','KNNclassifier' ,'XGBClassifier' ],\n",
    "                        'Accuracy %' : [test_acc_dt2,test_acc_knn2, test_acc_xg2 ],\n",
    "                        'ROC_AUC_Score %' : [test_auc_dt2,test_auc_xg2 , test_auc_xg2],    \n",
    "                        })"
   ]
  },
  {
   "cell_type": "code",
   "execution_count": 113,
   "metadata": {},
   "outputs": [
    {
     "data": {
      "text/html": [
       "<div>\n",
       "<style scoped>\n",
       "    .dataframe tbody tr th:only-of-type {\n",
       "        vertical-align: middle;\n",
       "    }\n",
       "\n",
       "    .dataframe tbody tr th {\n",
       "        vertical-align: top;\n",
       "    }\n",
       "\n",
       "    .dataframe thead th {\n",
       "        text-align: right;\n",
       "    }\n",
       "</style>\n",
       "<table border=\"1\" class=\"dataframe\">\n",
       "  <thead>\n",
       "    <tr style=\"text-align: right;\">\n",
       "      <th></th>\n",
       "      <th>Classifiers</th>\n",
       "      <th>Accuracy %</th>\n",
       "      <th>ROC_AUC_Score %</th>\n",
       "    </tr>\n",
       "  </thead>\n",
       "  <tbody>\n",
       "    <tr>\n",
       "      <th>0</th>\n",
       "      <td>DecisionTreeClassifier</td>\n",
       "      <td>75.70</td>\n",
       "      <td>71.76</td>\n",
       "    </tr>\n",
       "    <tr>\n",
       "      <th>1</th>\n",
       "      <td>KNNclassifier</td>\n",
       "      <td>74.84</td>\n",
       "      <td>92.21</td>\n",
       "    </tr>\n",
       "    <tr>\n",
       "      <th>2</th>\n",
       "      <td>XGBClassifier</td>\n",
       "      <td>75.06</td>\n",
       "      <td>92.21</td>\n",
       "    </tr>\n",
       "  </tbody>\n",
       "</table>\n",
       "</div>"
      ],
      "text/plain": [
       "              Classifiers  Accuracy %  ROC_AUC_Score %\n",
       "0  DecisionTreeClassifier       75.70            71.76\n",
       "1           KNNclassifier       74.84            92.21\n",
       "2           XGBClassifier       75.06            92.21"
      ]
     },
     "execution_count": 113,
     "metadata": {},
     "output_type": "execute_result"
    }
   ],
   "source": [
    "test_metric2[['Accuracy %','ROC_AUC_Score %']] = test_metric2[['Accuracy %', 'ROC_AUC_Score %']].applymap(lambda x : round((x*100),2))\n",
    "test_metric2"
   ]
  },
  {
   "cell_type": "code",
   "execution_count": 114,
   "metadata": {},
   "outputs": [
    {
     "data": {
      "image/png": "[encoded data removed]",
      "text/plain": [
       "<Figure size 432x288 with 1 Axes>"
      ]
     },
     "metadata": {
      "needs_background": "light"
     },
     "output_type": "display_data"
    }
   ],
   "source": [
    "test_metric2.plot(x = 'Classifiers', y = ['Accuracy %','ROC_AUC_Score %'], kind = 'barh')\n",
    "plt.legend(loc = 2)\n",
    "plt.show()"
   ]
  },
  {
   "cell_type": "code",
   "execution_count": 115,
   "metadata": {},
   "outputs": [
    {
     "data": {
      "text/plain": [
       "<bound method _XlsxWriter.save of <pandas.io.excel._XlsxWriter object at 0x7fb93020fc88>>"
      ]
     },
     "execution_count": 115,
     "metadata": {},
     "output_type": "execute_result"
    }
   ],
   "source": [
    "output.save"
   ]
  },
  {
   "cell_type": "code",
   "execution_count": null,
   "metadata": {},
   "outputs": [],
   "source": []
  },
  {
   "cell_type": "code",
   "execution_count": null,
   "metadata": {},
   "outputs": [],
   "source": []
  }
 ],
 "metadata": {
  "kernelspec": {
   "display_name": "Python 3",
   "language": "python",
   "name": "python3"
  },
  "language_info": {
   "codemirror_mode": {
    "name": "ipython",
    "version": 3
   },
   "file_extension": ".py",
   "mimetype": "text/x-python",
   "name": "python",
   "nbconvert_exporter": "python",
   "pygments_lexer": "ipython3",
   "version": "3.7.6"
  }
 },
 "nbformat": 4,
 "nbformat_minor": 4
}
